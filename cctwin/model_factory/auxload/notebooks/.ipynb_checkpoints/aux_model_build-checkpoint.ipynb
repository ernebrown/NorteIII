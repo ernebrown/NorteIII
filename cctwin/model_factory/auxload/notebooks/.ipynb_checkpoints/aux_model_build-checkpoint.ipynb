{
 "cells": [
  {
   "cell_type": "code",
   "execution_count": null,
   "metadata": {
    "colab": {},
    "colab_type": "code",
    "id": "nAucBDX1xDeL",
    "pycharm": {
     "is_executing": false
    }
   },
   "outputs": [],
   "source": [
    "'''\n",
    "Data munging libraries\n",
    "\n",
    "'''\n",
    "\n",
    "import pandas as pd\n",
    "'''\n",
    "Visualization Libraries\n",
    "\n",
    "'''\n",
    "import seaborn as sns\n",
    "%matplotlib inline\n",
    "#%matplotlib notebook\n",
    "pd.set_option('display.max_columns', 100)\n",
    "pd.set_option('display.precision', 2) \n",
    "from bokeh.plotting import figure,  show\n",
    "from bokeh.io import output_notebook\n",
    "\n",
    "'''\n",
    "ML libraries\n",
    "\n",
    "'''\n",
    "import joblib\n",
    "from sklearn.linear_model import LinearRegression"
   ]
  },
  {
   "cell_type": "markdown",
   "metadata": {},
   "source": [
    "# Define file name of model_data"
   ]
  },
  {
   "cell_type": "code",
   "execution_count": null,
   "metadata": {
    "pycharm": {
     "is_executing": false
    }
   },
   "outputs": [],
   "source": [
    "file_name_model_data = \"../model_data/aux_model_data.gzip\""
   ]
  },
  {
   "cell_type": "code",
   "execution_count": null,
   "metadata": {
    "colab": {},
    "colab_type": "code",
    "id": "mJjUT61gxDea",
    "pycharm": {
     "is_executing": false
    }
   },
   "outputs": [],
   "source": [
    "model_df=pd.read_csv(file_name_model_data, compression='gzip' ,encoding=\"ISO-8859-2\",low_memory=False)"
   ]
  },
  {
   "cell_type": "code",
   "execution_count": null,
   "metadata": {
    "pycharm": {
     "is_executing": false
    }
   },
   "outputs": [],
   "source": [
    "model_df.describe()"
   ]
  },
  {
   "cell_type": "code",
   "execution_count": null,
   "metadata": {
    "pycharm": {
     "is_executing": false
    }
   },
   "outputs": [],
   "source": [
    "model_df.columns"
   ]
  },
  {
   "cell_type": "code",
   "execution_count": null,
   "metadata": {
    "colab": {},
    "colab_type": "code",
    "id": "8Ng-SzoKxDez",
    "pycharm": {
     "is_executing": false
    }
   },
   "outputs": [],
   "source": [
    "mw1='GT8 Generator Watts Max Selected {Avg}'\n",
    "mw2='GT9 Generator Watts Max Selected {Avg}'\n",
    "std1='GT8 Generator Watts Max Selected {StdDev}'\n",
    "std2='GT9 Generator Watts Max Selected {StdDev}'\n",
    "stgmw='STG gross mw {Avg}'\n",
    "stgmwstd='STG gross mw {StdDev}'\n",
    "chiller1='CHILLER PLANT 2 PLC ENABLE {Sample}'\n",
    "chiller2='CHILLER PLANT 2 PLC ENABLE {Sample}'\n",
    "coldflow1='FE-501 CHW FLOW to GT 8 Inlet {Avg}'\n",
    "coldflow2='FE-501 CHW FLOW to GT 9 Inlet {Avg}'\n",
    "tempin1='TT-501A CHW Supply to GT 8 Inlet Temperature  {Avg}'\n",
    "tempin2='TT-501A CHW Supply to GT 9 Inlet Temperature  {Avg}'\n",
    "tempout1='TT-501B CHW Return from GT 8 Inlet Temperature {Avg}'\n",
    "tempout2='TT-501B CHW Return from GT 9 Inlet Temperature {Avg}'\n",
    "netmw='Total Plant Net MW {Avg}'\n",
    "gross='Gross Power'\n",
    "aux='Aux Load'\n",
    "dt1='GT 8 delta T'\n",
    "dt2='GT 9 delta T'\n",
    "gt1on='GT8 Online'\n",
    "gt2on='GT9 Online'\n",
    "mode='Mode of Operation'\n",
    "igv1='GT8 IGV angle in deg {Avg}'\n",
    "igv2='GT9 IGV angle in deg {Avg}'\n",
    "ambtemp='SITE AMBIENT CONDITIONS TEMPERATURE {Avg}'"
   ]
  },
  {
   "cell_type": "code",
   "execution_count": null,
   "metadata": {
    "pycharm": {
     "is_executing": false
    }
   },
   "outputs": [],
   "source": [
    "def noneg(x):\n",
    "    if x<2:\n",
    "        return 0\n",
    "    return x"
   ]
  },
  {
   "cell_type": "code",
   "execution_count": null,
   "metadata": {
    "pycharm": {
     "is_executing": false
    }
   },
   "outputs": [],
   "source": [
    "model_df[mw1]=model_df[mw1].apply(noneg)\n",
    "model_df[mw2]=model_df[mw2].apply(noneg)\n",
    "model_df[stgmw]=model_df[stgmw].apply(noneg)"
   ]
  },
  {
   "cell_type": "code",
   "execution_count": null,
   "metadata": {
    "pycharm": {
     "is_executing": false
    }
   },
   "outputs": [],
   "source": [
    "mw_df=model_df[(model_df[stgmw]>20)& (model_df[stgmwstd]<=3)].reset_index(drop=True)"
   ]
  },
  {
   "cell_type": "code",
   "execution_count": null,
   "metadata": {
    "pycharm": {
     "is_executing": false
    }
   },
   "outputs": [],
   "source": [
    "mw_df[aux]=mw_df[mw1]+mw_df[mw2]+mw_df[stgmw]-mw_df[netmw]"
   ]
  },
  {
   "cell_type": "code",
   "execution_count": null,
   "metadata": {
    "pycharm": {
     "is_executing": false
    }
   },
   "outputs": [],
   "source": [
    "mw_df[[aux,netmw]].describe()"
   ]
  },
  {
   "cell_type": "code",
   "execution_count": null,
   "metadata": {
    "pycharm": {
     "is_executing": false
    }
   },
   "outputs": [],
   "source": [
    "mw_df[[chiller1,chiller2]]=mw_df[[chiller1,chiller2]].astype(int)"
   ]
  },
  {
   "cell_type": "code",
   "execution_count": null,
   "metadata": {
    "pycharm": {
     "is_executing": false
    }
   },
   "outputs": [],
   "source": [
    "aux_df=mw_df[(mw_df[chiller1]==0) & (mw_df[chiller2]==0)].reset_index(drop=True)"
   ]
  },
  {
   "cell_type": "code",
   "execution_count": null,
   "metadata": {
    "pycharm": {
     "is_executing": false
    }
   },
   "outputs": [],
   "source": [
    "aux_df[dt1]=aux_df[tempout1]-aux_df[tempin1]\n",
    "aux_df[dt2]=aux_df[tempout2]-aux_df[tempin2]"
   ]
  },
  {
   "cell_type": "code",
   "execution_count": null,
   "metadata": {
    "pycharm": {
     "is_executing": false
    }
   },
   "outputs": [],
   "source": [
    "aux_df=aux_df[(aux_df[dt1]<4) & (aux_df[dt2]<4)].reset_index(drop=True)"
   ]
  },
  {
   "cell_type": "code",
   "execution_count": null,
   "metadata": {
    "pycharm": {
     "is_executing": false
    }
   },
   "outputs": [],
   "source": [
    "aux_df[gross]=aux_df[mw1]+aux_df[mw2]+aux_df[stgmw]"
   ]
  },
  {
   "cell_type": "code",
   "execution_count": null,
   "metadata": {
    "pycharm": {
     "is_executing": false
    }
   },
   "outputs": [],
   "source": [
    "sns.lmplot(x=gross, y=aux, data=aux_df, height=8,fit_reg=False,scatter_kws={\"s\": 25},\n",
    "           line_kws={\"color\":\"black\",\"linewidth\":4},ci=None)"
   ]
  },
  {
   "cell_type": "code",
   "execution_count": null,
   "metadata": {
    "colab": {},
    "colab_type": "code",
    "id": "tSPeaRdMxDe8",
    "pycharm": {
     "is_executing": false
    }
   },
   "outputs": [],
   "source": [
    "aux_df=aux_df[(aux_df[aux]<25)&(aux_df[aux]>2)].reset_index(drop=True)"
   ]
  },
  {
   "cell_type": "code",
   "execution_count": null,
   "metadata": {
    "pycharm": {
     "is_executing": false
    }
   },
   "outputs": [],
   "source": [
    "sns.lmplot(x=gross, y=aux, data=aux_df, height=8,fit_reg=False,scatter_kws={\"s\": 25},\n",
    "           line_kws={\"color\":\"black\",\"linewidth\":4},ci=None)"
   ]
  },
  {
   "cell_type": "code",
   "execution_count": null,
   "metadata": {
    "pycharm": {
     "is_executing": false
    }
   },
   "outputs": [],
   "source": [
    "aux_df[gt1on]=aux_df[mw1].apply(lambda x:0 if x==0 else 1)\n",
    "aux_df[gt2on]=aux_df[mw2].apply(lambda x:0 if x==0 else 1)"
   ]
  },
  {
   "cell_type": "code",
   "execution_count": null,
   "metadata": {
    "pycharm": {
     "is_executing": false
    }
   },
   "outputs": [],
   "source": [
    "aux_df[mode]=aux_df[gt1on]+aux_df[gt2on]"
   ]
  },
  {
   "cell_type": "code",
   "execution_count": null,
   "metadata": {
    "pycharm": {
     "is_executing": false
    }
   },
   "outputs": [],
   "source": [
    "# 1x1 data set only\n",
    "aux1x1df=aux_df[aux_df[mode]==1].reset_index(drop=True)\n",
    "X,y=aux1x1df[[mw1,mw2,stgmw]].values,aux1x1df[aux].values\n",
    "aux1x1_lm=LinearRegression()\n",
    "aux1x1_lm.fit(X,y)\n",
    "aux_pred=aux1x1_lm.predict(X)"
   ]
  },
  {
   "cell_type": "code",
   "execution_count": null,
   "metadata": {
    "pycharm": {
     "is_executing": false
    }
   },
   "outputs": [],
   "source": [
    "output_notebook()\n",
    "t1 = figure(plot_width=350, plot_height=350,title=\"actua vs pred\", x_axis_label='actual', \n",
    "            y_axis_label='Pred')\n",
    "t1.scatter(y, aux_pred)\n",
    "\n",
    "show(t1)"
   ]
  },
  {
   "cell_type": "code",
   "execution_count": null,
   "metadata": {
    "pycharm": {
     "is_executing": false
    }
   },
   "outputs": [],
   "source": [
    "# 1x1 data set only\n",
    "aux2x1df=aux_df[(aux_df[mode]==2)&(aux_df[aux]>=7.5)].reset_index(drop=True)\n",
    "X,y=aux2x1df[[mw1,mw2,stgmw]].values,aux2x1df[aux].values\n",
    "aux2x1_lm=LinearRegression()\n",
    "aux2x1_lm.fit(X,y)\n",
    "aux_pred=aux2x1_lm.predict(X)"
   ]
  },
  {
   "cell_type": "code",
   "execution_count": null,
   "metadata": {
    "pycharm": {
     "is_executing": false
    }
   },
   "outputs": [],
   "source": [
    "output_notebook()\n",
    "t1 = figure(plot_width=350, plot_height=350,title=\"actua vs pred\", x_axis_label='actual', \n",
    "            y_axis_label='Pred')\n",
    "t1.scatter(y, aux_pred)\n",
    "\n",
    "show(t1)"
   ]
  },
  {
   "cell_type": "code",
   "execution_count": null,
   "metadata": {
    "pycharm": {
     "is_executing": false
    }
   },
   "outputs": [],
   "source": [
    "## write base model to pickle file\n",
    "\n",
    "pkl = \"../../../pickles/auxload.pkl\"\n",
    "models = {'1x1<aux_load><ctg8_mw|ctg9_mw|stg1_mw>'         :aux1x1_lm,\n",
    "          '2x1<aux_load><ctg8_mw|ctg9_mw|stg1_mw>'         :aux2x1_lm                   \n",
    "         }\n",
    "with open(pkl, \"wb\") as f:\n",
    "    joblib.dump(models, f)\n",
    "    print(f'{f.name}')"
   ]
  },
  {
   "cell_type": "code",
   "execution_count": null,
   "metadata": {
    "pycharm": {
     "is_executing": false
    }
   },
   "outputs": [],
   "source": []
  }
 ],
 "metadata": {
  "colab": {
   "name": "CTG_Ranf.ipynb",
   "provenance": [],
   "version": "0.3.2"
  },
  "kernelspec": {
   "display_name": "Python 3",
   "language": "python",
   "name": "python3"
  },
  "language_info": {
   "codemirror_mode": {
    "name": "ipython",
    "version": 3
   },
   "file_extension": ".py",
   "mimetype": "text/x-python",
   "name": "python",
   "nbconvert_exporter": "python",
   "pygments_lexer": "ipython3",
   "version": "3.7.1"
  },
  "pycharm": {
   "stem_cell": {
    "cell_type": "raw",
    "metadata": {
     "collapsed": false
    },
    "source": []
   }
  },
  "varInspector": {
   "cols": {
    "lenName": 16,
    "lenType": 16,
    "lenVar": 40
   },
   "kernels_config": {
    "python": {
     "delete_cmd_postfix": "",
     "delete_cmd_prefix": "del ",
     "library": "var_list.py",
     "varRefreshCmd": "print(var_dic_list())"
    },
    "r": {
     "delete_cmd_postfix": ") ",
     "delete_cmd_prefix": "rm(",
     "library": "var_list.r",
     "varRefreshCmd": "cat(var_dic_list()) "
    }
   },
   "oldHeight": 284,
   "position": {
    "height": "283px",
    "left": "1050px",
    "right": "20px",
    "top": "120px",
    "width": "350px"
   },
   "types_to_exclude": [
    "module",
    "function",
    "builtin_function_or_method",
    "instance",
    "_Feature"
   ],
   "varInspector_section_display": "block",
   "window_display": false
  }
 },
 "nbformat": 4,
 "nbformat_minor": 1
}
