{
 "cells": [
  {
   "cell_type": "code",
   "execution_count": null,
   "metadata": {
    "colab": {},
    "colab_type": "code",
    "id": "nAucBDX1xDeL",
    "pycharm": {
     "is_executing": false
    }
   },
   "outputs": [],
   "source": [
    "'''\n",
    "Data munging libraries\n",
    "\n",
    "'''\n",
    "import random\n",
    "\n",
    "import numpy as np\n",
    "import pandas as pd\n",
    "import statsmodels.api as sm\n",
    "\n",
    "import joblib\n",
    "'''\n",
    "Visualization Libraries\n",
    "\n",
    "'''\n",
    "import seaborn as sns\n",
    "%matplotlib inline\n",
    "#%matplotlib notebook\n",
    "pd.set_option('display.max_columns', 100)\n",
    "pd.set_option('display.precision', 2) \n",
    "from bokeh.plotting import figure,  show, gridplot\n",
    "from bokeh.io import output_notebook\n",
    "from bokeh.layouts import row, column\n",
    "\n",
    "'''\n",
    "ML libraries\n",
    "\n",
    "'''\n",
    "\n",
    "from sklearn.multioutput import MultiOutputRegressor\n",
    "from sklearn.preprocessing import StandardScaler\n",
    "from sklearn.decomposition import PCA\n",
    "from sklearn.neural_network import MLPRegressor\n",
    "from sklearn.linear_model import LinearRegression, RANSACRegressor\n",
    "from sklearn.model_selection import GridSearchCV, train_test_split, cross_val_score;\n",
    "from sklearn.model_selection import  train_test_split ;\n",
    "from sklearn.pipeline import Pipeline;"
   ]
  },
  {
   "cell_type": "markdown",
   "metadata": {},
   "source": [
    "# Define file name of model_data"
   ]
  },
  {
   "cell_type": "code",
   "execution_count": null,
   "metadata": {
    "pycharm": {
     "is_executing": false
    }
   },
   "outputs": [],
   "source": [
    "file_name_model_data = \"../model_data/aux_model_data.gzip\""
   ]
  },
  {
   "cell_type": "code",
   "execution_count": null,
   "metadata": {
    "colab": {},
    "colab_type": "code",
    "id": "mJjUT61gxDea",
    "pycharm": {
     "is_executing": false
    }
   },
   "outputs": [],
   "source": [
    "model_df=pd.read_csv(file_name_model_data, compression='gzip' ,encoding=\"ISO-8859-2\",low_memory=False)"
   ]
  },
  {
   "cell_type": "code",
   "execution_count": null,
   "metadata": {
    "pycharm": {
     "is_executing": false
    }
   },
   "outputs": [],
   "source": [
    "model_df.describe()"
   ]
  },
  {
   "cell_type": "code",
   "execution_count": null,
   "metadata": {
    "pycharm": {
     "is_executing": false
    }
   },
   "outputs": [],
   "source": [
    "model_df.columns"
   ]
  },
  {
   "cell_type": "code",
   "execution_count": null,
   "metadata": {
    "colab": {},
    "colab_type": "code",
    "id": "8Ng-SzoKxDez",
    "pycharm": {
     "is_executing": false
    }
   },
   "outputs": [],
   "source": [
    "mw1='GT3 Generator Watts Max Selected {Avg}'\n",
    "mw2='GT4 Generator Watts Max Selected {Avg}'\n",
    "std1='GT3 Generator Watts Max Selected {StdDev}'\n",
    "std2='GT4 Generator Watts Max Selected {StdDev}'\n",
    "stgmw='STG gross mw {Avg}'\n",
    "stgmwstd='STG gross mw {StdDev}'\n",
    "chiller1='CHILLER PLANT 2 PLC ENABLE {Sample}'\n",
    "chiller2='CHILLER PLANT 2 PLC ENABLE {Sample}'\n",
    "coldflow1='FE-501 CHW FLOW to GT 8 Inlet {Avg}'\n",
    "coldflow2='FE-501 CHW FLOW to GT 9 Inlet {Avg}'\n",
    "tempin1='Chiller 3 TT-501A CHW Supply Temperature (Out of Chiller) {Avg}'\n",
    "tempin2='Chiller 4 TT-502A CHW Supply Temperature (Out of Chiller) {Avg}'\n",
    "tempout1='Chiller 3 TT-501B CHW Return Temperature (Into Chiller) {Avg}'\n",
    "tempout2='Chiller 4 TT-502B CHW Return Temperature (Into Chiller) {Avg}'\n",
    "netmw='Total Plant Net MW {Avg}'\n",
    "gross='Gross Power'\n",
    "aux='Aux Load'\n",
    "dt1='GT 3 delta T'\n",
    "dt2='GT 4 delta T'\n",
    "gt1on='GT3 Online'\n",
    "gt2on='GT4 Online'\n",
    "mode='Mode of Operation'"
   ]
  },
  {
   "cell_type": "code",
   "execution_count": null,
   "metadata": {
    "pycharm": {
     "is_executing": false
    }
   },
   "outputs": [],
   "source": [
    "def noneg(x):\n",
    "    if x<2:\n",
    "        return 0\n",
    "    return x"
   ]
  },
  {
   "cell_type": "code",
   "execution_count": null,
   "metadata": {
    "pycharm": {
     "is_executing": false
    }
   },
   "outputs": [],
   "source": [
    "model_df[mw1]=model_df[mw1].apply(noneg)\n",
    "model_df[mw2]=model_df[mw2].apply(noneg)\n",
    "model_df[stgmw]=model_df[stgmw].apply(noneg)"
   ]
  },
  {
   "cell_type": "code",
   "execution_count": null,
   "metadata": {
    "pycharm": {
     "is_executing": false
    }
   },
   "outputs": [],
   "source": [
    "mw_df=model_df[(model_df[stgmw]>20)& (model_df[stgmwstd]<=3)].reset_index(drop=True)"
   ]
  },
  {
   "cell_type": "code",
   "execution_count": null,
   "metadata": {
    "pycharm": {
     "is_executing": false
    }
   },
   "outputs": [],
   "source": [
    "mw_df[aux]=mw_df[mw1]+mw_df[mw2]+mw_df[stgmw]-mw_df[netmw]"
   ]
  },
  {
   "cell_type": "code",
   "execution_count": null,
   "metadata": {
    "pycharm": {
     "is_executing": false
    }
   },
   "outputs": [],
   "source": [
    "mw_df[[aux,netmw]].describe()"
   ]
  },
  {
   "cell_type": "code",
   "execution_count": null,
   "metadata": {
    "pycharm": {
     "is_executing": false
    }
   },
   "outputs": [],
   "source": [
    "mw_df[[chiller1,chiller2]]=mw_df[[chiller1,chiller2]].astype(int)"
   ]
  },
  {
   "cell_type": "code",
   "execution_count": null,
   "metadata": {
    "pycharm": {
     "is_executing": false
    }
   },
   "outputs": [],
   "source": [
    "aux_df=mw_df[(mw_df[chiller1]==0) & (mw_df[chiller2]==0)].reset_index(drop=True)"
   ]
  },
  {
   "cell_type": "code",
   "execution_count": null,
   "metadata": {
    "pycharm": {
     "is_executing": false
    }
   },
   "outputs": [],
   "source": [
    "aux_df[dt1]=abs(aux_df[tempout1]-aux_df[tempin1])\n",
    "aux_df[dt2]=abs(aux_df[tempout2]-aux_df[tempin2])"
   ]
  },
  {
   "cell_type": "code",
   "execution_count": null,
   "metadata": {
    "pycharm": {
     "is_executing": false
    }
   },
   "outputs": [],
   "source": [
    "aux_df=aux_df[(aux_df[dt1]<4) & (aux_df[dt2]<4)].reset_index(drop=True)"
   ]
  },
  {
   "cell_type": "code",
   "execution_count": null,
   "metadata": {
    "pycharm": {
     "is_executing": false
    }
   },
   "outputs": [],
   "source": [
    "aux_df[gross]=aux_df[mw1]+aux_df[mw2]+aux_df[stgmw]"
   ]
  },
  {
   "cell_type": "code",
   "execution_count": null,
   "metadata": {
    "pycharm": {
     "is_executing": false
    }
   },
   "outputs": [],
   "source": [
    "sns.lmplot(x=gross, y=aux, data=aux_df, height=8,fit_reg=False,scatter_kws={\"s\": 25},\n",
    "           line_kws={\"color\":\"black\",\"linewidth\":4},ci=None)"
   ]
  },
  {
   "cell_type": "code",
   "execution_count": null,
   "metadata": {
    "colab": {},
    "colab_type": "code",
    "id": "tSPeaRdMxDe8",
    "pycharm": {
     "is_executing": false
    }
   },
   "outputs": [],
   "source": [
    "aux_df=aux_df[(aux_df[aux]<25)&(aux_df[aux]>2)].reset_index(drop=True)"
   ]
  },
  {
   "cell_type": "code",
   "execution_count": null,
   "metadata": {
    "pycharm": {
     "is_executing": false
    }
   },
   "outputs": [],
   "source": [
    "sns.lmplot(x=gross, y=aux, data=aux_df, height=8,fit_reg=False,scatter_kws={\"s\": 25},\n",
    "           line_kws={\"color\":\"black\",\"linewidth\":4},ci=None)"
   ]
  },
  {
   "cell_type": "code",
   "execution_count": null,
   "metadata": {
    "pycharm": {
     "is_executing": false
    }
   },
   "outputs": [],
   "source": [
    "aux_df[gt1on]=aux_df[mw1].apply(lambda x:0 if x==0 else 1)\n",
    "aux_df[gt2on]=aux_df[mw2].apply(lambda x:0 if x==0 else 1)"
   ]
  },
  {
   "cell_type": "code",
   "execution_count": null,
   "metadata": {
    "pycharm": {
     "is_executing": false
    }
   },
   "outputs": [],
   "source": [
    "aux_df[mode]=aux_df[gt1on]+aux_df[gt2on]"
   ]
  },
  {
   "cell_type": "code",
   "execution_count": null,
   "metadata": {},
   "outputs": [],
   "source": [
    "# def adjust_aux(modaux,add1=1,add2=0):\n",
    "#     if modaux[0]>1:\n",
    "#         newaux=modaux[1]-add2\n",
    "#     else:\n",
    "#         newaux=modaux[1]+add1\n",
    "#     return newaux"
   ]
  },
  {
   "cell_type": "code",
   "execution_count": null,
   "metadata": {},
   "outputs": [],
   "source": [
    "#aux_df['newaux']=aux_df[[mode,aux]].apply(lambda x:adjust_aux(x,add1=1,add2=1.5),axis=1)"
   ]
  },
  {
   "cell_type": "code",
   "execution_count": null,
   "metadata": {},
   "outputs": [],
   "source": [
    "#aux_df['newaux']"
   ]
  },
  {
   "cell_type": "code",
   "execution_count": null,
   "metadata": {},
   "outputs": [],
   "source": [
    "#sns.lmplot(x=gross, y='newaux', data=aux_df, height=8,fit_reg=False,scatter_kws={\"s\": 25},\n",
    "  #         line_kws={\"color\":\"black\",\"linewidth\":4},ci=None)"
   ]
  },
  {
   "cell_type": "code",
   "execution_count": null,
   "metadata": {},
   "outputs": [],
   "source": [
    "def model_pca(pca_frac=None,layers=(40,40),es=True,n_iter=200,tol=0.0001,patience=10,random=2301):\n",
    "    ppl=Pipeline([('scaler',StandardScaler()),('pca',PCA(n_components=pca_frac,random_state=random)),\n",
    "                  ('estimator',MLPRegressor(hidden_layer_sizes=layers,\n",
    "                                            early_stopping=es,\n",
    "                                            tol=tol,max_iter=n_iter,random_state=random,n_iter_no_change=patience))\n",
    "                 ])\n",
    "    return ppl"
   ]
  },
  {
   "cell_type": "code",
   "execution_count": null,
   "metadata": {
    "pycharm": {
     "is_executing": false
    }
   },
   "outputs": [],
   "source": [
    "# 1x1 data set only\n",
    "aux1x1df=aux_df[(aux_df[mode]==1)&(aux_df[aux]>3.5)].reset_index(drop=True)\n",
    "X,y=aux1x1df[[mw1,mw2,stgmw]].values,aux1x1df[aux].values\n",
    "aux1x1_=model_pca(n_iter=500)\n",
    "aux1x1_.fit(X,y)\n",
    "aux_pred=aux1x1_.predict(X)"
   ]
  },
  {
   "cell_type": "code",
   "execution_count": null,
   "metadata": {
    "pycharm": {
     "is_executing": false
    }
   },
   "outputs": [],
   "source": [
    "output_notebook()\n",
    "t1 = figure(plot_width=350, plot_height=350,title=\"actua vs pred\", x_axis_label='actual', \n",
    "            y_axis_label='Pred')\n",
    "t1.scatter(y, aux_pred)\n",
    "\n",
    "show(t1)"
   ]
  },
  {
   "cell_type": "code",
   "execution_count": null,
   "metadata": {
    "pycharm": {
     "is_executing": false
    }
   },
   "outputs": [],
   "source": [
    "# 1x1 data set only\n",
    "aux2x1df=aux_df[(aux_df[mode]==2)&(aux_df[aux]>=7.5)].reset_index(drop=True)\n",
    "X,y=aux2x1df[[mw1,mw2,stgmw]].values,aux2x1df[aux].values\n",
    "aux2x1_=model_pca(n_iter=500)\n",
    "aux2x1_.fit(X,y)\n",
    "aux_pred=aux2x1_.predict(X)"
   ]
  },
  {
   "cell_type": "code",
   "execution_count": null,
   "metadata": {
    "pycharm": {
     "is_executing": false
    }
   },
   "outputs": [],
   "source": [
    "output_notebook()\n",
    "t1 = figure(plot_width=350, plot_height=350,title=\"actua vs pred\", x_axis_label='actual', \n",
    "            y_axis_label='Pred')\n",
    "t1.scatter(y, aux_pred)\n",
    "\n",
    "show(t1)"
   ]
  },
  {
   "cell_type": "code",
   "execution_count": null,
   "metadata": {
    "pycharm": {
     "is_executing": false
    }
   },
   "outputs": [],
   "source": [
    "## write base model to pickle file\n",
    "\n",
    "pkl = \"../../../pickles/auxload.pkl\"\n",
    "models = {'1x1<aux_load><ctg3_mw|ctg4_mw|stg1_mw>'         :aux1x1_,\n",
    "          '2x1<aux_load><ctg3_mw|ctg4_mw|stg1_mw>'         :aux2x1_                   \n",
    "         }\n",
    "with open(pkl, \"wb\") as f:\n",
    "    joblib.dump(models, f)\n",
    "    print(f'{f.name}')"
   ]
  },
  {
   "cell_type": "code",
   "execution_count": null,
   "metadata": {
    "pycharm": {
     "is_executing": false
    }
   },
   "outputs": [],
   "source": []
  }
 ],
 "metadata": {
  "colab": {
   "name": "CTG_Ranf.ipynb",
   "provenance": [],
   "version": "0.3.2"
  },
  "kernelspec": {
   "display_name": "Python 3",
   "language": "python",
   "name": "python3"
  },
  "language_info": {
   "codemirror_mode": {
    "name": "ipython",
    "version": 3
   },
   "file_extension": ".py",
   "mimetype": "text/x-python",
   "name": "python",
   "nbconvert_exporter": "python",
   "pygments_lexer": "ipython3",
   "version": "3.6.7"
  },
  "pycharm": {
   "stem_cell": {
    "cell_type": "raw",
    "metadata": {
     "collapsed": false
    },
    "source": []
   }
  },
  "varInspector": {
   "cols": {
    "lenName": 16,
    "lenType": 16,
    "lenVar": 40
   },
   "kernels_config": {
    "python": {
     "delete_cmd_postfix": "",
     "delete_cmd_prefix": "del ",
     "library": "var_list.py",
     "varRefreshCmd": "print(var_dic_list())"
    },
    "r": {
     "delete_cmd_postfix": ") ",
     "delete_cmd_prefix": "rm(",
     "library": "var_list.r",
     "varRefreshCmd": "cat(var_dic_list()) "
    }
   },
   "oldHeight": 284,
   "position": {
    "height": "283px",
    "left": "1050px",
    "right": "20px",
    "top": "120px",
    "width": "350px"
   },
   "types_to_exclude": [
    "module",
    "function",
    "builtin_function_or_method",
    "instance",
    "_Feature"
   ],
   "varInspector_section_display": "block",
   "window_display": false
  }
 },
 "nbformat": 4,
 "nbformat_minor": 1
}
