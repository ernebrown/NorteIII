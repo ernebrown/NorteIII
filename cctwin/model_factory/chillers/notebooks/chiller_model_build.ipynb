{
 "cells": [
  {
   "cell_type": "code",
   "execution_count": null,
   "metadata": {
    "pycharm": {
     "is_executing": false
    }
   },
   "outputs": [],
   "source": [
    "import pandas as pd\n",
    "from bokeh.layouts import row\n",
    "from bokeh.plotting import figure, output_notebook, show\n",
    "from sklearn.ensemble import RandomForestRegressor\n",
    "import joblib\n",
    "from sklearn.preprocessing import StandardScaler\n",
    "from sklearn.pipeline import Pipeline\n",
    "from sklearn.neural_network import MLPRegressor\n",
    "import numpy as np;"
   ]
  },
  {
   "cell_type": "code",
   "execution_count": null,
   "metadata": {
    "pycharm": {
     "is_executing": false
    }
   },
   "outputs": [],
   "source": [
    "output_notebook()"
   ]
  },
  {
   "cell_type": "code",
   "execution_count": null,
   "metadata": {
    "pycharm": {
     "is_executing": false
    }
   },
   "outputs": [],
   "source": [
    "file_name_model_data = \"../model_data/SimulatedChillerPerformanceData.gzip\""
   ]
  },
  {
   "cell_type": "code",
   "execution_count": null,
   "metadata": {
    "pycharm": {
     "is_executing": false
    }
   },
   "outputs": [],
   "source": [
    "newTable=pd.read_csv(file_name_model_data, compression='gzip' ,encoding=\"ISO-8859-2\")"
   ]
  },
  {
   "cell_type": "code",
   "execution_count": null,
   "metadata": {
    "pycharm": {
     "is_executing": false
    }
   },
   "outputs": [],
   "source": [
    "newTable[['Db','Avlblty']].describe()"
   ]
  },
  {
   "cell_type": "code",
   "execution_count": null,
   "metadata": {
    "pycharm": {
     "is_executing": false
    }
   },
   "outputs": [],
   "source": [
    "dataTable=newTable[['Db','Rh', 'Baro', 'Avlblty', 'Cit', 'Ton', 'Load', 'EvapIn','EvapOut']]"
   ]
  },
  {
   "cell_type": "code",
   "execution_count": null,
   "metadata": {
    "pycharm": {
     "is_executing": false
    }
   },
   "outputs": [],
   "source": [
    "def auxmw(x,ton,threshold,adder):\n",
    "    if x == 0:\n",
    "        aux=0        \n",
    "        return aux\n",
    "    elif x<= ton:\n",
    "        aux=0.0002*x**2 + 0.0922*x + 252.66 +500*adder\n",
    "    \n",
    "    else:\n",
    "        aux=((0.0002*(threshold)**2 + 0.0922*(threshold) + 252.66)+(0.0002*(x-threshold)**2 + \n",
    "                                                                  0.0922*(x-threshold) + 252.66))+750*adder\n",
    "    return aux"
   ]
  },
  {
   "cell_type": "code",
   "execution_count": null,
   "metadata": {
    "pycharm": {
     "is_executing": false,
     "name": "#%%\n"
    }
   },
   "outputs": [],
   "source": [
    "# Add 1 to 1.5 MW  aux load\n",
    "dataTable['new_Load'] = (dataTable['Ton'].apply(lambda x: auxmw(x,3300,3000,0.5)))/1000"
   ]
  },
  {
   "cell_type": "code",
   "execution_count": null,
   "metadata": {},
   "outputs": [],
   "source": [
    "# aux=dataTable['new_Load']\n",
    "# ton=dataTable['Ton']\n",
    "# output_notebook()\n",
    "# t1 = figure(plot_width=350, plot_height=350,title=\"aux Plot\", x_axis_label='Index', \n",
    "#             y_axis_label='aux')\n",
    "# t1.scatter(ton, aux)\n",
    "# show(t1)"
   ]
  },
  {
   "cell_type": "code",
   "execution_count": null,
   "metadata": {
    "pycharm": {
     "is_executing": false
    }
   },
   "outputs": [],
   "source": [
    "X=dataTable[['Db', 'Rh', 'Baro', 'Avlblty']].values\n",
    "y_cit=dataTable['Cit'].values.reshape(-1,1)\n",
    "y_aux=dataTable['new_Load'].values.reshape(-1,1)\n",
    "y_evap=dataTable['EvapOut'].values.reshape(-1,1)\n",
    "y_ton=dataTable['Ton'].values.reshape(-1,1)"
   ]
  },
  {
   "cell_type": "code",
   "execution_count": null,
   "metadata": {},
   "outputs": [],
   "source": [
    "dataTable[['new_Load','Rh','Avlblty']].describe()"
   ]
  },
  {
   "cell_type": "code",
   "execution_count": null,
   "metadata": {},
   "outputs": [],
   "source": [
    "def model(layers=(40,40),es=True,n_iter=200,tol=0.0001):\n",
    "    ppl=Pipeline([('scaler',StandardScaler()),\n",
    "                  ('estimator',MLPRegressor(hidden_layer_sizes=layers,\n",
    "                                            early_stopping=es,tol=tol,max_iter=n_iter,random_state=2301))\n",
    "                 ])\n",
    "    return ppl"
   ]
  },
  {
   "cell_type": "code",
   "execution_count": null,
   "metadata": {},
   "outputs": [],
   "source": [
    "cit_= model(layers=(80,80,80))\n",
    "cit_=cit_.fit(X,y_cit)"
   ]
  },
  {
   "cell_type": "code",
   "execution_count": null,
   "metadata": {},
   "outputs": [],
   "source": [
    "aux_= model(layers=(80,80,80))\n",
    "aux_=aux_.fit(X,y_aux)"
   ]
  },
  {
   "cell_type": "code",
   "execution_count": null,
   "metadata": {},
   "outputs": [],
   "source": [
    "ton_= model(layers=(100,100,100),es=False,n_iter=50,tol=10)\n",
    "ton_=ton_.fit(X,y_ton)"
   ]
  },
  {
   "cell_type": "code",
   "execution_count": null,
   "metadata": {},
   "outputs": [],
   "source": [
    "evap_= model(es=True)\n",
    "evap_=evap_.fit(X,y_evap)"
   ]
  },
  {
   "cell_type": "code",
   "execution_count": null,
   "metadata": {
    "pycharm": {
     "is_executing": false
    }
   },
   "outputs": [],
   "source": [
    "# cit_pred=cit_.predict(X)\n",
    "# aux_pred=aux_.predict(X)\n",
    "# ton_pred=ton_.predict(X)\n",
    "# '''\n",
    "# creating a new plot with a title and axis labels. \n",
    "# '''\n",
    "# p1 = figure(plot_width=350, plot_height=350,title=\"actual vs predicted CIT\", x_axis_label='actual', \n",
    "#             y_axis_label='predicted')\n",
    "# p2 = figure(plot_width=350, plot_height=350,title=\"actual vs predicted aux\", x_axis_label='actual', \n",
    "#             y_axis_label='predicted')\n",
    "# p3 = figure(plot_width=350, plot_height=350,title=\"actual vs predicted Ton\", x_axis_label='actual', \n",
    "#             y_axis_label='predicted')\n",
    "\n",
    "# p1.scatter(y_cit.reshape(-1),cit_pred),p2.scatter(y_aux.reshape(-1),aux_pred)\n",
    "# p3.scatter(y_ton.reshape(-1),ton_pred)"
   ]
  },
  {
   "cell_type": "code",
   "execution_count": null,
   "metadata": {
    "pycharm": {
     "is_executing": false
    }
   },
   "outputs": [],
   "source": [
    "# show(row(p1,p2,p3))"
   ]
  },
  {
   "cell_type": "code",
   "execution_count": null,
   "metadata": {
    "pycharm": {
     "is_executing": false,
     "name": "#%%\n"
    }
   },
   "outputs": [],
   "source": [
    "pkl = \"../../../pickles/chiller.pkl\"\n",
    "models = {\n",
    "            'chillercit<cit><db|rh|baro|avlblty>'        :cit_,\n",
    "            'chillerload<load><db|rh|baro|avlblty>'      :aux_,\n",
    "            'chillerton<ton><db|rh|baro|avlblty>'        :ton_,\n",
    "            'chillerevap<evap_out><db|rh|baro|avlblty>'  :evap_\n",
    "         }\n",
    "with open(pkl, \"wb\") as f:\n",
    "    joblib.dump(models, f)\n",
    "print(f'{f.name}')\n"
   ]
  },
  {
   "cell_type": "code",
   "execution_count": null,
   "metadata": {},
   "outputs": [],
   "source": [
    "cit_.predict(np.array([95,0.5,14.7,100]).reshape(1,-1))"
   ]
  },
  {
   "cell_type": "code",
   "execution_count": null,
   "metadata": {},
   "outputs": [],
   "source": [
    "ton_.predict(np.array([95,0.5,14.7,6500]).reshape(1,-1))"
   ]
  },
  {
   "cell_type": "code",
   "execution_count": null,
   "metadata": {},
   "outputs": [],
   "source": []
  }
 ],
 "metadata": {
  "kernelspec": {
   "display_name": "Python 3",
   "language": "python",
   "name": "python3"
  },
  "language_info": {
   "codemirror_mode": {
    "name": "ipython",
    "version": 3
   },
   "file_extension": ".py",
   "mimetype": "text/x-python",
   "name": "python",
   "nbconvert_exporter": "python",
   "pygments_lexer": "ipython3",
   "version": "3.7.8"
  },
  "pycharm": {
   "stem_cell": {
    "cell_type": "raw",
    "metadata": {
     "collapsed": false
    },
    "source": []
   }
  }
 },
 "nbformat": 4,
 "nbformat_minor": 2
}
