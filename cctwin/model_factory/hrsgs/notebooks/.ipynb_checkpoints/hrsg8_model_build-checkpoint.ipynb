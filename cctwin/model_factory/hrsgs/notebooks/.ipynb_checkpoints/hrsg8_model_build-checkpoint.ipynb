{
 "cells": [
  {
   "cell_type": "code",
   "execution_count": null,
   "metadata": {
    "colab": {},
    "colab_type": "code",
    "id": "nAucBDX1xDeL",
    "pycharm": {
     "is_executing": false
    }
   },
   "outputs": [],
   "source": [
    "'''\n",
    "Data munging libraries\n",
    "\n",
    "'''\n",
    "import pandas as pd\n",
    "import numpy as np\n",
    "import statsmodels.api as sm\n",
    "import random\n",
    "import joblib\n",
    "'''\n",
    "Visualization Libraries\n",
    "\n",
    "'''\n",
    "import matplotlib.pyplot as plt\n",
    "import seaborn as sns\n",
    "%matplotlib inline\n",
    "#%matplotlib notebook\n",
    "pd.set_option('display.max_columns', 100)\n",
    "pd.set_option('display.precision', 2) \n",
    "from bokeh.plotting import figure, output_notebook, show, gridplot\n",
    "from bokeh.layouts import row\n",
    "from bokeh.io import output_notebook\n",
    "\n",
    "'''\n",
    "ML libraries\n",
    "\n",
    "'''\n",
    "\n",
    "from sklearn.pipeline import make_pipeline, Pipeline\n",
    "from sklearn.metrics import make_scorer, mean_squared_error\n",
    "from sklearn import tree\n",
    "from sklearn.multioutput import MultiOutputRegressor\n",
    "from sklearn.ensemble import GradientBoostingRegressor\n",
    "\n",
    "from sklearn.preprocessing import StandardScaler\n",
    "from sklearn.ensemble import RandomForestRegressor\n",
    "from sklearn.decomposition import PCA\n",
    "from sklearn.linear_model import LinearRegression, RANSACRegressor\n",
    "from sklearn.model_selection import GridSearchCV, train_test_split, cross_val_score;"
   ]
  },
  {
   "cell_type": "markdown",
   "metadata": {},
   "source": [
    "# Define file name of model_data¶"
   ]
  },
  {
   "cell_type": "code",
   "execution_count": null,
   "metadata": {
    "pycharm": {
     "is_executing": false
    }
   },
   "outputs": [],
   "source": [
    "file_name_model_data = \"../model_data/hrsg_model_data.gzip\""
   ]
  },
  {
   "cell_type": "code",
   "execution_count": null,
   "metadata": {
    "pycharm": {
     "is_executing": false
    }
   },
   "outputs": [],
   "source": [
    "model_df=pd.read_csv(file_name_model_data, compression='gzip' ,encoding=\"ISO-8859-2\")"
   ]
  },
  {
   "cell_type": "code",
   "execution_count": null,
   "metadata": {
    "colab": {},
    "colab_type": "code",
    "id": "mJjUT61gxDea",
    "pycharm": {
     "is_executing": false
    }
   },
   "outputs": [],
   "source": [
    "model_df.describe()"
   ]
  },
  {
   "cell_type": "code",
   "execution_count": null,
   "metadata": {
    "pycharm": {
     "is_executing": false
    }
   },
   "outputs": [],
   "source": [
    "mw1='GT8 Generator Watts Max Selected {Avg}'\n",
    "mw2='GT9 Generator Watts Max Selected {Avg}'\n",
    "baro = 'SITE AMBIENT CONDITIONS BARO PRESS XMTR {Avg}'\n",
    "fuel='GT8 Fuel Energy Flow MMBTU'\n",
    "exh = 'GT8 Exhaust Temp Median Corrected By Average {Avg}'\n",
    "std1 = 'GT8 Generator Watts Max Selected {StdDev}'\n",
    "std2 = 'GT9 Generator Watts Max Selected {StdDev}'\n",
    "hpsteam1 = 'HRSG 8 HP STEAM FLOW {KPPH}'\n",
    "hppress1 = 'HRSG 8 HP STEAM OUTLET PRESSURE {Avg}'\n",
    "hptemp1 = 'HRSG 8 HP STEAM OUTLET TEMPERATURE {Avg}'\n",
    "lpsteam1 = 'HRSG 8 LP CORRECTED AND SELECTED STEAM FLOW {KPPH}'\n",
    "lppress1 ='HRSG 8 LP STEAM OUTLET PRESSURE TRANSMITTER {Avg}'\n",
    "lptemp1 = 'HRSG 8 LP STEAM OUTLET TEMPERATURE {Avg}'\n",
    "dbfuel1 = 'HRSG 8 DB MMBTU 2'\n",
    "#ipflow1 = 'HRSG 8 COLD REHEAT STEAM FLOW DUALSEL {Avg}'\n",
    "\n",
    "crhflow1 = \"HRSG 8 COLD REHEAT STEAM FLOW DUALSEL {KPPH}\"\n",
    "\n",
    "crhpress1 = \"CRH 8001 PRESSURE A {Avg}\"\n",
    "\n",
    "crhtemp1 = \"CRH TO HRSG 8001 THERMOCOUPLE {Avg}\"\n",
    "\n",
    "ipflow1 = \"HRSG 8 DUALSEL IP STEAM FLOW {KPPH}\"\n",
    "\n",
    "hrhpress1 = \"HRH 8001 PRESSURE A {Avg}\"\n",
    "\n",
    "hrhtemp1 = \"HRSG 8001 HRH MAIN LINE THERMOCOUPLE {Avg}\"\n",
    "\n",
    "\n",
    "sh1a = \"HRSG 8 HP SUPERHEATER 1 OUTLET THERMOCOUPLE A {Avg}\"\n",
    "sh1b = \"HRSG 8 HP SUPERHEATER 1 OUTLET THERMOCOUPLE B {Avg}\"\n",
    "sh1c = \"HRSG 8 HP SUPERHEATER 1 OUTLET THERMOCOUPLE C {Avg}\"\n",
    "sh1d = \"HRSG 8 HP SUPERHEATER 1 OUTLET THERMOCOUPLE D {Avg}\"\n",
    "\n"
   ]
  },
  {
   "cell_type": "code",
   "execution_count": null,
   "metadata": {
    "pycharm": {
     "is_executing": false
    }
   },
   "outputs": [],
   "source": [
    "#HRSG(HP/IP/LP(Flow, P, T)=Function of (MW, GT Fuel, Exh Temp, Duct Firing fuel)\n",
    "hrsgdf = model_df[[mw1,mw2,fuel,exh,hpsteam1,hppress1,hptemp1,lpsteam1,lppress1,lptemp1,dbfuel1,\n",
    "                  crhflow1, crhpress1, crhtemp1,  \n",
    "                   ipflow1, hrhpress1, hrhtemp1,  \n",
    "                  sh1a, sh1b, sh1c, sh1d,std1]] "
   ]
  },
  {
   "cell_type": "code",
   "execution_count": null,
   "metadata": {
    "pycharm": {
     "is_executing": false
    }
   },
   "outputs": [],
   "source": [
    "hrsgdf = hrsgdf[(hrsgdf[hpsteam1]>10)&(hrsgdf[mw1]>80)&(hrsgdf[mw2]>80)&\n",
    "                (hrsgdf[std1]<0.5)&(hrsgdf[dbfuel1]>-5)&(hrsgdf[dbfuel1]<800)].reset_index(drop=True)"
   ]
  },
  {
   "cell_type": "code",
   "execution_count": null,
   "metadata": {
    "pycharm": {
     "is_executing": false
    }
   },
   "outputs": [],
   "source": [
    "hrsgdf[\"superheat 1 temp max\"] = np.max([hrsgdf[sh1a].values,hrsgdf[sh1b].values,\n",
    "                                         hrsgdf[sh1c].values,hrsgdf[sh1d].values],axis=0)\n"
   ]
  },
  {
   "cell_type": "code",
   "execution_count": null,
   "metadata": {
    "pycharm": {
     "is_executing": false
    }
   },
   "outputs": [],
   "source": [
    "hrsgdf['HRH 8 Flow']=hrsgdf[crhflow1]+hrsgdf[ipflow1]"
   ]
  },
  {
   "cell_type": "code",
   "execution_count": null,
   "metadata": {
    "pycharm": {
     "is_executing": false
    }
   },
   "outputs": [],
   "source": [
    "sh1 = \"superheat 1 temp max\"\n",
    "hrhflow1='HRH 8 Flow'\n"
   ]
  },
  {
   "cell_type": "code",
   "execution_count": null,
   "metadata": {
    "pycharm": {
     "is_executing": false
    }
   },
   "outputs": [],
   "source": [
    "hrsgdf.describe()"
   ]
  },
  {
   "cell_type": "code",
   "execution_count": null,
   "metadata": {
    "pycharm": {
     "is_executing": false
    }
   },
   "outputs": [],
   "source": [
    "## Multi output random forest regression HRSG 1\n",
    "x1 = hrsgdf[[mw1,exh,dbfuel1]]\n",
    "y1 = hrsgdf[[hpsteam1,hppress1,hptemp1,sh1]]\n",
    "#hp_ranf1 = RandomForestRegressor(max_depth=10,n_estimators=150,random_state = 6567)\n",
    "hp_ranf1 = LinearRegression()\n",
    "hp_reg1 = hp_ranf1.fit(x1, y1)"
   ]
  },
  {
   "cell_type": "code",
   "execution_count": null,
   "metadata": {
    "pycharm": {
     "is_executing": false
    }
   },
   "outputs": [],
   "source": [
    "# Lin reg of hrsg1 hppress\n",
    "x = hrsgdf[[mw1,exh,dbfuel1]]\n",
    "y = hrsgdf[[hppress1,sh1]]\n",
    "hppress1_lm = LinearRegression()\n",
    "hrsg1_lm = hppress1_lm.fit(x,y)\n",
    "\n"
   ]
  },
  {
   "cell_type": "code",
   "execution_count": null,
   "metadata": {
    "pycharm": {
     "is_executing": false
    }
   },
   "outputs": [],
   "source": [
    "pred = hp_reg1.predict(x1)\n",
    "\n",
    "flow_err = pred[:,0] - y1.iloc[:,0]\n",
    "press_err= pred[:,1] - y1.iloc[:,1]\n",
    "temp_err= pred[:,2] - y1.iloc[:,2]\n",
    "\n",
    "output_notebook()\n",
    "t1 = figure(plot_width=350, plot_height=350,title=\"Residual Plot\", x_axis_label='Index', \n",
    "            y_axis_label='Error')\n",
    "t1.scatter(list(range(len(flow_err))), flow_err)\n",
    "\n",
    "\n",
    "t2 = figure(plot_width=350, plot_height=350,title=\"Residual Plot\", x_axis_label='Index', \n",
    "            y_axis_label='Error')\n",
    "t2.scatter(list(range(len(press_err))), press_err)\n",
    "\n",
    "t3 = figure(plot_width=350, plot_height=350,title=\"Residual Plot\", x_axis_label='Index', \n",
    "            y_axis_label='Error')\n",
    "t3.scatter(list(range(len(temp_err))), temp_err)\n",
    "\n",
    "show(gridplot([[t1,t2,t3]]))"
   ]
  },
  {
   "cell_type": "code",
   "execution_count": null,
   "metadata": {
    "pycharm": {
     "is_executing": false
    }
   },
   "outputs": [],
   "source": [
    "pred = hp_reg1.predict(x1)\n",
    "\n",
    "flow_err = pred[:,0]\n",
    "press_err= pred[:,1]\n",
    "temp_err= pred[:,2]\n",
    "\n",
    "output_notebook()\n",
    "t1 = figure(plot_width=350, plot_height=350,title=\"Flow\", x_axis_label='actual',\n",
    "            y_axis_label='predicted')\n",
    "t1.scatter(y1.iloc[:,0], flow_err)\n",
    "\n",
    "\n",
    "t2 = figure(plot_width=350, plot_height=350,title=\"Press\", x_axis_label='actual', \n",
    "            y_axis_label='predicted')\n",
    "t2.scatter(y1.iloc[:,1], press_err)\n",
    "\n",
    "t3 = figure(plot_width=350, plot_height=350,title=\"Temp\", x_axis_label='actual', \n",
    "            y_axis_label='predicted')\n",
    "t3.scatter(y1.iloc[:,2], temp_err)\n",
    "\n",
    "show(gridplot([[t1,t2,t3]]))"
   ]
  },
  {
   "cell_type": "code",
   "execution_count": null,
   "metadata": {
    "pycharm": {
     "is_executing": false
    }
   },
   "outputs": [],
   "source": [
    "print(np.sqrt(np.var(flow_err)))\n",
    "print(np.mean(np.abs((flow_err) / y1.iloc[:,0])))\n",
    "\n",
    "print(np.sqrt(np.var(press_err)))\n",
    "print(np.mean(np.abs((press_err) / y1.iloc[:,1])))\n",
    "\n",
    "print(np.sqrt(np.var(temp_err)))\n",
    "print(np.mean(np.abs((temp_err) / y1.iloc[:,2])))"
   ]
  },
  {
   "cell_type": "code",
   "execution_count": null,
   "metadata": {
    "pycharm": {
     "is_executing": false
    }
   },
   "outputs": [],
   "source": [
    "## Multi output random forest regression HRSG 1 LP\n",
    "x1 = hrsgdf[[mw1,exh,dbfuel1]]\n",
    "y1 = hrsgdf[[lpsteam1,lppress1,lptemp1]]\n",
    "#lp_ranf1 = RandomForestRegressor(max_depth=30,n_estimators=300,random_state = 6567)\n",
    "lp_ranf1 = LinearRegression()\n",
    "lp_reg1 = lp_ranf1.fit(x1, y1)"
   ]
  },
  {
   "cell_type": "code",
   "execution_count": null,
   "metadata": {
    "pycharm": {
     "is_executing": false
    }
   },
   "outputs": [],
   "source": [
    "pred = lp_reg1.predict(x1)\n",
    "\n",
    "flow_err = pred[:,0] - y1.iloc[:,0]\n",
    "press_err= pred[:,1] - y1.iloc[:,1]\n",
    "temp_err= pred[:,2] - y1.iloc[:,2]\n",
    "\n",
    "output_notebook()\n",
    "t1 = figure(plot_width=350, plot_height=350,title=\"Residual Plot\", x_axis_label='Index', \n",
    "            y_axis_label='Error')\n",
    "t1.scatter(list(range(len(flow_err))), flow_err)\n",
    "\n",
    "\n",
    "t2 = figure(plot_width=350, plot_height=350,title=\"Residual Plot\", x_axis_label='Index', \n",
    "            y_axis_label='Error')\n",
    "t2.scatter(list(range(len(press_err))), press_err)\n",
    "\n",
    "t3 = figure(plot_width=350, plot_height=350,title=\"Residual Plot\", x_axis_label='Index', \n",
    "            y_axis_label='Error')\n",
    "t3.scatter(list(range(len(temp_err))), temp_err)\n",
    "\n",
    "show(gridplot([[t1,t2,t3]]))"
   ]
  },
  {
   "cell_type": "code",
   "execution_count": null,
   "metadata": {
    "pycharm": {
     "is_executing": false
    }
   },
   "outputs": [],
   "source": [
    "flow_err = pred[:,0]\n",
    "press_err= pred[:,1]\n",
    "temp_err= pred[:,2]\n",
    "\n",
    "output_notebook()\n",
    "t1 = figure(plot_width=350, plot_height=350,title=\"Flow\", x_axis_label='actual',\n",
    "            y_axis_label='predicted')\n",
    "t1.scatter(y1.iloc[:,0], flow_err)\n",
    "\n",
    "\n",
    "t2 = figure(plot_width=350, plot_height=350,title=\"Press\", x_axis_label='actual', \n",
    "            y_axis_label='predicted')\n",
    "t2.scatter(y1.iloc[:,1], press_err)\n",
    "\n",
    "t3 = figure(plot_width=350, plot_height=350,title=\"Temp\", x_axis_label='actual', \n",
    "            y_axis_label='predicted')\n",
    "t3.scatter(y1.iloc[:,2], temp_err)\n",
    "\n",
    "show(gridplot([[t1,t2,t3]]))"
   ]
  },
  {
   "cell_type": "code",
   "execution_count": null,
   "metadata": {
    "pycharm": {
     "is_executing": false
    }
   },
   "outputs": [],
   "source": [
    "print(np.sqrt(np.var(flow_err)))\n",
    "print(np.mean(np.abs((flow_err) / y1.iloc[:,0])))\n",
    "\n",
    "print(np.sqrt(np.var(press_err)))\n",
    "print(np.mean(np.abs((press_err) / y1.iloc[:,1])))\n",
    "\n",
    "print(np.sqrt(np.var(temp_err)))\n",
    "print(np.mean(np.abs((temp_err) / y1.iloc[:,2])))"
   ]
  },
  {
   "cell_type": "code",
   "execution_count": null,
   "metadata": {
    "pycharm": {
     "is_executing": false
    }
   },
   "outputs": [],
   "source": [
    "sns.lmplot(x=mw1, y=hrhflow1, data=hrsgdf,height=6,fit_reg=False,scatter_kws={\"s\": 25},\n",
    "           line_kws={\"color\":\"black\",\"linewidth\":4},ci=None);"
   ]
  },
  {
   "cell_type": "code",
   "execution_count": null,
   "metadata": {
    "pycharm": {
     "is_executing": false
    }
   },
   "outputs": [],
   "source": [
    "sns.lmplot(x=mw1, y=crhflow1, data=hrsgdf,height=6,fit_reg=False,scatter_kws={\"s\": 25},\n",
    "           line_kws={\"color\":\"black\",\"linewidth\":4},ci=None);"
   ]
  },
  {
   "cell_type": "code",
   "execution_count": null,
   "metadata": {
    "pycharm": {
     "is_executing": false
    }
   },
   "outputs": [],
   "source": [
    "## Multi output random forest regression HRSG 1 hrh\n",
    "x1 = hrsgdf[[mw1,exh,dbfuel1]]\n",
    "y1 = hrsgdf[[hrhflow1,hrhpress1,hrhtemp1]]\n",
    "#hrh_ranf1 = RandomForestRegressor(max_depth=50,n_estimators=100,random_state = 6567)\n",
    "hrh_ranf1 = LinearRegression()\n",
    "hrh_reg1 = hrh_ranf1.fit(x1, y1)"
   ]
  },
  {
   "cell_type": "code",
   "execution_count": null,
   "metadata": {
    "pycharm": {
     "is_executing": false
    }
   },
   "outputs": [],
   "source": [
    "pred = hrh_reg1.predict(x1)\n",
    "\n",
    "flow_err = pred[:,0] - y1.iloc[:,0]\n",
    "press_err= pred[:,1] - y1.iloc[:,1]\n",
    "temp_err= pred[:,2] - y1.iloc[:,2]\n",
    "\n",
    "output_notebook()\n",
    "t1 = figure(plot_width=350, plot_height=350,title=\"Residual Plot\", x_axis_label='Index', \n",
    "            y_axis_label='Error')\n",
    "t1.scatter(list(range(len(flow_err))), flow_err)\n",
    "\n",
    "\n",
    "t2 = figure(plot_width=350, plot_height=350,title=\"Residual Plot\", x_axis_label='Index', \n",
    "            y_axis_label='Error')\n",
    "t2.scatter(list(range(len(press_err))), press_err)\n",
    "\n",
    "t3 = figure(plot_width=350, plot_height=350,title=\"Residual Plot\", x_axis_label='Index', \n",
    "            y_axis_label='Error')\n",
    "t3.scatter(list(range(len(temp_err))), temp_err)\n",
    "\n",
    "show(gridplot([[t1,t2,t3]]))"
   ]
  },
  {
   "cell_type": "code",
   "execution_count": null,
   "metadata": {
    "pycharm": {
     "is_executing": false
    }
   },
   "outputs": [],
   "source": [
    "flow_err = pred[:,0]\n",
    "press_err= pred[:,1]\n",
    "temp_err= pred[:,2]\n",
    "\n",
    "output_notebook()\n",
    "t1 = figure(plot_width=350, plot_height=350,title=\"Flow\", x_axis_label='actual',\n",
    "            y_axis_label='predicted')\n",
    "t1.scatter(y1.iloc[:,0], flow_err)\n",
    "\n",
    "\n",
    "t2 = figure(plot_width=350, plot_height=350,title=\"Press\", x_axis_label='actual', \n",
    "            y_axis_label='predicted')\n",
    "t2.scatter(y1.iloc[:,1], press_err)\n",
    "\n",
    "t3 = figure(plot_width=350, plot_height=350,title=\"Temp\", x_axis_label='actual', \n",
    "            y_axis_label='predicted')\n",
    "t3.scatter(y1.iloc[:,2], temp_err)\n",
    "\n",
    "show(gridplot([[t1,t2,t3]]))"
   ]
  },
  {
   "cell_type": "code",
   "execution_count": null,
   "metadata": {
    "pycharm": {
     "is_executing": false
    }
   },
   "outputs": [],
   "source": [
    "print(np.sqrt(np.var(flow_err)))\n",
    "print(np.mean(np.abs((flow_err) / y1.iloc[:,0])))\n",
    "\n",
    "print(np.sqrt(np.var(press_err)))\n",
    "print(np.mean(np.abs((press_err) / y1.iloc[:,1])))\n",
    "\n",
    "print(np.sqrt(np.var(temp_err)))\n",
    "print(np.mean(np.abs((temp_err) / y1.iloc[:,2])))"
   ]
  },
  {
   "cell_type": "code",
   "execution_count": null,
   "metadata": {
    "pycharm": {
     "is_executing": false
    }
   },
   "outputs": [],
   "source": [
    "## Multi output random forest regression HRSG 1 crh\n",
    "x1 = hrsgdf[[mw1,exh,dbfuel1]]\n",
    "y1 = hrsgdf[[crhflow1,crhpress1,crhtemp1]]\n",
    "crh_ranf1 = RandomForestRegressor(max_depth=50,n_estimators=100,random_state = 6567)\n",
    "crh_reg1 = MultiOutputRegressor(crh_ranf1).fit(x1, y1)"
   ]
  },
  {
   "cell_type": "code",
   "execution_count": null,
   "metadata": {
    "pycharm": {
     "is_executing": false
    }
   },
   "outputs": [],
   "source": [
    "pred = crh_reg1.predict(x1)\n",
    "\n",
    "flow_err = pred[:,0] - y1.iloc[:,0]\n",
    "press_err= pred[:,1] - y1.iloc[:,1]\n",
    "temp_err= pred[:,2] - y1.iloc[:,2]\n",
    "\n",
    "output_notebook()\n",
    "t1 = figure(plot_width=350, plot_height=350,title=\"Residual Plot\", x_axis_label='Index', \n",
    "            y_axis_label='Error')\n",
    "t1.scatter(list(range(len(flow_err))), flow_err)\n",
    "\n",
    "\n",
    "t2 = figure(plot_width=350, plot_height=350,title=\"Residual Plot\", x_axis_label='Index', \n",
    "            y_axis_label='Error')\n",
    "t2.scatter(list(range(len(press_err))), press_err)\n",
    "\n",
    "t3 = figure(plot_width=350, plot_height=350,title=\"Residual Plot\", x_axis_label='Index', \n",
    "            y_axis_label='Error')\n",
    "t3.scatter(list(range(len(temp_err))), temp_err)\n",
    "\n",
    "show(gridplot([[t1,t2,t3]]))"
   ]
  },
  {
   "cell_type": "code",
   "execution_count": null,
   "metadata": {
    "pycharm": {
     "is_executing": false
    }
   },
   "outputs": [],
   "source": [
    "flow_err = pred[:,0]\n",
    "press_err= pred[:,1]\n",
    "temp_err= pred[:,2]\n",
    "\n",
    "output_notebook()\n",
    "t1 = figure(plot_width=350, plot_height=350,title=\"Flow\", x_axis_label='actual',\n",
    "            y_axis_label='predicted')\n",
    "t1.scatter(y1.iloc[:,0], flow_err)\n",
    "\n",
    "\n",
    "t2 = figure(plot_width=350, plot_height=350,title=\"Press\", x_axis_label='actual', \n",
    "            y_axis_label='predicted')\n",
    "t2.scatter(y1.iloc[:,1], press_err)\n",
    "\n",
    "t3 = figure(plot_width=350, plot_height=350,title=\"Temp\", x_axis_label='actual', \n",
    "            y_axis_label='predicted')\n",
    "t3.scatter(y1.iloc[:,2], temp_err)\n",
    "\n",
    "show(gridplot([[t1,t2,t3]]))"
   ]
  },
  {
   "cell_type": "code",
   "execution_count": null,
   "metadata": {
    "pycharm": {
     "is_executing": false
    }
   },
   "outputs": [],
   "source": [
    "print(np.sqrt(np.var(flow_err)))\n",
    "print(np.mean(np.abs((flow_err) / y1.iloc[:,0])))\n",
    "\n",
    "print(np.sqrt(np.var(press_err)))\n",
    "print(np.mean(np.abs((press_err) / y1.iloc[:,1])))\n",
    "\n",
    "print(np.sqrt(np.var(temp_err)))\n",
    "print(np.mean(np.abs((temp_err) / y1.iloc[:,2])))"
   ]
  },
  {
   "cell_type": "markdown",
   "metadata": {},
   "source": [
    "hp_ranf = RandomForestRegressor()\n",
    "\n",
    "param_grid = {'estimator__max_depth':[10,20,30,50],\n",
    "              'estimator__n_estimators':[100,200,300,500]}\n",
    "\n",
    "gb = GradientBoostingRegressor()\n",
    "gs = GridSearchCV(MultiOutputRegressor(hp_ranf), param_grid=param_grid,cv=5)\n",
    "gs.fit(x1,y1)\n",
    "gs.best_estimator_"
   ]
  },
  {
   "cell_type": "code",
   "execution_count": null,
   "metadata": {
    "pycharm": {
     "is_executing": false
    }
   },
   "outputs": [],
   "source": [
    "pkl = \"../../../pickles/hrsg8.pkl\"\n",
    "\n",
    "models = {'hp<flow|press|temp|super_heat_temp><mw|exh|db_fuel>':hp_reg1,\n",
    "          'hrh<flow|press|temp><mw|exh|db_fuel>':hrh_reg1,\n",
    "          'lp<flow|press|temp><mw|exh|db_fuel>':lp_reg1,\n",
    "          'lm<hp_press|super_heat><mw|exh|db_fuel>': hrsg1_lm\n",
    "          }\n",
    "\n",
    "with open(pkl, \"wb\") as f:\n",
    "    joblib.dump(models, f)\n",
    "    print(f'{f.name}')"
   ]
  },
  {
   "cell_type": "code",
   "execution_count": null,
   "metadata": {
    "pycharm": {
     "is_executing": false
    }
   },
   "outputs": [],
   "source": []
  }
 ],
 "metadata": {
  "colab": {
   "name": "CTG_Ranf.ipynb",
   "provenance": [],
   "version": "0.3.2"
  },
  "kernelspec": {
   "display_name": "Python 3",
   "language": "python",
   "name": "python3"
  },
  "language_info": {
   "codemirror_mode": {
    "name": "ipython",
    "version": 3
   },
   "file_extension": ".py",
   "mimetype": "text/x-python",
   "name": "python",
   "nbconvert_exporter": "python",
   "pygments_lexer": "ipython3",
   "version": "3.7.1"
  },
  "pycharm": {
   "stem_cell": {
    "cell_type": "raw",
    "metadata": {
     "collapsed": false
    },
    "source": []
   }
  },
  "varInspector": {
   "cols": {
    "lenName": 16,
    "lenType": 16,
    "lenVar": 40
   },
   "kernels_config": {
    "python": {
     "delete_cmd_postfix": "",
     "delete_cmd_prefix": "del ",
     "library": "var_list.py",
     "varRefreshCmd": "print(var_dic_list())"
    },
    "r": {
     "delete_cmd_postfix": ") ",
     "delete_cmd_prefix": "rm(",
     "library": "var_list.r",
     "varRefreshCmd": "cat(var_dic_list()) "
    }
   },
   "oldHeight": 284,
   "position": {
    "height": "40px",
    "left": "1050px",
    "right": "20px",
    "top": "120px",
    "width": "350px"
   },
   "types_to_exclude": [
    "module",
    "function",
    "builtin_function_or_method",
    "instance",
    "_Feature"
   ],
   "varInspector_section_display": "none",
   "window_display": true
  }
 },
 "nbformat": 4,
 "nbformat_minor": 1
}
