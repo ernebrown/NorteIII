{
 "cells": [
  {
   "cell_type": "code",
   "execution_count": null,
   "metadata": {
    "colab": {},
    "colab_type": "code",
    "id": "nAucBDX1xDeL",
    "pycharm": {
     "is_executing": false
    }
   },
   "outputs": [],
   "source": [
    "'''\n",
    "Data munging libraries\n",
    "\n",
    "'''\n",
    "import random\n",
    "\n",
    "import numpy as np\n",
    "import pandas as pd\n",
    "import statsmodels.api as sm\n",
    "\n",
    "import joblib\n",
    "'''\n",
    "Visualization Libraries\n",
    "\n",
    "'''\n",
    "import seaborn as sns\n",
    "%matplotlib inline\n",
    "#%matplotlib notebook\n",
    "pd.set_option('display.max_columns', 100)\n",
    "pd.set_option('display.precision', 2) \n",
    "from bokeh.plotting import figure,  show, gridplot\n",
    "from bokeh.io import output_notebook\n",
    "from bokeh.layouts import row, column\n",
    "\n",
    "'''\n",
    "ML libraries\n",
    "\n",
    "'''\n",
    "\n",
    "from sklearn.multioutput import MultiOutputRegressor\n",
    "from sklearn.preprocessing import StandardScaler, PolynomialFeatures\n",
    "from sklearn.decomposition import PCA\n",
    "from sklearn.neural_network import MLPRegressor\n",
    "from sklearn.linear_model import LinearRegression, RANSACRegressor\n",
    "from sklearn.model_selection import GridSearchCV, train_test_split, cross_val_score;\n",
    "from sklearn.model_selection import  train_test_split\n",
    "from sklearn.ensemble import RandomForestRegressor\n",
    "from sklearn.pipeline import Pipeline;"
   ]
  },
  {
   "cell_type": "code",
   "execution_count": null,
   "metadata": {},
   "outputs": [],
   "source": [
    "output_notebook()"
   ]
  },
  {
   "cell_type": "markdown",
   "metadata": {},
   "source": [
    "# Define file name of model_data¶"
   ]
  },
  {
   "cell_type": "code",
   "execution_count": null,
   "metadata": {
    "pycharm": {
     "is_executing": false
    }
   },
   "outputs": [],
   "source": [
    "file_name_model_data = \"../model_data/hrsg_model_data_new.gzip\""
   ]
  },
  {
   "cell_type": "code",
   "execution_count": null,
   "metadata": {
    "pycharm": {
     "is_executing": false
    }
   },
   "outputs": [],
   "source": [
    "model_df=pd.read_csv(file_name_model_data, compression='gzip' ,encoding=\"ISO-8859-2\")"
   ]
  },
  {
   "cell_type": "code",
   "execution_count": null,
   "metadata": {},
   "outputs": [],
   "source": [
    "model_df.columns"
   ]
  },
  {
   "cell_type": "code",
   "execution_count": null,
   "metadata": {
    "pycharm": {
     "is_executing": false
    }
   },
   "outputs": [],
   "source": [
    "mw1='GT3 Generator Watts Max Selected {Avg}'\n",
    "mw2='GT4 Generator Watts Max Selected {Avg}'\n",
    "mw3='STG gross mw {Avg}'\n",
    "baro = 'SITE AMBIENT CONDITIONS BARO PRESS XMTR {Avg}'\n",
    "fuel='GT3 Fuel Energy Flow MMBTU'\n",
    "exh = 'GT3 Exhaust Temp Median Corrected By Average {Avg}'\n",
    "# std1 = 'GT3 Generator Watts Max Selected {StdDev}'\n",
    "# std2 = 'GT4 Generator Watts Max Selected {StdDev}'\n",
    "# std3 = 'STG gross mw {StdDev}'\n",
    "hpflow1 = 'HRSG 3 HP STEAM FLOW {Avg}'\n",
    "hppress1 = 'HRSG 3 HP STEAM OUTLET PRESSURE {Avg}'\n",
    "hptemp1 = 'HRSG 3 HP STEAM OUTLET TEMPERATURE {Avg}'\n",
    "lpflow1 = 'HRSG 3 LP STEAM FLOW {Avg}'\n",
    "lppress1 ='HRSG 3 LP STEAM OUTLET PRESSURE TRANSMITTER {Avg}'\n",
    "lptemp1 = 'HRSG 3 LP STEAM OUTLET TEMPERATURE {Avg}'\n",
    "dbfuel1 = 'HRSG3_DB_MMBTU'\n",
    "#ipflow1 = 'HRSG 8 COLD REHEAT STEAM FLOW DUALSEL {Avg}'\n",
    "\n",
    "crhflow1 = \"HRSG 3 COLD REHEAT STEAM FLOW DUALSEL {Avg}\"\n",
    "crhpress1b = 'CRH 3001 PRESSURE B {Avg}'\n",
    "crhpress1a = 'CRH 3001 PRESSURE A {Avg}'\n",
    "crhpress = \"CRH Press\"\n",
    "crhtemp1 = 'CRH TO HRSG 3001 THERMOCOUPLE {Avg}'\n",
    "\n",
    "ipflow1 = \"HRSG 3 DUALSEL IP STEAM FLOW {Avg}\"\n",
    "\n",
    "hrhpress1a = \"HRH 3001 PRESSURE A {Avg}\"\n",
    "hrhpress1b = \"HRH 3001 PRESSURE B {Avg}\"\n",
    "hrhpress= \"HRH Press\"\n",
    "hrhtemp1 = \"HRSG 3001 HRH MAIN LINE THERMOCOUPLE {Avg}\"\n",
    "hrhflow1 = 'HRH 3 Flow'\n",
    "\n",
    "\n",
    "\n",
    "sh1a = \"HRSG 3 HP SUPERHEATER 1 OUTLET THERMOCOUPLE A {Avg}\"\n",
    "sh1b = \"HRSG 3 HP SUPERHEATER 1 OUTLET THERMOCOUPLE B {Avg}\"\n",
    "sh1c = \"HRSG 3 HP SUPERHEATER 1 OUTLET THERMOCOUPLE C {Avg}\"\n",
    "sh1d = \"HRSG 3 HP SUPERHEATER 1 OUTLET THERMOCOUPLE D {Avg}\"\n",
    "shmax = \"HP Max Superheat\"\n",
    "time='TimeStamp'"
   ]
  },
  {
   "cell_type": "code",
   "execution_count": null,
   "metadata": {
    "pycharm": {
     "is_executing": false
    }
   },
   "outputs": [],
   "source": [
    "#HRSG(HP/IP/LP(Flow, P, T)=Function of (MW, GT Fuel, Exh Temp, Duct Firing fuel)\n",
    "hrsgdf = model_df[[mw1,mw2,fuel,exh,hpflow1,hppress1,hptemp1,lpflow1,lppress1,lptemp1,dbfuel1,\n",
    "                  crhflow1, crhpress1a,crhpress1b, crhtemp1,  \n",
    "                   ipflow1, hrhpress1a,hrhpress1b, hrhtemp1,  \n",
    "                  sh1a, sh1b, sh1c, sh1d]] "
   ]
  },
  {
   "cell_type": "code",
   "execution_count": null,
   "metadata": {},
   "outputs": [],
   "source": [
    "hrsgdf=hrsgdf.astype('float64')"
   ]
  },
  {
   "cell_type": "code",
   "execution_count": null,
   "metadata": {},
   "outputs": [],
   "source": [
    "hrsgdf[hrsgdf[dbfuel1]>-5][dbfuel1].describe()"
   ]
  },
  {
   "cell_type": "code",
   "execution_count": null,
   "metadata": {
    "pycharm": {
     "is_executing": false
    }
   },
   "outputs": [],
   "source": [
    "hrsgdf = hrsgdf[(hrsgdf[hpflow1]>100)\n",
    "                &(hrsgdf[mw1]>80)&\n",
    "                (hrsgdf[dbfuel1]>-5)\n",
    "               ].reset_index(drop=True)"
   ]
  },
  {
   "cell_type": "code",
   "execution_count": null,
   "metadata": {
    "pycharm": {
     "is_executing": false
    }
   },
   "outputs": [],
   "source": [
    "hrsgdf[shmax] = np.max([hrsgdf[sh1a].values,hrsgdf[sh1b].values,\n",
    "                                         hrsgdf[sh1c].values,hrsgdf[sh1d].values],axis=0)\n"
   ]
  },
  {
   "cell_type": "code",
   "execution_count": null,
   "metadata": {
    "pycharm": {
     "is_executing": false
    }
   },
   "outputs": [],
   "source": [
    "hrsgdf[hrhflow1]=hrsgdf[crhflow1]+hrsgdf[ipflow1]"
   ]
  },
  {
   "cell_type": "code",
   "execution_count": null,
   "metadata": {},
   "outputs": [],
   "source": [
    "hrsgdf[crhpress]=(hrsgdf[crhpress1a]+hrsgdf[crhpress1b])/2\n",
    "hrsgdf[hrhpress]=(hrsgdf[hrhpress1a]+hrsgdf[hrhpress1b])/2"
   ]
  },
  {
   "cell_type": "code",
   "execution_count": null,
   "metadata": {
    "pycharm": {
     "is_executing": false
    }
   },
   "outputs": [],
   "source": [
    "hrsgdf[[exh,fuel,dbfuel1,mw1]].describe()"
   ]
  },
  {
   "cell_type": "code",
   "execution_count": null,
   "metadata": {},
   "outputs": [],
   "source": [
    "hrsghp_clean=hrsgdf.copy()\n",
    "ransac_fl = RANSACRegressor(LinearRegression(),\n",
    "                         max_trials=100, \n",
    "                         min_samples=50, \n",
    "                         loss='absolute_loss', \n",
    "                         residual_threshold=25, \n",
    "                         random_state=2301)\n",
    "ransac_fl=ransac_fl.fit(hrsghp_clean[[mw1,dbfuel1]].values, hrsghp_clean[hpflow1].values)\n",
    "hp_flow_pred=ransac_fl.predict(hrsghp_clean[[mw1,dbfuel1]].values)\n",
    "inlier_mask = ransac_fl.inlier_mask_\n",
    "hrsghp_clean=hrsghp_clean.assign(normal_hpflow = lambda im: inlier_mask)\n",
    "hrsghp_clean['hpflow']=hp_flow_pred\n",
    "sns.lmplot(x=hpflow1,y='hpflow', data=hrsghp_clean,hue=\"normal_hpflow\", height=6,fit_reg=False,\n",
    "           scatter_kws={\"s\": 25},line_kws={\"color\":\"black\",\"linewidth\":4},ci=None)"
   ]
  },
  {
   "cell_type": "code",
   "execution_count": null,
   "metadata": {},
   "outputs": [],
   "source": [
    "# residual plot\n",
    "pred1=hp_flow_pred\n",
    "y=hrsghp_clean[hpflow1].values\n",
    "err1 = y - pred1\n",
    "\n",
    "\n",
    "output_notebook()\n",
    "t1 = figure(plot_width=350, plot_height=350,title=\"Residual Plot\", x_axis_label='Index', \n",
    "            y_axis_label='Error')\n",
    "t1.scatter(list(range(len(err1))), err1)\n",
    "show(t1)\n",
    "\n",
    "\n",
    "print(np.sqrt(np.var(err1)))\n",
    "print(np.mean(np.abs((y - pred1) / y)))\n"
   ]
  },
  {
   "cell_type": "code",
   "execution_count": null,
   "metadata": {},
   "outputs": [],
   "source": [
    "hrsghp_clean=hrsghp_clean[hrsghp_clean['normal_hpflow']==True]"
   ]
  },
  {
   "cell_type": "code",
   "execution_count": null,
   "metadata": {},
   "outputs": [],
   "source": [
    "def model(layers=(40,40),es=True,n_iter=200,tol=0.0001,patience=10):\n",
    "    ppl=Pipeline([('scaler',StandardScaler()),\n",
    "                  ('estimator',MLPRegressor(hidden_layer_sizes=layers,\n",
    "                                            early_stopping=es,\n",
    "                                            tol=tol,max_iter=n_iter,random_state=2301,n_iter_no_change=patience))\n",
    "                 ])\n",
    "    return ppl"
   ]
  },
  {
   "cell_type": "code",
   "execution_count": null,
   "metadata": {},
   "outputs": [],
   "source": [
    "def model_pca(pca_frac=None,layers=(40,40),es=True,n_iter=200,tol=0.0001,patience=10,random=2301):\n",
    "    ppl=Pipeline([('scaler',StandardScaler()),('pca',PCA(n_components=pca_frac,random_state=random)),\n",
    "                  ('estimator',MLPRegressor(hidden_layer_sizes=layers,\n",
    "                                            early_stopping=es,\n",
    "                                            tol=tol,max_iter=n_iter,random_state=random,n_iter_no_change=patience))\n",
    "                 ])\n",
    "    return ppl"
   ]
  },
  {
   "cell_type": "code",
   "execution_count": null,
   "metadata": {},
   "outputs": [],
   "source": [
    "def model_lm_pca(pca_frac=None,random=2301):\n",
    "    ppl=Pipeline([('scaler',StandardScaler()),('pca',PCA(n_components=pca_frac,random_state=random)),\n",
    "                  ('estimator',LinearRegression())\n",
    "                 ])\n",
    "    return ppl"
   ]
  },
  {
   "cell_type": "code",
   "execution_count": null,
   "metadata": {},
   "outputs": [],
   "source": [
    "def model_poly_pca(pca_frac=None,random=2301):\n",
    "    ppl=Pipeline([('scaler',StandardScaler()),('pca',PCA(n_components=pca_frac,random_state=random)),\n",
    "                  ('quadratic',PolynomialFeatures()),\n",
    "                  ('estimator',LinearRegression())\n",
    "                 ])\n",
    "    return ppl"
   ]
  },
  {
   "cell_type": "code",
   "execution_count": null,
   "metadata": {},
   "outputs": [],
   "source": [
    "ransac_p = RANSACRegressor(LinearRegression(),\n",
    "                         max_trials=100, \n",
    "                         min_samples=50, \n",
    "                         loss='absolute_loss', \n",
    "                         residual_threshold=10, \n",
    "                         random_state=2301)\n",
    "ransac_p=ransac_p.fit(hrsghp_clean[[mw1,dbfuel1]].values, hrsghp_clean[hppress1].values)\n",
    "hp_press_pred=ransac_p.predict(hrsghp_clean[[mw1,dbfuel1]].values)\n",
    "inlier_mask = ransac_p.inlier_mask_\n",
    "hrsghp_clean=hrsghp_clean.assign(normal_hppress = lambda im: inlier_mask)\n",
    "hrsghp_clean['hp_press_pred']=hp_press_pred\n",
    "sns.lmplot(x=hpflow1,y='hp_press_pred', data=hrsghp_clean,hue=\"normal_hpflow\", height=6,fit_reg=False,\n",
    "           scatter_kws={\"s\": 25},line_kws={\"color\":\"black\",\"linewidth\":4},ci=None)"
   ]
  },
  {
   "cell_type": "code",
   "execution_count": null,
   "metadata": {
    "pycharm": {
     "is_executing": false
    }
   },
   "outputs": [],
   "source": [
    "x1 =hrsghp_clean[[mw1,exh,dbfuel1]]\n",
    "y1 = hrsghp_clean[[hppress1,hptemp1]]\n",
    "hp_lm = model_poly_pca()\n",
    "hp_lm = hp_lm.fit(x1, y1)"
   ]
  },
  {
   "cell_type": "code",
   "execution_count": null,
   "metadata": {},
   "outputs": [],
   "source": [
    "'''\n",
    "creating a new plot with a title and axis labels. \n",
    "'''\n",
    "p1 = figure(plot_width=350, plot_height=350,title=\"actual vs predicted hp flow\", x_axis_label='actual', \n",
    "            y_axis_label='predicted')\n",
    "\n",
    "p1.scatter(hrsghp_clean[hpflow1], hrsghp_clean[hppress1]);\n",
    "show(p1)"
   ]
  },
  {
   "cell_type": "code",
   "execution_count": null,
   "metadata": {},
   "outputs": [],
   "source": [
    "hp2x1df=hrsghp_clean[(hrsghp_clean[mw1]>50)&(hrsghp_clean[mw2]>50)\n",
    "                     &(hrsghp_clean[hpflow1]>800)&\n",
    "                    (hrsghp_clean[hppress1]<2000)].reset_index(drop=True)\n",
    "x1=hp2x1df[hpflow1].values.reshape(-1,1)\n",
    "y1=hp2x1df[hppress1]\n",
    "hp2x1press=LinearRegression()\n",
    "hp2x1press=hp2x1press.fit(x1,y1)"
   ]
  },
  {
   "cell_type": "code",
   "execution_count": null,
   "metadata": {},
   "outputs": [],
   "source": [
    "# residual plot\n",
    "\n",
    "pred1=hp2x1press.predict(x1)\n",
    "y=y1\n",
    "err1 = y - pred1\n",
    "\n",
    "\n",
    "output_notebook()\n",
    "t1 = figure(plot_width=350, plot_height=350,title=\"Residual Plot\", x_axis_label='Index', \n",
    "            y_axis_label='Error')\n",
    "t1.scatter(list(range(len(err1))), err1)\n",
    "show(t1)\n",
    "\n",
    "\n",
    "print(np.sqrt(np.var(err1)))\n",
    "print(np.mean(np.abs((y - pred1) / y)))\n"
   ]
  },
  {
   "cell_type": "code",
   "execution_count": null,
   "metadata": {},
   "outputs": [],
   "source": [
    "X_hp, y_hp_fl=hrsghp_clean[[mw1,exh,dbfuel1]],hrsghp_clean[hpflow1]"
   ]
  },
  {
   "cell_type": "code",
   "execution_count": null,
   "metadata": {},
   "outputs": [],
   "source": [
    "#hp_flow_=model_pca(layers=(300,300,300),n_iter=1000,patience=40)\n",
    "hp_flow_=model_lm_pca()\n",
    "hp_flow_=hp_flow_.fit(X_hp,y_hp_fl)"
   ]
  },
  {
   "cell_type": "code",
   "execution_count": null,
   "metadata": {},
   "outputs": [],
   "source": [
    "pred_hp_fl=hp_flow_.predict(X_hp)\n",
    "'''\n",
    "creating a new plot with a title and axis labels. \n",
    "'''\n",
    "p1 = figure(plot_width=350, plot_height=350,title=\"actual vs predicted hp flow\", x_axis_label='actual', \n",
    "            y_axis_label='predicted')\n",
    "\n",
    "p1.scatter(y_hp_fl, pred_hp_fl);\n",
    "show(p1)"
   ]
  },
  {
   "cell_type": "code",
   "execution_count": null,
   "metadata": {},
   "outputs": [],
   "source": [
    "hrsghp_clean[[mw1,exh,dbfuel1]]\n",
    "pred1=pred_hp_fl\n",
    "y=y_hp_fl\n",
    "err1 = y - pred1\n",
    "output_notebook()\n",
    "t1 = figure(plot_width=350, plot_height=350,title=\"Residual Plot\", x_axis_label='Index', \n",
    "            y_axis_label='Error')\n",
    "t1.scatter(list(range(len(err1))), err1)\n",
    "show(t1)"
   ]
  },
  {
   "cell_type": "code",
   "execution_count": null,
   "metadata": {},
   "outputs": [],
   "source": [
    "pred2x1flow=hp_flow_.predict(hp2x1df[[mw1,exh,dbfuel1]])\n",
    "y2x1flow=hp2x1df[hpflow1]\n",
    "err2x1flow = y2x1flow - pred2x1flow\n",
    "output_notebook()\n",
    "t1 = figure(plot_width=350, plot_height=350,title=\"Residual Plot\", x_axis_label='Index', \n",
    "            y_axis_label='Error')\n",
    "t1.scatter(list(range(len(err2x1flow))), err2x1flow)\n",
    "show(t1)"
   ]
  },
  {
   "cell_type": "code",
   "execution_count": null,
   "metadata": {},
   "outputs": [],
   "source": [
    "hrsghp_flow=hrsghp_clean#.loc[14100:,:].reset_index(drop=True)"
   ]
  },
  {
   "cell_type": "code",
   "execution_count": null,
   "metadata": {},
   "outputs": [],
   "source": [
    "X_hp, y_hp_fl=hrsghp_flow[[mw1,exh,dbfuel1]],hrsghp_flow[hpflow1]"
   ]
  },
  {
   "cell_type": "code",
   "execution_count": null,
   "metadata": {},
   "outputs": [],
   "source": [
    "#hp_flow_=model_pca(layers=(300,300,300),n_iter=1000,patience=40)\n",
    "hp_flow_=model_lm_pca()\n",
    "hp_flow_=hp_flow_.fit(X_hp,y_hp_fl)"
   ]
  },
  {
   "cell_type": "code",
   "execution_count": null,
   "metadata": {},
   "outputs": [],
   "source": [
    "pred_hp_fl=hp_flow_.predict(X_hp)\n",
    "'''\n",
    "creating a new plot with a title and axis labels. \n",
    "'''\n",
    "p1 = figure(plot_width=350, plot_height=350,title=\"actual vs predicted hp flow\", x_axis_label='actual', \n",
    "            y_axis_label='predicted')\n",
    "\n",
    "p1.scatter(y_hp_fl, pred_hp_fl);\n",
    "show(p1)"
   ]
  },
  {
   "cell_type": "code",
   "execution_count": null,
   "metadata": {},
   "outputs": [],
   "source": [
    "hrsghp_flow[[mw1,exh,dbfuel1]]\n",
    "pred1=pred_hp_fl\n",
    "y=y_hp_fl\n",
    "err1 = y - pred1\n",
    "output_notebook()\n",
    "t1 = figure(plot_width=350, plot_height=350,title=\"Residual Plot\", x_axis_label='Index', \n",
    "            y_axis_label='Error')\n",
    "t1.scatter(list(range(len(err1))), err1)\n",
    "show(t1)"
   ]
  },
  {
   "cell_type": "code",
   "execution_count": null,
   "metadata": {},
   "outputs": [],
   "source": [
    "ransac_sh = RANSACRegressor(LinearRegression(),\n",
    "                         max_trials=100, \n",
    "                         min_samples=50, \n",
    "                         loss='absolute_loss', \n",
    "                         residual_threshold=25, \n",
    "                         random_state=2301)\n",
    "ransac_sh=ransac_sh.fit(hrsghp_clean[[mw1,dbfuel1]].values, hrsghp_clean[shmax].values)\n",
    "sh_pred=ransac_sh.predict(hrsghp_clean[[mw1,dbfuel1]].values)\n",
    "inlier_mask = ransac_sh.inlier_mask_\n",
    "hrsghp_clean=hrsghp_clean.assign(normal_sh = lambda im: inlier_mask)\n",
    "hrsghp_clean['shpred']=sh_pred\n",
    "sns.lmplot(x=shmax,y='shpred', data=hrsghp_clean,hue=\"normal_sh\", height=6,fit_reg=False,\n",
    "           scatter_kws={\"s\": 25},line_kws={\"color\":\"black\",\"linewidth\":4},ci=None)"
   ]
  },
  {
   "cell_type": "code",
   "execution_count": null,
   "metadata": {},
   "outputs": [],
   "source": [
    "hrsghp_shclean=hrsghp_clean[hrsghp_clean['normal_sh']==True].reset_index(drop=True)"
   ]
  },
  {
   "cell_type": "code",
   "execution_count": null,
   "metadata": {},
   "outputs": [],
   "source": [
    "X_sh,y_sh =hrsghp_shclean[[mw1,exh,dbfuel1]],hrsghp_shclean[shmax]"
   ]
  },
  {
   "cell_type": "code",
   "execution_count": null,
   "metadata": {},
   "outputs": [],
   "source": [
    "#hp_sh_=model_pca(layers=(200,200,200),n_iter=1000,patience=80)\n",
    "hp_sh_=model_poly_pca()\n",
    "hp_sh_=hp_sh_.fit(X_sh,y_sh)"
   ]
  },
  {
   "cell_type": "code",
   "execution_count": null,
   "metadata": {},
   "outputs": [],
   "source": [
    "pred_hp_sh=hp_sh_.predict(X_sh)\n",
    "'''\n",
    "creating a new plot with a title and axis labels. \n",
    "'''\n",
    "p1 = figure(plot_width=350, plot_height=350,title=\"actual vs predicted hp flow\", x_axis_label='actual', \n",
    "            y_axis_label='predicted')\n",
    "\n",
    "p1.scatter(y_sh, pred_hp_sh);\n",
    "show(p1)"
   ]
  },
  {
   "cell_type": "code",
   "execution_count": null,
   "metadata": {},
   "outputs": [],
   "source": [
    "crh_clean=hrsgdf.copy()\n",
    "ransac_fl = RANSACRegressor(LinearRegression(),\n",
    "                         max_trials=100, \n",
    "                         min_samples=50, \n",
    "                         loss='absolute_loss', \n",
    "                         residual_threshold=25, \n",
    "                         random_state=2301)\n",
    "ransac_fl=ransac_fl.fit(crh_clean[[mw1,dbfuel1]].values, crh_clean[crhflow1].values)\n",
    "crh_flow_pred=ransac_fl.predict(crh_clean[[mw1,dbfuel1]].values)\n",
    "inlier_mask = ransac_fl.inlier_mask_\n",
    "crh_clean=crh_clean.assign(normal_crhflow = lambda im: inlier_mask)\n",
    "crh_clean['crhflow']=crh_flow_pred\n",
    "sns.lmplot(x=crhflow1,y='crhflow', data=crh_clean,hue=\"normal_crhflow\", height=6,fit_reg=False,\n",
    "           scatter_kws={\"s\": 25},line_kws={\"color\":\"black\",\"linewidth\":4},ci=None)"
   ]
  },
  {
   "cell_type": "code",
   "execution_count": null,
   "metadata": {},
   "outputs": [],
   "source": [
    "crh_clean=crh_clean[crh_clean['normal_crhflow']==True]\n",
    "'''\n",
    "creating a new plot with a title and axis labels. \n",
    "'''\n",
    "p1 = figure(plot_width=350, plot_height=350,title=\"CRH press vs flow\", x_axis_label='flow', \n",
    "            y_axis_label='pressure')\n",
    "\n",
    "p1.scatter(crh_clean[crhflow1], crh_clean[crhpress])\n",
    "show(p1);"
   ]
  },
  {
   "cell_type": "code",
   "execution_count": null,
   "metadata": {},
   "outputs": [],
   "source": [
    "crh2x1df=crh_clean[(crh_clean[mw1]>50)&(crh_clean[mw2]>50)].reset_index(drop=True)\n",
    "x1=crh2x1df[crhflow1].values.reshape(-1,1)\n",
    "y1=crh2x1df[crhpress]\n",
    "crhp_=LinearRegression()\n",
    "crhp_=crhp_.fit(x1,y1)"
   ]
  },
  {
   "cell_type": "code",
   "execution_count": null,
   "metadata": {},
   "outputs": [],
   "source": [
    "# residual plot\n",
    "\n",
    "pred1=crhp_.predict(x1)\n",
    "y=y1\n",
    "err1 = y - pred1\n",
    "\n",
    "\n",
    "output_notebook()\n",
    "t1 = figure(plot_width=350, plot_height=350,title=\"Residual Plot\", x_axis_label='Index', \n",
    "            y_axis_label='Error')\n",
    "t1.scatter(list(range(len(err1))), err1)\n",
    "show(t1)\n",
    "\n",
    "\n",
    "print(np.sqrt(np.var(err1)))\n",
    "print(np.mean(np.abs((y - pred1) / y)))\n"
   ]
  },
  {
   "cell_type": "code",
   "execution_count": null,
   "metadata": {},
   "outputs": [],
   "source": [
    "x1 = crh_clean[[mw1,dbfuel1]]\n",
    "y1 = crh_clean[[crhflow1,crhpress,crhtemp1]]\n",
    "crh_= LinearRegression()\n",
    "crh_= crh_.fit(x1, y1)"
   ]
  },
  {
   "cell_type": "code",
   "execution_count": null,
   "metadata": {},
   "outputs": [],
   "source": [
    "pred1=crh_.predict(x1)[:,0]\n",
    "y=y1.values[:,0]\n",
    "err1 = y - pred1\n",
    "\n",
    "\n",
    "output_notebook()\n",
    "t1 = figure(plot_width=350, plot_height=350,title=\"Residual Plot\", x_axis_label='Index', \n",
    "            y_axis_label='Error')\n",
    "t1.scatter(list(range(len(err1))), err1)\n",
    "show(t1)\n",
    "\n",
    "\n",
    "print(np.sqrt(np.var(err1)))\n",
    "print(np.mean(np.abs((y - pred1) / y)))\n"
   ]
  },
  {
   "cell_type": "code",
   "execution_count": null,
   "metadata": {},
   "outputs": [],
   "source": [
    "crh_pred_fl=crh_.predict(x1)[:,0]\n",
    "'''\n",
    "creating a new plot with a title and axis labels. \n",
    "'''\n",
    "p1 = figure(plot_width=350, plot_height=350,title=\"actual vs predicted hp flow\", x_axis_label='actual', \n",
    "            y_axis_label='predicted')\n",
    "\n",
    "p1.scatter(crh_clean[crhflow1], crh_pred_fl);\n",
    "show(p1)"
   ]
  },
  {
   "cell_type": "code",
   "execution_count": null,
   "metadata": {},
   "outputs": [],
   "source": [
    "x1 = crh_clean[[mw1,exh,dbfuel1]]\n",
    "y1 = crh_clean[crhflow1]\n",
    "crh_nn= model_pca(layers=(100,100,100))\n",
    "crh_nn= crh_nn.fit(x1, y1)"
   ]
  },
  {
   "cell_type": "code",
   "execution_count": null,
   "metadata": {},
   "outputs": [],
   "source": [
    "pred1=crh_nn.predict(x1)\n",
    "y=y1\n",
    "err1 = y - pred1\n",
    "output_notebook()\n",
    "t1 = figure(plot_width=350, plot_height=350,title=\"Residual Plot\", x_axis_label='Index', \n",
    "            y_axis_label='Error')\n",
    "t1.scatter(list(range(len(err1))), err1)\n",
    "show(t1)\n"
   ]
  },
  {
   "cell_type": "code",
   "execution_count": null,
   "metadata": {},
   "outputs": [],
   "source": [
    "hrsgdf[lpflow1]=hrsgdf[lpflow1].apply(lambda x: 0 if x <0 else x)"
   ]
  },
  {
   "cell_type": "code",
   "execution_count": null,
   "metadata": {
    "pycharm": {
     "is_executing": false
    }
   },
   "outputs": [],
   "source": [
    "x1 = hrsgdf[[mw1,exh,dbfuel1]]\n",
    "y1 = hrsgdf[[lppress1,lptemp1]]\n",
    "lp_lm = LinearRegression()\n",
    "lp_lm = lp_lm.fit(x1, y1)"
   ]
  },
  {
   "cell_type": "code",
   "execution_count": null,
   "metadata": {},
   "outputs": [],
   "source": [
    "# lp_=model(layers=(40,40),n_iter=1000,patience=40)\n",
    "lp_=model_poly_pca()\n",
    "lp_=lp_.fit(hrsgdf[[mw1,exh,dbfuel1]],hrsgdf[lpflow1])"
   ]
  },
  {
   "cell_type": "code",
   "execution_count": null,
   "metadata": {
    "pycharm": {
     "is_executing": false
    }
   },
   "outputs": [],
   "source": [
    "lp_pred_fl=lp_.predict(hrsgdf[[mw1,exh,dbfuel1]])\n",
    "'''\n",
    "creating a new plot with a title and axis labels. \n",
    "'''\n",
    "p1 = figure(plot_width=350, plot_height=350,title=\"actual vs predicted lp flow\", x_axis_label='actual', \n",
    "            y_axis_label='predicted')\n",
    "\n",
    "p1.scatter(hrsgdf[lpflow1], lp_pred_fl);\n",
    "show(p1)"
   ]
  },
  {
   "cell_type": "code",
   "execution_count": null,
   "metadata": {},
   "outputs": [],
   "source": [
    "hrh_clean=hrsgdf.copy()\n",
    "ransac_fl = RANSACRegressor(LinearRegression(),\n",
    "                         max_trials=100, \n",
    "                         min_samples=50, \n",
    "                         loss='absolute_loss', \n",
    "                         residual_threshold=25, \n",
    "                         random_state=2301)\n",
    "ransac_fl=ransac_fl.fit(hrh_clean[[mw1,dbfuel1]].values, hrh_clean[hrhflow1].values)\n",
    "hrh_flow_pred=ransac_fl.predict(hrh_clean[[mw1,dbfuel1]].values)\n",
    "inlier_mask = ransac_fl.inlier_mask_\n",
    "hrh_clean=hrh_clean.assign(normal_hrhflow = lambda im: inlier_mask)\n",
    "hrh_clean['hrhflow']=hrh_flow_pred\n",
    "sns.lmplot(x=hrhflow1,y='hrhflow', data=hrh_clean,hue=\"normal_hrhflow\", height=6,fit_reg=False,\n",
    "           scatter_kws={\"s\": 25},line_kws={\"color\":\"black\",\"linewidth\":4},ci=None)"
   ]
  },
  {
   "cell_type": "code",
   "execution_count": null,
   "metadata": {},
   "outputs": [],
   "source": [
    "hrh_clean=hrh_clean[hrh_clean['normal_hrhflow']==True]\n",
    "'''\n",
    "creating a new plot with a title and axis labels. \n",
    "'''\n",
    "p1 = figure(plot_width=350, plot_height=350,title=\"HRH press vs flow\", x_axis_label='flow', \n",
    "            y_axis_label='pressure')\n",
    "\n",
    "p1.scatter(hrh_clean[hrhflow1], hrh_clean[hrhpress])\n",
    "show(p1);"
   ]
  },
  {
   "cell_type": "code",
   "execution_count": null,
   "metadata": {},
   "outputs": [],
   "source": [
    "hrh_clean=hrh_clean[hrh_clean['normal_hrhflow']==True]\n",
    "pred1=ransac_fl.predict(hrh_clean[[mw1,dbfuel1]])\n",
    "y=hrh_clean[hrhflow1].values\n",
    "err1 = y - pred1\n",
    "\n",
    "\n",
    "output_notebook()\n",
    "t1 = figure(plot_width=350, plot_height=350,title=\"Residual Plot\", x_axis_label='Index', \n",
    "            y_axis_label='Error')\n",
    "t1.scatter(list(range(len(err1))), err1)\n",
    "show(t1)\n",
    "\n",
    "\n",
    "print(np.sqrt(np.var(err1)))\n",
    "print(np.mean(np.abs((y - pred1) / y)))\n"
   ]
  },
  {
   "cell_type": "code",
   "execution_count": null,
   "metadata": {},
   "outputs": [],
   "source": [
    "hrh2x1df=hrh_clean[(hrh_clean[mw1]>50)&(hrh_clean[mw2]>50)].reset_index(drop=True)\n",
    "x1=hrh2x1df[hrhflow1].values.reshape(-1,1)\n",
    "y1=hrh2x1df[hrhpress]\n",
    "hrhp_=LinearRegression()\n",
    "hrhp_=hrhp_.fit(x1,y1)"
   ]
  },
  {
   "cell_type": "code",
   "execution_count": null,
   "metadata": {},
   "outputs": [],
   "source": [
    "# residual plot\n",
    "\n",
    "pred1=hrhp_.predict(x1)\n",
    "y=y1\n",
    "err1 = y - pred1\n",
    "\n",
    "\n",
    "output_notebook()\n",
    "t1 = figure(plot_width=350, plot_height=350,title=\"Residual Plot\", x_axis_label='Index', \n",
    "            y_axis_label='Error')\n",
    "t1.scatter(list(range(len(err1))), err1)\n",
    "show(t1)\n",
    "\n",
    "\n",
    "print(np.sqrt(np.var(err1)))\n",
    "print(np.mean(np.abs((y - pred1) / y)))\n"
   ]
  },
  {
   "cell_type": "code",
   "execution_count": null,
   "metadata": {
    "pycharm": {
     "is_executing": false
    }
   },
   "outputs": [],
   "source": [
    "x1 = hrh_clean[[mw1,exh,dbfuel1]]\n",
    "y1 = hrh_clean[[hrhpress,hrhtemp1]]\n",
    "hrh_lm = model_lm_pca()\n",
    "hrh_lm = hrh_lm.fit(x1, y1)"
   ]
  },
  {
   "cell_type": "code",
   "execution_count": null,
   "metadata": {},
   "outputs": [],
   "source": [
    "#hrh_=model_pca(layers=(200,200,200),n_iter=500,patience=40)\n",
    "hrh_=model_lm_pca()\n",
    "hrh_=hrh_.fit(x1,hrh_clean[hrhflow1])"
   ]
  },
  {
   "cell_type": "code",
   "execution_count": null,
   "metadata": {
    "pycharm": {
     "is_executing": false
    }
   },
   "outputs": [],
   "source": [
    "hrh_pred_fl=hrh_.predict(x1)\n",
    "'''\n",
    "creating a new plot with a title and axis labels. \n",
    "'''\n",
    "p1 = figure(plot_width=350, plot_height=350,title=\"actual vs predicted lp flow\", x_axis_label='actual', \n",
    "            y_axis_label='predicted')\n",
    "\n",
    "p1.scatter(hrh_clean[hrhflow1], hrh_pred_fl);\n",
    "show(p1)"
   ]
  },
  {
   "cell_type": "code",
   "execution_count": null,
   "metadata": {
    "pycharm": {
     "is_executing": false
    }
   },
   "outputs": [],
   "source": [
    "pkl = \"../../../pickles/hrsg3.pkl\"\n",
    "\n",
    "models = {'hp<press|temp><mw|exh_temp|db_fuel>'           :hp_lm,\n",
    "          'hp<flow><mw|exh_temp|db_fuel>'                 :hp_flow_,\n",
    "          'hp<super_heat_temp><mw|exh_temp|db_fuel>'      :hp_sh_,\n",
    "          'hrh<press|temp><mw|exh_temp|db_fuel>'          :hrh_lm,\n",
    "          'hrh<flow><mw|exh_temp|db_fuel>'                :hrh_,\n",
    "          'lp<press|temp><mw|exh_temp|db_fuel>'           :lp_lm,\n",
    "          'lp<flow><mw|exh_temp|db_fuel>'                 :lp_,\n",
    "          }\n",
    "\n",
    "with open(pkl, \"wb\") as f:\n",
    "    joblib.dump(models, f)\n",
    "    print(f'{f.name}')"
   ]
  },
  {
   "cell_type": "code",
   "execution_count": null,
   "metadata": {
    "pycharm": {
     "is_executing": false
    }
   },
   "outputs": [],
   "source": [
    "from scipy import optimize"
   ]
  },
  {
   "cell_type": "code",
   "execution_count": null,
   "metadata": {},
   "outputs": [],
   "source": [
    "def dbmin(x):\n",
    "    xin= (np.array([mw_,exh_,x]).reshape(1,-1))\n",
    "    yout=hp_sh_.predict(xin)\n",
    "    return yout- sh_temp_"
   ]
  },
  {
   "cell_type": "code",
   "execution_count": null,
   "metadata": {},
   "outputs": [],
   "source": [
    "mw_=171\n",
    "exh_=1108\n",
    "sh_temp_=1060"
   ]
  },
  {
   "cell_type": "code",
   "execution_count": null,
   "metadata": {},
   "outputs": [],
   "source": [
    "optimize.fsolve(func=dbmin, x0=500)"
   ]
  },
  {
   "cell_type": "code",
   "execution_count": null,
   "metadata": {},
   "outputs": [],
   "source": []
  }
 ],
 "metadata": {
  "colab": {
   "name": "CTG_Ranf.ipynb",
   "provenance": [],
   "version": "0.3.2"
  },
  "kernelspec": {
   "display_name": "Python 3",
   "language": "python",
   "name": "python3"
  },
  "language_info": {
   "codemirror_mode": {
    "name": "ipython",
    "version": 3
   },
   "file_extension": ".py",
   "mimetype": "text/x-python",
   "name": "python",
   "nbconvert_exporter": "python",
   "pygments_lexer": "ipython3",
   "version": "3.7.8"
  },
  "pycharm": {
   "stem_cell": {
    "cell_type": "raw",
    "metadata": {
     "collapsed": false
    },
    "source": []
   }
  },
  "varInspector": {
   "cols": {
    "lenName": 16,
    "lenType": 16,
    "lenVar": 40
   },
   "kernels_config": {
    "python": {
     "delete_cmd_postfix": "",
     "delete_cmd_prefix": "del ",
     "library": "var_list.py",
     "varRefreshCmd": "print(var_dic_list())"
    },
    "r": {
     "delete_cmd_postfix": ") ",
     "delete_cmd_prefix": "rm(",
     "library": "var_list.r",
     "varRefreshCmd": "cat(var_dic_list()) "
    }
   },
   "oldHeight": 284,
   "position": {
    "height": "40px",
    "left": "1050px",
    "right": "20px",
    "top": "120px",
    "width": "350px"
   },
   "types_to_exclude": [
    "module",
    "function",
    "builtin_function_or_method",
    "instance",
    "_Feature"
   ],
   "varInspector_section_display": "none",
   "window_display": true
  }
 },
 "nbformat": 4,
 "nbformat_minor": 1
}
