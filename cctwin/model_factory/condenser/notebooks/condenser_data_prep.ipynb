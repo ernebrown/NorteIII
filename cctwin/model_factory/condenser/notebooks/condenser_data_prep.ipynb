{
 "cells": [
  {
   "cell_type": "code",
   "execution_count": null,
   "metadata": {
    "colab": {},
    "colab_type": "code",
    "id": "nAucBDX1xDeL",
    "pycharm": {
     "is_executing": false
    }
   },
   "outputs": [],
   "source": [
    "\n",
    "import os.path as path\n",
    "import csv as csv\n",
    "import gzip as gzip\n",
    "import os as os\n",
    "import os.path as path\n",
    "import pandas as pd\n"
   ]
  },
  {
   "cell_type": "markdown",
   "metadata": {},
   "source": [
    "# Define file name of raw_data"
   ]
  },
  {
   "cell_type": "code",
   "execution_count": null,
   "metadata": {
    "pycharm": {
     "is_executing": false
    }
   },
   "outputs": [],
   "source": [
    "file_name_raw_data = \"../../_raw_data/bdec_2016-2019.gzip\""
   ]
  },
  {
   "cell_type": "markdown",
   "metadata": {},
   "source": [
    "# Get column names from raw_data file"
   ]
  },
  {
   "cell_type": "code",
   "execution_count": null,
   "metadata": {
    "pycharm": {
     "is_executing": false
    }
   },
   "outputs": [],
   "source": [
    "def getcolumnnamesfromfile(full_file_name: str) -> list:\n",
    "    \"\"\"\n",
    "    Returns a list of column names from specified file.\n",
    "    :rtype: list\n",
    "    :param full_file_name: full name of file including it's path and extension\n",
    "    :type full_file_name: str\n",
    "    :return: list of column names found in specified file\n",
    "    \"\"\"\n",
    "    try:\n",
    "        if not isinstance(full_file_name, str):\n",
    "            raise TypeError(\"Provided file name: '{}' is not a string.\".format(full_file_name))\n",
    "        if not path.isfile(full_file_name):\n",
    "            raise FileNotFoundError(\"Provided file name: '{}' does not exist.\".format(full_file_name))\n",
    "        extension = os.path.splitext(full_file_name)[1].lower()[1:]\n",
    "        if extension in ['csv', 'txt', 'tab']:\n",
    "            with open(full_file_name, mode='r', encoding='ISO-8859-1') as f:\n",
    "                sample = f.readline()\n",
    "                dialect = csv.Sniffer().sniff(sample, ',')\n",
    "                header = sample.strip().split(dialect.delimiter)\n",
    "                return header\n",
    "        if extension == 'gzip':\n",
    "            with gzip.open(full_file_name, mode='rt', encoding='ISO-8859-1') as f:\n",
    "                sample = f.readline()\n",
    "                dialect = csv.Sniffer().sniff(sample, ',')\n",
    "                header = sample.strip().split(dialect.delimiter)\n",
    "                return header\n",
    "    except Exception as error:\n",
    "        raise error"
   ]
  },
  {
   "cell_type": "code",
   "execution_count": null,
   "metadata": {
    "pycharm": {
     "is_executing": false
    }
   },
   "outputs": [],
   "source": [
    "cols = getcolumnnamesfromfile(file_name_raw_data)\n",
    "print('Found {} columns in file.'.format(len(cols)))\n",
    "for col in cols:\n",
    "    print(col)"
   ]
  },
  {
   "cell_type": "markdown",
   "metadata": {},
   "source": [
    "# Read only relevant columns from raw_data file"
   ]
  },
  {
   "cell_type": "code",
   "execution_count": null,
   "metadata": {
    "pycharm": {
     "is_executing": false
    }
   },
   "outputs": [],
   "source": [
    "cols = [ 'TimeStamp', \n",
    "         'GT3 Inlet Duct Temperature {Avg}',\n",
    "         'GT4 Inlet Duct Temperature {Avg}',\n",
    "         'SITE AMBIENT CONDITIONS REL HUMIDITY {Avg}',\n",
    "         'SITE AMBIENT CONDITIONS BARO PRESS XMTR {Avg}',\n",
    "         'CND CIRC WTR INLET TEMPERATURE {Avg}']"
   ]
  },
  {
   "cell_type": "code",
   "execution_count": null,
   "metadata": {
    "colab": {},
    "colab_type": "code",
    "id": "mJjUT61gxDea",
    "pycharm": {
     "is_executing": false
    }
   },
   "outputs": [],
   "source": [
    "model_df=pd.read_csv(file_name_raw_data, usecols = cols, compression='gzip', encoding=\"ISO-8859-2\")"
   ]
  },
  {
   "cell_type": "code",
   "execution_count": null,
   "metadata": {
    "pycharm": {
     "is_executing": false
    }
   },
   "outputs": [],
   "source": [
    "model_df['Amb db']=(model_df['GT3 Inlet Duct Temperature {Avg}']+model_df['GT4 Inlet Duct Temperature {Avg}'])/2"
   ]
  },
  {
   "cell_type": "code",
   "execution_count": null,
   "metadata": {
    "pycharm": {
     "is_executing": false
    }
   },
   "outputs": [],
   "source": [
    "model_df.describe()"
   ]
  },
  {
   "cell_type": "code",
   "execution_count": null,
   "metadata": {
    "pycharm": {
     "is_executing": false
    }
   },
   "outputs": [],
   "source": [
    "file_name_model_data = '../model_data/condenser_model_data.gzip'\n",
    "file_name_model_data"
   ]
  },
  {
   "cell_type": "code",
   "execution_count": null,
   "metadata": {
    "pycharm": {
     "is_executing": false
    }
   },
   "outputs": [],
   "source": [
    "model_df.to_csv(file_name_model_data,\n",
    "                encoding='ISO-8859-1',\n",
    "                sep=',',\n",
    "                index=False,\n",
    "                compression=\"gzip\")"
   ]
  },
  {
   "cell_type": "code",
   "execution_count": null,
   "metadata": {
    "pycharm": {
     "is_executing": false
    }
   },
   "outputs": [],
   "source": []
  }
 ],
 "metadata": {
  "colab": {
   "name": "CTG_Ranf.ipynb",
   "provenance": [],
   "version": "0.3.2"
  },
  "kernelspec": {
   "display_name": "Python 3",
   "language": "python",
   "name": "python3"
  },
  "language_info": {
   "codemirror_mode": {
    "name": "ipython",
    "version": 3
   },
   "file_extension": ".py",
   "mimetype": "text/x-python",
   "name": "python",
   "nbconvert_exporter": "python",
   "pygments_lexer": "ipython3",
   "version": "3.7.1"
  },
  "pycharm": {
   "stem_cell": {
    "cell_type": "raw",
    "metadata": {
     "collapsed": false
    },
    "source": []
   }
  },
  "varInspector": {
   "cols": {
    "lenName": 16,
    "lenType": 16,
    "lenVar": 40
   },
   "kernels_config": {
    "python": {
     "delete_cmd_postfix": "",
     "delete_cmd_prefix": "del ",
     "library": "var_list.py",
     "varRefreshCmd": "print(var_dic_list())"
    },
    "r": {
     "delete_cmd_postfix": ") ",
     "delete_cmd_prefix": "rm(",
     "library": "var_list.r",
     "varRefreshCmd": "cat(var_dic_list()) "
    }
   },
   "oldHeight": 284,
   "position": {
    "height": "306px",
    "left": "1050px",
    "right": "20px",
    "top": "120px",
    "width": "350px"
   },
   "types_to_exclude": [
    "module",
    "function",
    "builtin_function_or_method",
    "instance",
    "_Feature"
   ],
   "varInspector_section_display": "block",
   "window_display": false
  }
 },
 "nbformat": 4,
 "nbformat_minor": 1
}
