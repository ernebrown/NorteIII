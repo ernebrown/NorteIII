{
 "cells": [
  {
   "cell_type": "code",
   "execution_count": null,
   "metadata": {
    "colab": {},
    "colab_type": "code",
    "id": "nAucBDX1xDeL",
    "pycharm": {
     "is_executing": false
    }
   },
   "outputs": [],
   "source": [
    "'''\n",
    "Data munging libraries\n",
    "\n",
    "'''\n",
    "import random\n",
    "\n",
    "import numpy as np\n",
    "import pandas as pd\n",
    "import statsmodels.api as sm\n",
    "\n",
    "import joblib\n",
    "'''\n",
    "Visualization Libraries\n",
    "\n",
    "'''\n",
    "import seaborn as sns\n",
    "%matplotlib inline\n",
    "#%matplotlib notebook\n",
    "pd.set_option('display.max_columns', 100)\n",
    "pd.set_option('display.precision', 2) \n",
    "from bokeh.plotting import figure,  show, gridplot\n",
    "from bokeh.io import output_notebook\n",
    "from bokeh.layouts import row, column\n",
    "\n",
    "'''\n",
    "ML libraries\n",
    "\n",
    "'''\n",
    "\n",
    "from sklearn.multioutput import MultiOutputRegressor\n",
    "from sklearn.preprocessing import StandardScaler\n",
    "from sklearn.decomposition import PCA\n",
    "from sklearn.neural_network import MLPRegressor\n",
    "from sklearn.linear_model import LinearRegression, RANSACRegressor\n",
    "from sklearn.model_selection import GridSearchCV, train_test_split, cross_val_score;\n",
    "from sklearn.model_selection import  train_test_split ;\n",
    "from sklearn.pipeline import Pipeline;"
   ]
  },
  {
   "cell_type": "code",
   "execution_count": null,
   "metadata": {},
   "outputs": [],
   "source": [
    "output_notebook()"
   ]
  },
  {
   "cell_type": "markdown",
   "metadata": {},
   "source": [
    "# Define file name of model_data¶"
   ]
  },
  {
   "cell_type": "code",
   "execution_count": null,
   "metadata": {
    "pycharm": {
     "is_executing": false
    }
   },
   "outputs": [],
   "source": [
    "file_name_model_data = \"../model_data/condenser_model_data.gzip\""
   ]
  },
  {
   "cell_type": "code",
   "execution_count": null,
   "metadata": {
    "pycharm": {
     "is_executing": false
    }
   },
   "outputs": [],
   "source": [
    "model_df=pd.read_csv(file_name_model_data, compression='gzip' ,encoding=\"ISO-8859-2\")"
   ]
  },
  {
   "cell_type": "code",
   "execution_count": null,
   "metadata": {
    "colab": {},
    "colab_type": "code",
    "id": "mJjUT61gxDea",
    "pycharm": {
     "is_executing": false
    }
   },
   "outputs": [],
   "source": [
    "model_df.describe()"
   ]
  },
  {
   "cell_type": "code",
   "execution_count": null,
   "metadata": {
    "pycharm": {
     "is_executing": false
    }
   },
   "outputs": [],
   "source": [
    "drybulb = \"Amb db\"\n",
    "baro = 'SITE AMBIENT CONDITIONS BARO PRESS XMTR {Avg}'\n",
    "rh = \"SITE AMBIENT CONDITIONS REL HUMIDITY {Avg}\"\n",
    "watertemp = \"CND CIRC WTR INLET TEMPERATURE {Avg}\""
   ]
  },
  {
   "cell_type": "code",
   "execution_count": null,
   "metadata": {},
   "outputs": [],
   "source": [
    "def model(layers=(40,40),es=True,n_iter=200,tol=0.0001,patience=10):\n",
    "    ppl=Pipeline([('scaler',StandardScaler()),\n",
    "                  ('estimator',MLPRegressor(hidden_layer_sizes=layers,\n",
    "                                            early_stopping=es,\n",
    "                                            tol=tol,max_iter=n_iter,random_state=2301,n_iter_no_change=patience))\n",
    "                 ])\n",
    "    return ppl"
   ]
  },
  {
   "cell_type": "code",
   "execution_count": null,
   "metadata": {},
   "outputs": [],
   "source": [
    "def model_pca(pca_frac=None,layers=(40,40),es=True,n_iter=200,tol=0.0001,patience=10,random=2301):\n",
    "    ppl=Pipeline([('scaler',StandardScaler()),('pca',PCA(n_components=pca_frac,random_state=random)),\n",
    "                  ('estimator',MLPRegressor(hidden_layer_sizes=layers,\n",
    "                                            early_stopping=es,\n",
    "                                            tol=tol,max_iter=n_iter,random_state=random,n_iter_no_change=patience))\n",
    "                 ])\n",
    "    return ppl"
   ]
  },
  {
   "cell_type": "code",
   "execution_count": null,
   "metadata": {},
   "outputs": [],
   "source": [
    "model_df=model_df[(model_df[drybulb]>0)& (model_df[watertemp]>0)&(model_df[baro]>0\n",
    "                                                                 &(model_df[rh]>0))].reset_index(drop=True)"
   ]
  },
  {
   "cell_type": "code",
   "execution_count": null,
   "metadata": {},
   "outputs": [],
   "source": [
    "X, y=model_df[[drybulb,rh,baro]],model_df[watertemp]"
   ]
  },
  {
   "cell_type": "code",
   "execution_count": null,
   "metadata": {},
   "outputs": [],
   "source": [
    "circ_=model(layers=(80,80),n_iter=500,patience=20)\n",
    "circ_=circ_.fit(X,y)"
   ]
  },
  {
   "cell_type": "code",
   "execution_count": null,
   "metadata": {},
   "outputs": [],
   "source": [
    "pred_temp=circ_.predict(X)\n",
    "'''\n",
    "creating a new plot with a title and axis labels. \n",
    "'''\n",
    "p1 = figure(plot_width=350, plot_height=350,title=\"actual vs predicted circ temp\", x_axis_label='actual', \n",
    "            y_axis_label='predicted')\n",
    "\n",
    "p1.scatter(y, pred_temp)\n",
    "show(p1);"
   ]
  },
  {
   "cell_type": "code",
   "execution_count": null,
   "metadata": {
    "pycharm": {
     "is_executing": false
    }
   },
   "outputs": [],
   "source": [
    "# residual plot\n",
    "pred = circ_.predict(model_df[[drybulb, rh,baro]])\n",
    "err = model_df[watertemp] - pred\n",
    "\n",
    "output_notebook()\n",
    "t1 = figure(plot_width=350, plot_height=350,title=\"Residual Plot\", x_axis_label='Index', \n",
    "            y_axis_label='Error')\n",
    "t1.scatter(list(range(len(err))), err)\n",
    "show(t1)\n",
    "print(np.sqrt(np.var(err)))\n",
    "print(np.mean(np.abs((model_df[watertemp] - pred) / model_df[watertemp])))"
   ]
  },
  {
   "cell_type": "code",
   "execution_count": null,
   "metadata": {
    "pycharm": {
     "is_executing": false
    }
   },
   "outputs": [],
   "source": [
    "pkl = \"../../../pickles/condenser.pkl\"\n",
    "\n",
    "models = { 'condenser<circ_water_temp><db|rh|baro>': circ_ }\n",
    "\n",
    "with open(pkl, \"wb\") as f:\n",
    "    joblib.dump(models, f)\n",
    "    print(f'{f.name}')"
   ]
  },
  {
   "cell_type": "code",
   "execution_count": null,
   "metadata": {
    "pycharm": {
     "is_executing": false
    }
   },
   "outputs": [],
   "source": []
  }
 ],
 "metadata": {
  "colab": {
   "name": "CTG_Ranf.ipynb",
   "provenance": [],
   "version": "0.3.2"
  },
  "kernelspec": {
   "display_name": "Python 3",
   "language": "python",
   "name": "python3"
  },
  "language_info": {
   "codemirror_mode": {
    "name": "ipython",
    "version": 3
   },
   "file_extension": ".py",
   "mimetype": "text/x-python",
   "name": "python",
   "nbconvert_exporter": "python",
   "pygments_lexer": "ipython3",
   "version": "3.7.1"
  },
  "pycharm": {
   "stem_cell": {
    "cell_type": "raw",
    "metadata": {
     "collapsed": false
    },
    "source": []
   }
  },
  "varInspector": {
   "cols": {
    "lenName": 16,
    "lenType": 16,
    "lenVar": 40
   },
   "kernels_config": {
    "python": {
     "delete_cmd_postfix": "",
     "delete_cmd_prefix": "del ",
     "library": "var_list.py",
     "varRefreshCmd": "print(var_dic_list())"
    },
    "r": {
     "delete_cmd_postfix": ") ",
     "delete_cmd_prefix": "rm(",
     "library": "var_list.r",
     "varRefreshCmd": "cat(var_dic_list()) "
    }
   },
   "oldHeight": 284,
   "position": {
    "height": "40px",
    "left": "1050px",
    "right": "20px",
    "top": "120px",
    "width": "350px"
   },
   "types_to_exclude": [
    "module",
    "function",
    "builtin_function_or_method",
    "instance",
    "_Feature"
   ],
   "varInspector_section_display": "none",
   "window_display": true
  }
 },
 "nbformat": 4,
 "nbformat_minor": 1
}
