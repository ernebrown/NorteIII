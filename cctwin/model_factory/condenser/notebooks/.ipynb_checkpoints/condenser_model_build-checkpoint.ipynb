{
 "cells": [
  {
   "cell_type": "code",
   "execution_count": null,
   "metadata": {
    "colab": {},
    "colab_type": "code",
    "id": "nAucBDX1xDeL",
    "pycharm": {
     "is_executing": false
    }
   },
   "outputs": [],
   "source": [
    "'''\n",
    "Data munging libraries\n",
    "\n",
    "'''\n",
    "import joblib\n",
    "import numpy as np\n",
    "import pandas as pd\n",
    "'''\n",
    "Visualization Libraries\n",
    "\n",
    "'''\n",
    "%matplotlib inline\n",
    "#%matplotlib notebook\n",
    "pd.set_option('display.max_columns', 100)\n",
    "pd.set_option('display.precision', 2) \n",
    "from bokeh.plotting import figure,  show\n",
    "from bokeh.io import output_notebook\n",
    "\n",
    "'''\n",
    "ML libraries\n",
    "\n",
    "'''\n",
    "\n",
    "from sklearn.ensemble import RandomForestRegressor\n",
    "from sklearn.linear_model import LinearRegression"
   ]
  },
  {
   "cell_type": "markdown",
   "metadata": {},
   "source": [
    "# Define file name of model_data¶"
   ]
  },
  {
   "cell_type": "code",
   "execution_count": null,
   "metadata": {
    "pycharm": {
     "is_executing": false
    }
   },
   "outputs": [],
   "source": [
    "file_name_model_data = \"../model_data/condenser_model_data.gzip\""
   ]
  },
  {
   "cell_type": "code",
   "execution_count": null,
   "metadata": {
    "pycharm": {
     "is_executing": false
    }
   },
   "outputs": [],
   "source": [
    "model_df=pd.read_csv(file_name_model_data, compression='gzip' ,encoding=\"ISO-8859-2\")"
   ]
  },
  {
   "cell_type": "code",
   "execution_count": null,
   "metadata": {
    "colab": {},
    "colab_type": "code",
    "id": "mJjUT61gxDea",
    "pycharm": {
     "is_executing": false
    }
   },
   "outputs": [],
   "source": [
    "model_df.describe()"
   ]
  },
  {
   "cell_type": "code",
   "execution_count": null,
   "metadata": {
    "pycharm": {
     "is_executing": false
    }
   },
   "outputs": [],
   "source": [
    "\n",
    "drybulb = \"Dry Bulb Temp {Avg}\"\n",
    "baro = 'SITE AMBIENT CONDITIONS BARO PRESS XMTR {Avg}'\n",
    "rh = \"Relative Humidity {Avg}\"\n",
    "watertemp = \"CND CIRC WTR INLET TEMPERATURE {Avg}\"\n",
    "\n",
    "\n",
    "\n",
    "watertemp_ranf = RandomForestRegressor(max_depth=20,n_estimators=200)\n",
    "watertemp_ranf.fit(model_df[[drybulb, rh,baro]],model_df[watertemp])\n",
    "watertemp_ranf.feature_importances_"
   ]
  },
  {
   "cell_type": "code",
   "execution_count": null,
   "metadata": {
    "pycharm": {
     "is_executing": false
    }
   },
   "outputs": [],
   "source": [
    "# residual plot\n",
    "pred = watertemp_ranf.predict(model_df[[drybulb, rh,baro]])\n",
    "err = model_df[watertemp] - pred\n",
    "\n",
    "output_notebook()\n",
    "t1 = figure(plot_width=350, plot_height=350,title=\"Residual Plot\", x_axis_label='Index', \n",
    "            y_axis_label='Error')\n",
    "t1.scatter(list(range(len(err))), err)\n",
    "show(t1)\n",
    "print(np.sqrt(np.var(err)))\n",
    "print(np.mean(np.abs((model_df[watertemp] - pred) / model_df[watertemp])))"
   ]
  },
  {
   "cell_type": "code",
   "execution_count": null,
   "metadata": {
    "pycharm": {
     "is_executing": false
    }
   },
   "outputs": [],
   "source": [
    "pred = watertemp_ranf.predict(model_df[[drybulb, rh,baro]])\n",
    "err = model_df[watertemp]\n",
    "\n",
    "output_notebook()\n",
    "t1 = figure(plot_width=350, plot_height=350,title=\"pred vs actual\", x_axis_label='actual', \n",
    "            y_axis_label='pred')\n",
    "t1.scatter(err,pred)\n",
    "show(t1)"
   ]
  },
  {
   "cell_type": "code",
   "execution_count": null,
   "metadata": {
    "pycharm": {
     "is_executing": false
    }
   },
   "outputs": [],
   "source": [
    "watertemp_lm = LinearRegression()\n",
    "watertemp_lm.fit(model_df[[drybulb, rh,baro]],model_df[watertemp])"
   ]
  },
  {
   "cell_type": "code",
   "execution_count": null,
   "metadata": {
    "pycharm": {
     "is_executing": false
    }
   },
   "outputs": [],
   "source": [
    "# residual plot\n",
    "pred = watertemp_lm.predict(model_df[[drybulb, rh,baro]])\n",
    "err = model_df[watertemp] - pred\n",
    "\n",
    "output_notebook()\n",
    "t1 = figure(plot_width=350, plot_height=350,title=\"Residual Plot\", x_axis_label='Index', \n",
    "            y_axis_label='Error')\n",
    "t1.scatter(list(range(len(err))), err)\n",
    "show(t1)\n",
    "print(np.sqrt(np.var(err)))\n",
    "print(np.mean(np.abs((model_df[watertemp] - pred) / model_df[watertemp])))"
   ]
  },
  {
   "cell_type": "code",
   "execution_count": null,
   "metadata": {
    "pycharm": {
     "is_executing": false
    }
   },
   "outputs": [],
   "source": [
    "pred = watertemp_lm.predict(model_df[[drybulb, rh,baro]])\n",
    "err = model_df[watertemp]\n",
    "\n",
    "output_notebook()\n",
    "t1 = figure(plot_width=350, plot_height=350,title=\"pred vs actual\", x_axis_label='actual', \n",
    "            y_axis_label='pred')\n",
    "t1.scatter(err,pred)\n",
    "show(t1)\n",
    "\n"
   ]
  },
  {
   "cell_type": "code",
   "execution_count": null,
   "metadata": {
    "pycharm": {
     "is_executing": false
    }
   },
   "outputs": [],
   "source": [
    "pkl = \"../../../pickles/condenser.pkl\"\n",
    "\n",
    "models = { 'condenser<circ_water_temp><db|rh|baro>':watertemp_lm }\n",
    "\n",
    "with open(pkl, \"wb\") as f:\n",
    "    joblib.dump(models, f)\n",
    "    print(f'{f.name}')"
   ]
  },
  {
   "cell_type": "code",
   "execution_count": null,
   "metadata": {
    "pycharm": {
     "is_executing": false
    }
   },
   "outputs": [],
   "source": []
  }
 ],
 "metadata": {
  "colab": {
   "name": "CTG_Ranf.ipynb",
   "provenance": [],
   "version": "0.3.2"
  },
  "kernelspec": {
   "display_name": "Python 3",
   "language": "python",
   "name": "python3"
  },
  "language_info": {
   "codemirror_mode": {
    "name": "ipython",
    "version": 3
   },
   "file_extension": ".py",
   "mimetype": "text/x-python",
   "name": "python",
   "nbconvert_exporter": "python",
   "pygments_lexer": "ipython3",
   "version": "3.7.1"
  },
  "pycharm": {
   "stem_cell": {
    "cell_type": "raw",
    "metadata": {
     "collapsed": false
    },
    "source": []
   }
  },
  "varInspector": {
   "cols": {
    "lenName": 16,
    "lenType": 16,
    "lenVar": 40
   },
   "kernels_config": {
    "python": {
     "delete_cmd_postfix": "",
     "delete_cmd_prefix": "del ",
     "library": "var_list.py",
     "varRefreshCmd": "print(var_dic_list())"
    },
    "r": {
     "delete_cmd_postfix": ") ",
     "delete_cmd_prefix": "rm(",
     "library": "var_list.r",
     "varRefreshCmd": "cat(var_dic_list()) "
    }
   },
   "oldHeight": 284,
   "position": {
    "height": "40px",
    "left": "1050px",
    "right": "20px",
    "top": "120px",
    "width": "350px"
   },
   "types_to_exclude": [
    "module",
    "function",
    "builtin_function_or_method",
    "instance",
    "_Feature"
   ],
   "varInspector_section_display": "none",
   "window_display": true
  }
 },
 "nbformat": 4,
 "nbformat_minor": 1
}
