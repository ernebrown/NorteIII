{
 "cells": [
  {
   "cell_type": "code",
   "execution_count": null,
   "metadata": {
    "colab": {},
    "colab_type": "code",
    "id": "nAucBDX1xDeL",
    "pycharm": {
     "is_executing": false
    }
   },
   "outputs": [],
   "source": [
    "'''\n",
    "Data munging libraries\n",
    "\n",
    "'''\n",
    "import random\n",
    "\n",
    "import numpy as np\n",
    "import pandas as pd\n",
    "import statsmodels.api as sm\n",
    "\n",
    "import joblib\n",
    "'''\n",
    "Visualization Libraries\n",
    "\n",
    "'''\n",
    "import seaborn as sns\n",
    "%matplotlib inline\n",
    "#%matplotlib notebook\n",
    "pd.set_option('display.max_columns', 100)\n",
    "pd.set_option('display.precision', 2) \n",
    "from bokeh.plotting import figure,  show, gridplot\n",
    "from bokeh.io import output_notebook\n",
    "\n",
    "'''\n",
    "ML libraries\n",
    "\n",
    "'''\n",
    "\n",
    "from sklearn.multioutput import MultiOutputRegressor\n",
    "from sklearn.svm import SVR\n",
    "from sklearn.preprocessing import StandardScaler\n",
    "from sklearn.ensemble import RandomForestRegressor\n",
    "from sklearn.linear_model import LinearRegression, RANSACRegressor\n",
    "from sklearn.model_selection import GridSearchCV, train_test_split, cross_val_score;\n",
    "from sklearn.model_selection import  train_test_split ;"
   ]
  },
  {
   "cell_type": "markdown",
   "metadata": {},
   "source": [
    "# Define file name of model_data"
   ]
  },
  {
   "cell_type": "code",
   "execution_count": null,
   "metadata": {
    "pycharm": {
     "is_executing": false
    }
   },
   "outputs": [],
   "source": [
    "file_name_model_data = \"../model_data/ctg8_model_data.gzip\""
   ]
  },
  {
   "cell_type": "code",
   "execution_count": null,
   "metadata": {
    "colab": {},
    "colab_type": "code",
    "id": "mJjUT61gxDea",
    "pycharm": {
     "is_executing": false
    }
   },
   "outputs": [],
   "source": [
    "model_df=pd.read_csv(file_name_model_data, compression='gzip' ,encoding=\"ISO-8859-2\")"
   ]
  },
  {
   "cell_type": "code",
   "execution_count": null,
   "metadata": {
    "pycharm": {
     "is_executing": false
    }
   },
   "outputs": [],
   "source": [
    "model_df.describe()"
   ]
  },
  {
   "cell_type": "code",
   "execution_count": null,
   "metadata": {
    "colab": {},
    "colab_type": "code",
    "id": "8Ng-SzoKxDez",
    "pycharm": {
     "is_executing": false
    }
   },
   "outputs": [],
   "source": [
    "mw='GT8 Generator Watts Max Selected {Avg}'\n",
    "igv='GT8 IGV angle in deg {Avg}'\n",
    "fsr='GT8 Fuel Stroke Reference {Avg}'\n",
    "fsrt='GT8 Temperature Control Fuel Stroke Reference {Avg}'\n",
    "cit='GT8 Compressor Inlet Temperature {Avg}'\n",
    "fuel='GT8 Fuel Energy Flow MMBTU'\n",
    "cpd='GT8 Compressor Discharge Press Max Select {Avg}'\n",
    "ctd='GT8 Compressor Discharge Temperature {Avg}'\n",
    "baro='SITE AMBIENT CONDITIONS BARO PRESS XMTR {Avg}'\n",
    "exh='GT8 Exhaust Temp Median Corrected By Average {Avg}'\n",
    "std='GT8 Generator Watts Max Selected {StdDev}'"
   ]
  },
  {
   "cell_type": "code",
   "execution_count": null,
   "metadata": {
    "colab": {},
    "colab_type": "code",
    "id": "tSPeaRdMxDe8",
    "pycharm": {
     "is_executing": false
    }
   },
   "outputs": [],
   "source": [
    "base_df=model_df[(model_df[mw]>100) &\n",
    "                (model_df[igv]>84) &\n",
    "                (model_df[std]<0.25)&\n",
    "                (abs(model_df[fsr]-model_df[fsrt]<=0.1))]"
   ]
  },
  {
   "cell_type": "code",
   "execution_count": null,
   "metadata": {
    "colab": {},
    "colab_type": "code",
    "id": "9l2bulOfxDfK",
    "pycharm": {
     "is_executing": false
    }
   },
   "outputs": [],
   "source": [
    "# Remove outliers mw ~ cit\n",
    "ransac_mw = RANSACRegressor(LinearRegression(),\n",
    "                         max_trials=100, \n",
    "                         min_samples=50, \n",
    "                         loss='absolute_loss', \n",
    "                         residual_threshold=5, \n",
    "                         random_state=2301)\n",
    "\n",
    "ransac_mw=ransac_mw.fit(base_df[cit].values.reshape(-1,1), base_df[mw].values)\n",
    "\n",
    "mw_base_pred=ransac_mw.predict(base_df[cit].values.reshape(-1,1))\n",
    "\n",
    "inlier_mask = ransac_mw.inlier_mask_\n",
    "\n",
    "base_df=base_df.assign(normal_mw = lambda im: inlier_mask)\n",
    "\n",
    "sns.lmplot(x=cit, y=mw, data=base_df,hue=\"normal_mw\", height=8,fit_reg=True,scatter_kws={\"s\": 25},\n",
    "           line_kws={\"color\":\"black\",\"linewidth\":4},ci=None)\n",
    "base_df_clean = base_df[base_df[\"normal_mw\"]]"
   ]
  },
  {
   "cell_type": "code",
   "execution_count": null,
   "metadata": {
    "colab": {},
    "colab_type": "code",
    "id": "g-QOmGdPzy8X",
    "pycharm": {
     "is_executing": false
    }
   },
   "outputs": [],
   "source": [
    "## Data Augamentation\n",
    "x=base_df_clean[[baro,cit]]\n",
    "x=sm.add_constant(x)"
   ]
  },
  {
   "cell_type": "code",
   "execution_count": null,
   "metadata": {
    "colab": {
     "base_uri": "https://localhost:8080/",
     "height": 34
    },
    "colab_type": "code",
    "id": "9RaLlIyPxYjQ",
    "outputId": "f45920ad-98ab-4ad4-8ac2-e197dc5903c1",
    "pycharm": {
     "is_executing": false
    }
   },
   "outputs": [],
   "source": [
    "# LR of GT MW\n",
    "lm_mw = sm.OLS(base_df_clean[mw], x).fit()\n",
    "lm_mw.summary()"
   ]
  },
  {
   "cell_type": "code",
   "execution_count": null,
   "metadata": {
    "pycharm": {
     "is_executing": false
    }
   },
   "outputs": [],
   "source": [
    "#Data Augamentation - expand cit & baro\n",
    "a = list(range(92,111))\n",
    "b = list(range(1,31))\n",
    "a = np.hstack((a,b))\n",
    "cit_ad = a+np.random.randn(4,1) #add 20 points per degree\n",
    "cit_ad = [x for sublist in cit_ad for x in sublist]\n",
    "baro_ad = []\n",
    "#rh_ad =[]\n",
    "for i in range(len(cit_ad)):\n",
    "    baro_ad.append(random.uniform(min(base_df_clean[baro]), max(base_df_clean[baro])))\n",
    "#    rh_ad.append(random.uniform(min(base_df_clean[rh]), max(base_df_clean[rh])))\n"
   ]
  },
  {
   "cell_type": "code",
   "execution_count": null,
   "metadata": {
    "pycharm": {
     "is_executing": false
    }
   },
   "outputs": [],
   "source": [
    "baro_ad,cit_ad = pd.Series(baro_ad),pd.Series(cit_ad)\n",
    "new_x = pd.DataFrame([baro_ad, cit_ad])\n",
    "new_x = new_x.T\n",
    "new_x.columns =  [baro,cit]\n",
    "\n",
    "# predict mw based on extended baro and cit\n",
    "new_x = sm.add_constant(new_x)\n",
    "exp_mw = lm_mw.predict(new_x)#+np.random.randn(len(new_x),1).reshape(len(new_x),)"
   ]
  },
  {
   "cell_type": "code",
   "execution_count": null,
   "metadata": {
    "pycharm": {
     "is_executing": false
    }
   },
   "outputs": [],
   "source": [
    "#merge extended baro, cit, mw\n",
    "new_df = pd.concat([new_x,exp_mw],axis=1)\n",
    "new_df.rename(columns = {0:mw},inplace=True)\n",
    "new_df.describe()"
   ]
  },
  {
   "cell_type": "code",
   "execution_count": null,
   "metadata": {
    "pycharm": {
     "is_executing": false
    }
   },
   "outputs": [],
   "source": [
    "## Remove outlier for ctd vs temp\n",
    "ransac_mw = RANSACRegressor(LinearRegression(),\n",
    "                         max_trials=100, \n",
    "                         min_samples=50, \n",
    "                         loss='absolute_loss', \n",
    "                         residual_threshold=7, \n",
    "                         random_state=2301)\n",
    "ransac_mw=ransac_mw.fit(base_df_clean[cit].values.reshape(-1,1), base_df_clean[ctd].values)\n",
    "mw_base_pred=ransac_mw.predict(base_df_clean[ctd].values.reshape(-1,1))\n",
    "inlier_mask = ransac_mw.inlier_mask_\n",
    "base_df_clean=base_df_clean.assign(normal_ctd = lambda im: inlier_mask)\n",
    "sns.lmplot(x=cit, y=ctd, data=base_df_clean,hue=\"normal_ctd\", height=6,fit_reg=True,scatter_kws={\"s\": 25},\n",
    "           line_kws={\"color\":\"black\",\"linewidth\":4},ci=None);"
   ]
  },
  {
   "cell_type": "code",
   "execution_count": null,
   "metadata": {
    "pycharm": {
     "is_executing": false
    }
   },
   "outputs": [],
   "source": [
    "## Augment ctd\n",
    "base_df_ctd = base_df_clean[base_df_clean[\"normal_ctd\"]]\n",
    "x = np.array(base_df_ctd[[cit,baro]]).reshape(-1,2)\n",
    "y = np.array(base_df_ctd[ctd]).reshape(-1,1)\n",
    "lm_ctd = LinearRegression()\n",
    "lm_ctd.fit(x,y)\n",
    "new_x = pd.DataFrame([cit_ad,baro_ad])\n",
    "new_x = new_x.T\n",
    "new_x.columns =  [cit,baro]\n",
    "\n",
    "ctd_aug = lm_ctd.predict(new_x)"
   ]
  },
  {
   "cell_type": "code",
   "execution_count": null,
   "metadata": {
    "pycharm": {
     "is_executing": false
    }
   },
   "outputs": [],
   "source": [
    "## Remove outlier for cpd vs temp\n",
    "ransac_mw = RANSACRegressor(LinearRegression(),\n",
    "                         max_trials=100, \n",
    "                         min_samples=50, \n",
    "                         loss='absolute_loss', \n",
    "                         residual_threshold=5, \n",
    "                         random_state=2301)\n",
    "ransac_mw=ransac_mw.fit(base_df_clean[cit].values.reshape(-1,1), base_df_clean[cpd].values)\n",
    "mw_base_pred=ransac_mw.predict(base_df_clean[cpd].values.reshape(-1,1))\n",
    "inlier_mask = ransac_mw.inlier_mask_\n",
    "base_df_clean=base_df_clean.assign(normal_cpd = lambda im: inlier_mask)\n",
    "sns.lmplot(x=cit, y=cpd, data=base_df_clean,hue=\"normal_cpd\", height=6,fit_reg=True,scatter_kws={\"s\": 25},\n",
    "           line_kws={\"color\":\"black\",\"linewidth\":4},ci=None)"
   ]
  },
  {
   "cell_type": "code",
   "execution_count": null,
   "metadata": {
    "pycharm": {
     "is_executing": false
    }
   },
   "outputs": [],
   "source": [
    "## Augment cpd\n",
    "base_df_cpd = base_df_clean[base_df_clean[\"normal_cpd\"]]\n",
    "x = np.array(base_df_ctd[[cit,baro]]).reshape(-1,2)\n",
    "y = np.array(base_df_ctd[cpd]).reshape(-1,1)\n",
    "lm_cpd = LinearRegression()\n",
    "lm_cpd.fit(x,y)\n",
    "\n",
    "new_x = pd.DataFrame([cit_ad,baro_ad])\n",
    "new_x = new_x.T\n",
    "new_x.columns =  [cit,baro]\n",
    "                         \n",
    "cpd_aug = lm_cpd.predict(new_x)"
   ]
  },
  {
   "cell_type": "code",
   "execution_count": null,
   "metadata": {
    "pycharm": {
     "is_executing": false
    }
   },
   "outputs": [],
   "source": [
    "sns.lmplot(x=cpd, y=exh, data=base_df_cpd,height=6,fit_reg=True,scatter_kws={\"s\": 25},\n",
    "           line_kws={\"color\":\"black\",\"linewidth\":4},ci=None);"
   ]
  },
  {
   "cell_type": "code",
   "execution_count": null,
   "metadata": {
    "pycharm": {
     "is_executing": false
    }
   },
   "outputs": [],
   "source": [
    "## Add augmented cpd and ctd to data\n",
    "new_df[cpd],new_df[ctd] = cpd_aug,ctd_aug\n"
   ]
  },
  {
   "cell_type": "code",
   "execution_count": null,
   "metadata": {
    "pycharm": {
     "is_executing": false
    }
   },
   "outputs": [],
   "source": [
    "#Augment exh\n",
    "x = np.array(base_df_clean[cpd]).reshape(-1,1)\n",
    "y = np.array(base_df_clean[exh]).reshape(-1,1)\n",
    "lm_exh = LinearRegression()\n",
    "lm_exh.fit(x,y)\n",
    "\n",
    "exh_aug = lm_exh.predict(np.array(cpd_aug).reshape(-1,1))#.reshape(-1,1)\n",
    "\n",
    "## Add augmented exh to data\n",
    "new_df[exh] = exh_aug\n",
    "#new_df[exh]=new_df[exh].apply(lambda x: 1200 if x>1200 else x)\n",
    "sns.lmplot(x=cpd, y=exh, data=new_df,height=6,fit_reg=False,scatter_kws={\"s\": 25},\n",
    "           line_kws={\"color\":\"black\",\"linewidth\":4},ci=None);"
   ]
  },
  {
   "cell_type": "markdown",
   "metadata": {},
   "source": [
    "#Augment exh\n",
    "x = np.array(base_df_clean[cpd]).reshape(-1,1)\n",
    "x = sm.add_constant(x)\n",
    "y = np.array(base_df_clean[exh]).reshape(-1,1)\n",
    "lm_exh = LinearRegression()\n",
    "lm_exh.fit(x,y)\n",
    "\n",
    "exh_aug = lm_exh.predict(np.hstack((np.array(cpd_aug).reshape(-1,1),np.ones(len(cpd_aug)).reshape(-1,1))))\n",
    "\n",
    "## Add augmented exh to data\n",
    "new_df[exh] = exh_aug\n",
    "new_df[exh]=new_df[exh].apply(lambda x: 1200 if x>1200 else x)"
   ]
  },
  {
   "cell_type": "code",
   "execution_count": null,
   "metadata": {
    "pycharm": {
     "is_executing": false
    }
   },
   "outputs": [],
   "source": [
    "#Augment fuel\n",
    "x = np.array(base_df_clean[mw]).reshape(-1,1)\n",
    "y = np.array(base_df_clean[fuel]).reshape(-1,1)\n",
    "lm_f = LinearRegression()\n",
    "lm_f.fit(x,y)\n",
    "\n",
    "fuel_aug = lm_f.predict(new_df[mw].values.reshape(-1,1))\n",
    "\n",
    "## Add augmented exh to data\n",
    "new_df[fuel] = fuel_aug\n",
    "sns.lmplot(x=mw, y=fuel, data=new_df,height=6,fit_reg=False,scatter_kws={\"s\": 25},\n",
    "           line_kws={\"color\":\"black\",\"linewidth\":4},ci=None);"
   ]
  },
  {
   "cell_type": "code",
   "execution_count": null,
   "metadata": {
    "pycharm": {
     "is_executing": false
    }
   },
   "outputs": [],
   "source": [
    "base_df_clean[[baro,cit,ctd,cpd,mw,exh,fuel]]=base_df_clean[[baro,cit,ctd,cpd,mw,exh,fuel]].astype(float)"
   ]
  },
  {
   "cell_type": "code",
   "execution_count": null,
   "metadata": {
    "pycharm": {
     "is_executing": false
    }
   },
   "outputs": [],
   "source": [
    "# Add all augmented data to original df\n",
    "base_df_all = pd.merge(base_df_clean,new_df,on = [baro,cit,ctd,cpd,mw,exh,fuel],how = 'outer')"
   ]
  },
  {
   "cell_type": "code",
   "execution_count": null,
   "metadata": {
    "pycharm": {
     "is_executing": false
    }
   },
   "outputs": [],
   "source": [
    "output_notebook()\n",
    "t1 = figure(plot_width=350, plot_height=350,title=\"MW vs Temp\", x_axis_label='Temp', \n",
    "            y_axis_label='MW')\n",
    "t1.scatter(base_df_all[cit], base_df_all[mw])\n",
    "\n",
    "t2 = figure(plot_width=350, plot_height=350,title=\"MW vs Temp\", x_axis_label='Temp', \n",
    "            y_axis_label='MW')\n",
    "t2.scatter(base_df_clean[cit], base_df_clean[mw])\n",
    "\n",
    "\n",
    "show(t1)\n",
    "show(t2)"
   ]
  },
  {
   "cell_type": "code",
   "execution_count": null,
   "metadata": {
    "pycharm": {
     "is_executing": false
    }
   },
   "outputs": [],
   "source": [
    "sns.lmplot(x=cpd, y=exh, data=base_df_all,height=6,fit_reg=False,scatter_kws={\"s\": 25},\n",
    "           line_kws={\"color\":\"black\",\"linewidth\":4},ci=None);"
   ]
  },
  {
   "cell_type": "code",
   "execution_count": null,
   "metadata": {
    "pycharm": {
     "is_executing": false
    }
   },
   "outputs": [],
   "source": [
    "sns.lmplot(x=mw, y=fuel, data=base_df_all,height=6,fit_reg=False,scatter_kws={\"s\": 25},\n",
    "           line_kws={\"color\":\"black\",\"linewidth\":4},ci=None);"
   ]
  },
  {
   "cell_type": "markdown",
   "metadata": {},
   "source": [
    "# Model\n"
   ]
  },
  {
   "cell_type": "code",
   "execution_count": null,
   "metadata": {
    "pycharm": {
     "is_executing": false
    }
   },
   "outputs": [],
   "source": [
    "\n",
    "train_set, test_set = base_df_all, base_df_all"
   ]
  },
  {
   "cell_type": "code",
   "execution_count": null,
   "metadata": {
    "pycharm": {
     "is_executing": false
    }
   },
   "outputs": [],
   "source": [
    "## Multi output random forest regression of cpd and ctd\n",
    "x_train, y_train = train_set[[baro,cit]], train_set[[cpd,ctd]]\n",
    "#cpd_ctd_ranf = RandomForestRegressor(max_depth=10,n_estimators=100,random_state = 6567)\n",
    "cpd_ctd_ranf = LinearRegression()\n",
    "#cpd_ctd_reg = MultiOutputRegressor(cpd_ctd_ranf).fit(x_train, y_train)\n",
    "cpd_ctd_reg = cpd_ctd_ranf.fit(x_train, y_train)"
   ]
  },
  {
   "cell_type": "code",
   "execution_count": null,
   "metadata": {
    "pycharm": {
     "is_executing": false
    }
   },
   "outputs": [],
   "source": [
    "# residual graph of cpd, ctd\n",
    "x_test, y_test = test_set[[baro,cit]], test_set[[cpd,ctd]]\n",
    "df = cpd_ctd_reg.predict(x_test)\n",
    "cpd_err = y_test.iloc[:,0] - df[:,0]\n",
    "ctd_err = y_test.iloc[:,1] - df[:,1]\n",
    "\n",
    "t1 = figure(plot_width=350, plot_height=350,title=\"Residual Plot\", x_axis_label='Index', \n",
    "            y_axis_label='Error')\n",
    "t2 = figure(plot_width=350, plot_height=350,title=\"Residual Plot\", x_axis_label='Index', \n",
    "            y_axis_label='Error')\n",
    "t1.scatter(list(range(len(cpd_err))), cpd_err)\n",
    "t2.scatter(list(range(len(ctd_err))), ctd_err)\n",
    "output_notebook()\n",
    "show(gridplot([[t1,t2]]))\n",
    "print(np.sqrt(np.var(cpd_err)), np.sqrt(np.var(ctd_err)))"
   ]
  },
  {
   "cell_type": "code",
   "execution_count": null,
   "metadata": {
    "pycharm": {
     "is_executing": false
    }
   },
   "outputs": [],
   "source": [
    "## Predict base load with predicted CPD CTD only to be used with neural networks and Random forest. \n",
    "## For now we will use Linear Regressions only\n",
    "#x_train = train_set[[baro,cit]]\n",
    "#df1 = cpd_ctd_reg.predict(x_train)\n",
    "#cpd_pred = df1[:,0]\n",
    "#ctd_pred = df1[:,1]\n",
    "#x_train, y_train = pd.concat([train_set[[baro,cit]],pd.Series(cpd_pred),\n",
    "#                              pd.Series(ctd_pred)],axis=1,ignore_index = True), train_set[mw]\n",
    "\n",
    "#ctg_ranf = RandomForestRegressor(max_depth=10,n_estimators=50,random_state=6567)\n",
    "x_train, y_train = train_set[[baro,cit]], train_set[mw]\n",
    "ctg_ranf = LinearRegression()\n",
    "ctg_ranf.fit(x_train,y_train)\n",
    "base_mw_pred = ctg_ranf.predict(x_train)"
   ]
  },
  {
   "cell_type": "code",
   "execution_count": null,
   "metadata": {
    "pycharm": {
     "is_executing": false
    }
   },
   "outputs": [],
   "source": [
    "err = base_mw_pred - y_train\n",
    "output_notebook()\n",
    "t1 = figure(plot_width=350, plot_height=350,title=\"Residual Plot\", x_axis_label='Index', \n",
    "            y_axis_label='Error')\n",
    "\n",
    "t1.scatter(list(range(len(err))), err)\n",
    "\n",
    "\n",
    "show(t1)\n",
    "print(np.sqrt(np.var(err)))"
   ]
  },
  {
   "cell_type": "code",
   "execution_count": null,
   "metadata": {
    "pycharm": {
     "is_executing": false
    }
   },
   "outputs": [],
   "source": [
    "sns.lmplot(x=baro, y=cpd, data=base_df_all,height=6,fit_reg=False,scatter_kws={\"s\": 25},\n",
    "           line_kws={\"color\":\"black\",\"linewidth\":4},ci=None);"
   ]
  },
  {
   "cell_type": "code",
   "execution_count": null,
   "metadata": {
    "pycharm": {
     "is_executing": false
    }
   },
   "outputs": [],
   "source": [
    "## Predict exhaust with actual cpd & ctd\n",
    "#trainexh = train_set[~train_set[exh].isna()]\n",
    "#trainexh = trainexh.reset_index(drop = True)\n",
    "x_train, y_train = train_set[[baro,cpd]], train_set[exh]\n",
    "exh_ranf = LinearRegression()\n",
    "#exh_ranf = RandomForestRegressor(max_depth=20,n_estimators=200,random_state=6567)\n",
    "exh_ranf.fit(x_train,y_train)\n",
    "#rf_scores = cross_val_score(exh_ranf,x_train,y_train,scoring=\"neg_mean_squared_error\",cv=10)\n",
    "#rf_rmse = np.sqrt(-rf_scores)\n",
    "#rf_rmse"
   ]
  },
  {
   "cell_type": "code",
   "execution_count": null,
   "metadata": {
    "pycharm": {
     "is_executing": false
    }
   },
   "outputs": [],
   "source": [
    "#exh_ranf.feature_importances_"
   ]
  },
  {
   "cell_type": "code",
   "execution_count": null,
   "metadata": {
    "pycharm": {
     "is_executing": false
    }
   },
   "outputs": [],
   "source": [
    "base_exh_pred = exh_ranf.predict(x_train)\n",
    "err = base_exh_pred - y_train\n",
    "output_notebook()\n",
    "t1 = figure(plot_width=350, plot_height=350,title=\"Residual Plot\", x_axis_label='Index', \n",
    "            y_axis_label='Error')\n",
    "\n",
    "t1.scatter(list(range(len(err))), err)\n",
    "\n",
    "\n",
    "show(t1)\n",
    "print(np.sqrt(np.var(err)))"
   ]
  },
  {
   "cell_type": "code",
   "execution_count": null,
   "metadata": {
    "pycharm": {
     "is_executing": false
    }
   },
   "outputs": [],
   "source": [
    "## Predict Fuel\n",
    "#trainf = train_set[~train_set[gtfuel].isna()]\n",
    "#trainf = trainf.reset_index(drop = True)\n",
    "x_train, y_train = np.asanyarray( train_set[mw]).reshape(-1,1), np.asarray(train_set[fuel])\n",
    "#fuel_ranf = RandomForestRegressor(max_depth=10,n_estimators=150,random_state=6567)\n",
    "fuel_ranf = LinearRegression()\n",
    "fuel_ranf.fit(x_train, y_train)"
   ]
  },
  {
   "cell_type": "code",
   "execution_count": null,
   "metadata": {
    "pycharm": {
     "is_executing": false
    }
   },
   "outputs": [],
   "source": [
    "base_fuel_pred = fuel_ranf.predict(x_train)\n",
    "err = base_fuel_pred - y_train"
   ]
  },
  {
   "cell_type": "code",
   "execution_count": null,
   "metadata": {
    "pycharm": {
     "is_executing": false
    }
   },
   "outputs": [],
   "source": [
    "\n",
    "output_notebook()\n",
    "t1 = figure(plot_width=350, plot_height=350,title=\"Residual Plot\", x_axis_label='Index', \n",
    "            y_axis_label='Error')\n",
    "\n",
    "t1.scatter(list(range(len(err))), err)\n",
    "\n",
    "\n",
    "show(t1)\n",
    "print(np.sqrt(np.var(err)))"
   ]
  },
  {
   "cell_type": "markdown",
   "metadata": {},
   "source": [
    "# Part Load Model"
   ]
  },
  {
   "cell_type": "code",
   "execution_count": null,
   "metadata": {
    "pycharm": {
     "is_executing": false
    }
   },
   "outputs": [],
   "source": [
    "## Part Load Modeling\n",
    "base_df_index = base_df.index.tolist()\n",
    "part_df = model_df[~model_df.index.isin(base_df_index)]"
   ]
  },
  {
   "cell_type": "code",
   "execution_count": null,
   "metadata": {
    "pycharm": {
     "is_executing": false
    }
   },
   "outputs": [],
   "source": [
    "part_df = part_df[(part_df[mw]>60) & \n",
    "                  (part_df[std]<0.5)&\n",
    "                  (part_df[cpd]>50) & \n",
    "                  (part_df[ctd]>50) & \n",
    "                  (part_df[igv]>30) & \n",
    "                  (part_df[exh]>50)]"
   ]
  },
  {
   "cell_type": "code",
   "execution_count": null,
   "metadata": {
    "pycharm": {
     "is_executing": false
    }
   },
   "outputs": [],
   "source": [
    "'''\n",
    "## Augment data\n",
    "a = list(range(1,31))\n",
    "maxigv = max(part_df[igv])\n",
    "minigv = min(part_df[igv])\n",
    "igv_ad = list(range(int(minigv), int(maxigv)))*len(a)\n",
    "cit_ad = sorted(a*len(list(range(int(minigv), int(maxigv)))))\n",
    "\n",
    "#cit_ad = a+np.random.randn(4,1) #add 20 points per degree\n",
    "#cit_ad = [x for sublist in cit_ad for x in sublist]\n",
    "baro_ad = []\n",
    "#rh_ad =[]\n",
    "for i in range(len(cit_ad)):\n",
    "    baro_ad.append(random.uniform(min(part_df[baro]), max(part_df[baro])))\n",
    "#    rh_ad.append(random.uniform(min(base_df_clean[rh]), max(base_df_clean[rh])))\n",
    "\n",
    "'''"
   ]
  },
  {
   "cell_type": "code",
   "execution_count": null,
   "metadata": {
    "pycharm": {
     "is_executing": false
    }
   },
   "outputs": [],
   "source": [
    "'''\n",
    "x_ad = pd.DataFrame([cit_ad,igv_ad,baro_ad])\n",
    "x_ad = x_ad.T\n",
    "x_ad.columns = [cit,igv,baro]\n",
    "'''"
   ]
  },
  {
   "cell_type": "code",
   "execution_count": null,
   "metadata": {
    "pycharm": {
     "is_executing": false
    }
   },
   "outputs": [],
   "source": [
    "#reg mw~cit,igv,baro\n",
    "\n",
    "x,y = part_df[[baro,cit,igv]].values, part_df[mw].values.reshape(-1,1)\n",
    "plm_mw = LinearRegression().fit(x, y)\n",
    "\n",
    "#reg ctd~cit,igv,baro\n",
    "x,y = part_df[[baro,cit,igv]].values, part_df[ctd].values.reshape(-1,1)\n",
    "plm_ctd = LinearRegression().fit(x, y)\n",
    "\n",
    "#reg cpd~cit,igv,baro\n",
    "x,y = part_df[[baro,cit,igv]].values, part_df[cpd].values.reshape(-1,1)\n",
    "plm_cpd = LinearRegression().fit(x, y)"
   ]
  },
  {
   "cell_type": "code",
   "execution_count": null,
   "metadata": {
    "pycharm": {
     "is_executing": false
    }
   },
   "outputs": [],
   "source": [
    "pmw_pred=plm_mw.predict(x)\n",
    "output_notebook()\n",
    "t1 = figure(plot_width=350, plot_height=350,title=\"actual vs model\", x_axis_label='actual', \n",
    "            y_axis_label='model')\n",
    "\n",
    "t1.scatter(part_df[mw].values, pmw_pred.reshape(-1))\n",
    "\n",
    "\n",
    "show(t1)"
   ]
  },
  {
   "cell_type": "code",
   "execution_count": null,
   "metadata": {
    "pycharm": {
     "is_executing": false
    }
   },
   "outputs": [],
   "source": [
    "'''\n",
    "# Augment cpd & ctd\n",
    "p_cpd_ad = plm_cpd.predict(x_ad).reshape(-1,1)\n",
    "p_ctd_ad = plm_ctd.predict(x_ad).reshape(-1,1)\n",
    "p_mw_ad = plm_mw.predict(x_ad).reshape(-1,1)\n",
    "'''"
   ]
  },
  {
   "cell_type": "code",
   "execution_count": null,
   "metadata": {
    "pycharm": {
     "is_executing": false
    }
   },
   "outputs": [],
   "source": [
    "#reg exh~igv,cpd\n",
    "x,y = part_df[[baro,igv,cpd]].values, part_df[exh].values.reshape(-1,1)\n",
    "plm_exh = LinearRegression().fit(x, y)\n",
    "# Augment exh\n",
    "#p_exh_ad = plm_exh.predict(np.hstack((np.asarray(igv_ad).reshape(-1,1), \n",
    "#                                        np.asarray(p_cpd_ad).reshape(-1,1))).reshape(-1,2)).reshape(-1,1)"
   ]
  },
  {
   "cell_type": "code",
   "execution_count": null,
   "metadata": {
    "pycharm": {
     "is_executing": false
    }
   },
   "outputs": [],
   "source": [
    "#reg fuel~igv,mw\n",
    "x,y = part_df[[igv,mw]].values.reshape(-1,2), part_df[fuel].values.reshape(-1,1)\n",
    "plm_fuel = LinearRegression().fit(x, y)\n",
    "\n",
    "# Augment fuel\n",
    "#p_fuel_ad = plm_fule.predict(np.hstack((np.asarray(igv_ad).reshape(-1,1), \n",
    "#                                        np.asarray(p_mw_ad).reshape(-1,1))).reshape(-1,2)).reshape(-1,1)"
   ]
  },
  {
   "cell_type": "code",
   "execution_count": null,
   "metadata": {
    "pycharm": {
     "is_executing": false
    }
   },
   "outputs": [],
   "source": [
    "'''\n",
    "partdf_ad = pd.concat([pd.Series(igv_ad,name=igv),\n",
    "                       pd.Series(cit_ad,name=cit),\n",
    "                       pd.Series(p_mw_ad.reshape(-1,),name=mw),\n",
    "                       pd.Series(p_cpd_ad.reshape(-1,),name=cpd),\n",
    "                       pd.Series(p_ctd_ad.reshape(-1,),name=ctd),\n",
    "                       pd.Series(p_exh_ad.reshape(-1,),name=exh),\n",
    "                       pd.Series(p_fuel_ad.reshape(-1,),name=fuel),\n",
    "                       pd.Series(baro_ad,name=baro)],axis=1).astype(float)\n",
    "'''"
   ]
  },
  {
   "cell_type": "code",
   "execution_count": null,
   "metadata": {
    "pycharm": {
     "is_executing": false
    }
   },
   "outputs": [],
   "source": [
    "#partdf_all = pd.merge(part_df,partdf_ad,on = [igv,cit,mw,cpd,ctd,exh,fuel,baro],how = 'outer')\n",
    "partdf_all=part_df"
   ]
  },
  {
   "cell_type": "code",
   "execution_count": null,
   "metadata": {
    "pycharm": {
     "is_executing": false
    }
   },
   "outputs": [],
   "source": [
    "output_notebook()\n",
    "t1 = figure(plot_width=350, plot_height=350,title=\"MW vs Temp\", x_axis_label='Temp', \n",
    "            y_axis_label='MW')\n",
    "t1.scatter(partdf_all[cit], partdf_all[mw])\n",
    "\n",
    "t2 = figure(plot_width=350, plot_height=350,title=\"MW vs Temp\", x_axis_label='Temp', \n",
    "            y_axis_label='MW')\n",
    "t3 = figure(plot_width=350, plot_height=350,title=\"Exh vs CPD\", x_axis_label='CPD', \n",
    "            y_axis_label='Exh')\n",
    "\n",
    "t2.scatter(partdf_all[cit], partdf_all[mw])\n",
    "t3.scatter(partdf_all[cpd],partdf_all[exh])\n",
    "\n",
    "\n",
    "show(t1)\n",
    "show(t2)\n",
    "show(t3)"
   ]
  },
  {
   "cell_type": "code",
   "execution_count": null,
   "metadata": {
    "pycharm": {
     "is_executing": false
    }
   },
   "outputs": [],
   "source": [
    "## Multi output regression model of part cpd, ctd and mw\n",
    "x_train, y_train = partdf_all[[baro,cit,igv]], partdf_all[[cpd, ctd, mw]]\n",
    "p_cpd_ctd_mw_lm = LinearRegression()\n",
    "#p_cpd_ctd_mw_reg = MultiOutputRegressor(p_cpd_ctd_mw_lm).fit(x_train, y_train)\n",
    "p_cpd_ctd_mw_reg = p_cpd_ctd_mw_lm.fit(x_train, y_train)"
   ]
  },
  {
   "cell_type": "code",
   "execution_count": null,
   "metadata": {
    "pycharm": {
     "is_executing": false
    }
   },
   "outputs": [],
   "source": [
    "# residual graph of cpd, ctd\n",
    "x_test, y_test = partdf_all[[baro,cit,igv]], partdf_all[[cpd, ctd, mw]]\n",
    "df = p_cpd_ctd_mw_reg.predict(x_test)\n",
    "cpd_err = y_test.iloc[:,0] - df[:,0]\n",
    "ctd_err = y_test.iloc[:,1] - df[:,1]\n",
    "mw_err = y_test.iloc[:,2] - df[:,2]\n",
    "t1 = figure(plot_width=300, plot_height=300,title=\"Residual Plot\", x_axis_label='Index', \n",
    "            y_axis_label='Error')\n",
    "t2 = figure(plot_width=300, plot_height=300,title=\"Residual Plot\", x_axis_label='Index', \n",
    "            y_axis_label='Error')\n",
    "t3 = figure(plot_width=300, plot_height=300,title=\"Residual Plot\", x_axis_label='Index', \n",
    "            y_axis_label='Error')\n",
    "\n",
    "t1.scatter(list(range(len(cpd_err))), cpd_err)\n",
    "t2.scatter(list(range(len(ctd_err))), ctd_err)\n",
    "t3.scatter(list(range(len(ctd_err))), ctd_err)\n",
    "\n",
    "output_notebook()\n",
    "show(gridplot([[t1,t2,t3]]))\n",
    "print(np.sqrt(np.var(cpd_err)), np.sqrt(np.var(ctd_err)),np.sqrt(np.var(mw_err)))\n",
    "print(np.mean(np.abs((y_test.iloc[:,0] - df[:,0]) / y_test.iloc[:,0]))*100,\n",
    "      np.mean(np.abs((y_test.iloc[:,1] - df[:,1]) / y_test.iloc[:,1]))*100,\n",
    "     np.mean(np.abs((y_test.iloc[:,2] - df[:,2]) / y_test.iloc[:,2]))*100)"
   ]
  },
  {
   "cell_type": "code",
   "execution_count": null,
   "metadata": {
    "pycharm": {
     "is_executing": false
    }
   },
   "outputs": [],
   "source": [
    "## Predict part exhaust temp with all original data\n",
    "x_train, y_train = partdf_all[[baro,igv,cpd]], partdf_all[exh]\n",
    "p_exh_lm = LinearRegression()\n",
    "p_exh_lm.fit(x_train,y_train)"
   ]
  },
  {
   "cell_type": "code",
   "execution_count": null,
   "metadata": {
    "pycharm": {
     "is_executing": false
    }
   },
   "outputs": [],
   "source": [
    "# residual graph of exh\n",
    "x_test, y_test = partdf_all[[baro,igv,cpd]], partdf_all[exh]\n",
    "df = p_exh_lm.predict(x_test)\n",
    "exh_err = y_test - df\n",
    "t1 = figure(plot_width=300, plot_height=300,title=\"Residual Plot\", x_axis_label='Index', \n",
    "            y_axis_label='Error')\n",
    "\n",
    "t1.scatter(list(range(len(exh_err))), exh_err)\n",
    "output_notebook()\n",
    "show(t1)\n",
    "print(np.sqrt(np.var(exh_err)))"
   ]
  },
  {
   "cell_type": "code",
   "execution_count": null,
   "metadata": {
    "pycharm": {
     "is_executing": false
    }
   },
   "outputs": [],
   "source": [
    "'''\n",
    "x_train, y_train = partdf_all[[igv,cpd]], partdf_all[exh]\n",
    "p_exh_reg = LinearRegression()\n",
    "p_exh_reg.fit(x_train,y_train)\n",
    "'''"
   ]
  },
  {
   "cell_type": "code",
   "execution_count": null,
   "metadata": {
    "pycharm": {
     "is_executing": false
    }
   },
   "outputs": [],
   "source": [
    "'''\n",
    "# residual graph of exh\n",
    "x_test, y_test = partdf_all[[igv,cpd]], partdf_all[exh]\n",
    "df = p_exh_reg.predict(x_test)\n",
    "exh_err = y_test - df\n",
    "t1 = figure(plot_width=300, plot_height=300,title=\"Residual Plot\", x_axis_label='Index', \n",
    "            y_axis_label='Error')\n",
    "\n",
    "t1.scatter(list(range(len(exh_err))), exh_err)\n",
    "\n",
    "t2 = figure(plot_width=300, plot_height=300,title=\"Pred vs Actua\", x_axis_label='actual', \n",
    "            y_axis_label='pred')\n",
    "\n",
    "t1.scatter(list(range(len(exh_err))), exh_err)\n",
    "t2.scatter(y_test, df)\n",
    "output_notebook()\n",
    "show(t1)\n",
    "show(t2)\n",
    "print(np.sqrt(np.var(exh_err)))\n",
    "'''"
   ]
  },
  {
   "cell_type": "code",
   "execution_count": null,
   "metadata": {
    "pycharm": {
     "is_executing": false
    }
   },
   "outputs": [],
   "source": [
    "## Predict Fuel\n",
    "x_train, y_train = partdf_all[[igv,mw]], partdf_all[fuel]\n",
    "p_fuel_lm = LinearRegression()\n",
    "p_fuel_lm.fit(x_train, y_train)"
   ]
  },
  {
   "cell_type": "code",
   "execution_count": null,
   "metadata": {
    "pycharm": {
     "is_executing": false
    }
   },
   "outputs": [],
   "source": [
    "# residual graph of Fuel\n",
    "x_test, y_test = partdf_all[[igv,mw]], partdf_all[fuel]\n",
    "df = p_fuel_lm.predict(x_test)\n",
    "fuel_err = y_test - df\n",
    "t1 = figure(plot_width=300, plot_height=300,title=\"Residual Plot\", x_axis_label='Index', \n",
    "            y_axis_label='Error')\n",
    "\n",
    "t1.scatter(list(range(len(fuel_err))), fuel_err)\n",
    "output_notebook()\n",
    "show(t1)\n",
    "print(np.sqrt(np.var(fuel_err)))"
   ]
  },
  {
   "cell_type": "markdown",
   "metadata": {},
   "source": [
    "# Min Load"
   ]
  },
  {
   "cell_type": "code",
   "execution_count": null,
   "metadata": {
    "pycharm": {
     "is_executing": false
    }
   },
   "outputs": [],
   "source": [
    "#min_df = pd.read_csv(\"../model_data/ctg8_min_load_data.csv\", encoding=\"utf-16\",sep='\\t')"
   ]
  },
  {
   "cell_type": "code",
   "execution_count": null,
   "metadata": {
    "pycharm": {
     "is_executing": false
    }
   },
   "outputs": [],
   "source": [
    "'''\n",
    "## Predict min mw\n",
    "x_train, y_train = min_df[cit].values.reshape(-1,1), min_df[mw].values.reshape(-1,1)\n",
    "min_ranf = RandomForestRegressor(max_depth=20,n_estimators=300)\n",
    "min_ranf.fit(x_train, y_train)\n",
    "y_pred = min_ranf.predict(x_train)\n",
    "'''"
   ]
  },
  {
   "cell_type": "code",
   "execution_count": null,
   "metadata": {
    "pycharm": {
     "is_executing": false
    }
   },
   "outputs": [],
   "source": [
    "min21 = pd.read_csv(\"../model_data/ctg8_2x1_min.csv\",encoding=\"utf-16\",sep='\\t')\n",
    "min11 = pd.read_csv(\"../model_data/ctg8_1x1_min.csv\",encoding=\"utf-16\",sep='\\t')"
   ]
  },
  {
   "cell_type": "code",
   "execution_count": null,
   "metadata": {
    "pycharm": {
     "is_executing": false
    }
   },
   "outputs": [],
   "source": [
    "# min 2x1 reg igv~cit\n",
    "x,y = min21[cit].values.reshape(-1,1), min21[igv].values.reshape(-1,1)\n",
    "min21_reg = LinearRegression().fit(x, y)"
   ]
  },
  {
   "cell_type": "code",
   "execution_count": null,
   "metadata": {
    "pycharm": {
     "is_executing": false
    }
   },
   "outputs": [],
   "source": [
    "# min 1x1 reg igv~cit\n",
    "x,y = min11[cit].values.reshape(-1,1), min11[igv].values.reshape(-1,1)\n",
    "min11_reg = LinearRegression().fit(x, y)"
   ]
  },
  {
   "cell_type": "code",
   "execution_count": null,
   "metadata": {
    "pycharm": {
     "is_executing": false
    }
   },
   "outputs": [],
   "source": [
    "#Augment igv\n",
    "a = list(range(0,61))\n",
    "cit_ad = a+np.random.randn(2,1) #add 20 points per degree\n",
    "cit_ad = [x for sublist in cit_ad for x in sublist]\n",
    "igv_ad1 = min11_reg.predict(np.asanyarray(cit_ad).reshape(-1,1))\n",
    "igv_ad2 = min21_reg.predict(np.asanyarray(cit_ad).reshape(-1,1))\n",
    "igv_ad = np.vstack((igv_ad1,igv_ad2))\n",
    "cit_ad = cit_ad*2\n",
    "baro_ad = []\n",
    "#rh_ad =[]\n",
    "for i in range(len(igv_ad)):\n",
    "    baro_ad.append(random.uniform(min(part_df[baro]), max(part_df[baro])))"
   ]
  },
  {
   "cell_type": "code",
   "execution_count": null,
   "metadata": {
    "pycharm": {
     "is_executing": false
    }
   },
   "outputs": [],
   "source": [
    "#reg mw~cit,igv,baro\n",
    "min_df = model_df[~model_df.index.isin(base_df_index)]\n",
    "min_df = min_df[(min_df[mw]<120) &\n",
    "                (min_df[mw]>60) & \n",
    "                  (min_df[std]<2)&\n",
    "                  (min_df[cpd]>-2000) & \n",
    "                  (min_df[ctd]>300) & \n",
    "                  (min_df[igv]>-2000) & \n",
    "                  (min_df[exh]>-2000)]\n",
    "#min_df = part_df[part_df[mw]<120]\n",
    "x,y = min_df[[cit,igv,baro]].values.reshape(-1,3), min_df[mw].values.reshape(-1,1)\n",
    "min21_mw = LinearRegression().fit(x, y)\n",
    "\n",
    "#reg ctd~cit,igv,baro\n",
    "x,y = min_df[[cit,igv,baro]].values.reshape(-1,3), min_df[ctd].values.reshape(-1,1)\n",
    "min21_ctd = LinearRegression().fit(x, y)\n",
    "\n",
    "#reg cpd~cit,igv,baro\n",
    "x,y = min_df[[cit,igv,baro]].values.reshape(-1,3), min_df[cpd].values.reshape(-1,1)\n",
    "min21_cpd = LinearRegression().fit(x, y)"
   ]
  },
  {
   "cell_type": "code",
   "execution_count": null,
   "metadata": {
    "pycharm": {
     "is_executing": false
    }
   },
   "outputs": [],
   "source": [
    "'''\n",
    "cit_ad = np.asanyarray(cit_ad).reshape(-1,1)\n",
    "baro_ad = np.asanyarray(baro_ad).reshape(-1,1)\n",
    "igv_ad = np.asanyarray(igv_ad).reshape(-1,1)\n",
    "'''"
   ]
  },
  {
   "cell_type": "code",
   "execution_count": null,
   "metadata": {
    "pycharm": {
     "is_executing": false
    }
   },
   "outputs": [],
   "source": [
    "'''\n",
    "# Augment cpd & ctd\n",
    "cpd_ad = min21_cpd.predict(np.hstack((cit_ad, igv_ad, baro_ad))).reshape(-1,1)\n",
    "ctd_ad = min21_ctd.predict(np.hstack((cit_ad, igv_ad, baro_ad))).reshape(-1,1)\n",
    "mw_ad = min21_mw.predict(np.hstack((cit_ad, igv_ad, baro_ad))).reshape(-1,1)\n",
    "'''"
   ]
  },
  {
   "cell_type": "code",
   "execution_count": null,
   "metadata": {
    "pycharm": {
     "is_executing": false
    }
   },
   "outputs": [],
   "source": [
    "#reg exh~baro,cit,igv,cpd,ctd\n",
    "x,y = min_df[[baro,igv,cpd]].values, min_df[exh].values.reshape(-1,1)\n",
    "min21_exh = LinearRegression().fit(x, y)"
   ]
  },
  {
   "cell_type": "code",
   "execution_count": null,
   "metadata": {
    "pycharm": {
     "is_executing": false
    }
   },
   "outputs": [],
   "source": [
    "'''\n",
    "# Augment exh\n",
    "exh_ad = min21_exh.predict(np.hstack((baro_ad,cit_ad, igv_ad,cpd_ad,ctd_ad)).reshape(-1,5)).reshape(-1,1)\n",
    "exh_ad = np.where(exh_ad>1200,1200,exh_ad)\n",
    "'''"
   ]
  },
  {
   "cell_type": "code",
   "execution_count": null,
   "metadata": {
    "pycharm": {
     "is_executing": false
    }
   },
   "outputs": [],
   "source": [
    "#reg fule~igv,mw\n",
    "x,y = min_df[[igv,mw]].values, min_df[fuel].values.reshape(-1,1)\n",
    "min21_fuel = LinearRegression().fit(x, y)\n",
    "\n",
    "# Augment fuel\n",
    "#fuel_ad = min21_fuel.predict(np.hstack((igv_ad, mw_ad)).reshape(-1,2)).reshape(-1,1)"
   ]
  },
  {
   "cell_type": "code",
   "execution_count": null,
   "metadata": {
    "pycharm": {
     "is_executing": false
    }
   },
   "outputs": [],
   "source": [
    "'''\n",
    "partdf_add = pd.concat([pd.Series(igv_ad.reshape(-1,),name=igv),\n",
    "                       pd.Series(cit_ad.reshape(-1,),name=cit),\n",
    "                       pd.Series(mw_ad.reshape(-1,),name=mw),\n",
    "                       pd.Series(cpd_ad.reshape(-1,),name=cpd),\n",
    "                       pd.Series(ctd_ad.reshape(-1,),name=ctd),\n",
    "                       pd.Series(exh_ad.reshape(-1,),name=exh),\n",
    "                       pd.Series(fuel_ad.reshape(-1,),name=fuel),\n",
    "                       pd.Series(baro_ad.reshape(-1,),name=baro)],axis=1)\n",
    "'''"
   ]
  },
  {
   "cell_type": "code",
   "execution_count": null,
   "metadata": {
    "pycharm": {
     "is_executing": false
    }
   },
   "outputs": [],
   "source": [
    "#partdf_all = pd.merge(partdf_all,partdf_add,on = [igv,cit,mw,cpd,ctd,exh,fuel,baro],how = 'outer')"
   ]
  },
  {
   "cell_type": "code",
   "execution_count": null,
   "metadata": {
    "pycharm": {
     "is_executing": false
    }
   },
   "outputs": [],
   "source": [
    "output_notebook()\n",
    "t1 = figure(plot_width=350, plot_height=350,title=\"MW vs Temp\", x_axis_label='Temp', \n",
    "            y_axis_label='MW')\n",
    "t1.scatter(partdf_all[cit], partdf_all[mw])\n",
    "\n",
    "t2 = figure(plot_width=350, plot_height=350,title=\"MW vs Temp\", x_axis_label='Temp', \n",
    "            y_axis_label='MW')\n",
    "t2.scatter(min_df[cit], min_df[mw])\n",
    "t3 = figure(plot_width=350, plot_height=350,title=\"exh vs cpd\", x_axis_label='cpd', \n",
    "            y_axis_label='exh')\n",
    "\n",
    "t3.scatter(partdf_all[cpd], partdf_all[exh])\n",
    "\n",
    "t4 = figure(plot_width=350, plot_height=350,title=\"fuel vs mw\", x_axis_label='mw', \n",
    "            y_axis_label='fuel')\n",
    "\n",
    "t4.scatter(partdf_all[mw], partdf_all[fuel])\n",
    "\n",
    "show(t1)\n",
    "show(t2)\n",
    "show(t3)\n",
    "show(t4)"
   ]
  },
  {
   "cell_type": "code",
   "execution_count": null,
   "metadata": {
    "pycharm": {
     "is_executing": false
    }
   },
   "outputs": [],
   "source": [
    "output_notebook()\n",
    "t1 = figure(plot_width=350, plot_height=350,title=\"MW vs Temp\", x_axis_label='Temp', \n",
    "            y_axis_label='MW')\n",
    "t1.scatter(min_df[cit], min_df[mw])\n",
    "\n",
    "t3 = figure(plot_width=350, plot_height=350,title=\"exh vs cpd\", x_axis_label='cpd', \n",
    "            y_axis_label='exh')\n",
    "\n",
    "t3.scatter(min_df[cpd], min_df[exh])\n",
    "\n",
    "t4 = figure(plot_width=350, plot_height=350,title=\"fuel vs mw\", x_axis_label='mw', \n",
    "            y_axis_label='fuel')\n",
    "\n",
    "t4.scatter(min_df[mw], min_df[fuel])\n",
    "\n",
    "show(t1)\n",
    "#show(t2)\n",
    "show(t3)\n",
    "show(t4)"
   ]
  },
  {
   "cell_type": "code",
   "execution_count": null,
   "metadata": {
    "pycharm": {
     "is_executing": false
    }
   },
   "outputs": [],
   "source": [
    "'''\n",
    "Part Load Models\n",
    "'''\n",
    "## Multi output random forest regression model of part cpd, ctd and mw\n",
    "x_train, y_train = partdf_all[[baro,cit,igv]], partdf_all[[cpd, ctd, mw]]\n",
    "p_cpd_ctd_mw_lm = LinearRegression()\n",
    "#p_cpd_ctd_mw_reg = MultiOutputRegressor(p_cpd_ctd_mw_lm).fit(x_train, y_train)\n",
    "p_cpd_ctd_mw_reg = p_cpd_ctd_mw_lm.fit(x_train, y_train)\n",
    "p_mw_lm=LinearRegression()\n",
    "p_mw_lm=p_mw_lm.fit(x_train,partdf_all[mw])"
   ]
  },
  {
   "cell_type": "code",
   "execution_count": null,
   "metadata": {
    "pycharm": {
     "is_executing": false
    }
   },
   "outputs": [],
   "source": [
    "'''\n",
    "Part Load Exhaust Models\n",
    "'''\n",
    "## Multi output random forest regression model of part cpd, ctd and mw\n",
    "x_train, y_train = partdf_all[[baro,igv,cpd]], partdf_all[exh]\n",
    "p_exh_lm = LinearRegression()\n",
    "p_exh_lm = p_exh_lm.fit(x_train, y_train)"
   ]
  },
  {
   "cell_type": "code",
   "execution_count": null,
   "metadata": {
    "pycharm": {
     "is_executing": false
    }
   },
   "outputs": [],
   "source": [
    "'''\n",
    "Part Load Fuel Models\n",
    "'''\n",
    "## Multi output random forest regression model of part cpd, ctd and mw\n",
    "x_train, y_train = partdf_all[[igv,mw]], partdf_all[fuel]\n",
    "p_fuel_lm = LinearRegression()\n",
    "p_fuel_lm= p_fuel_lm.fit(x_train, y_train)"
   ]
  },
  {
   "cell_type": "code",
   "execution_count": null,
   "metadata": {
    "pycharm": {
     "is_executing": false
    }
   },
   "outputs": [],
   "source": [
    "'''\n",
    "Min Load Models\n",
    "'''\n",
    "## Multi output random forest regression model of part cpd, ctd and mw\n",
    "x_train, y_train = min_df[[baro,cit,igv]], min_df[[cpd, ctd, mw]]\n",
    "m_cpd_ctd_mw_lm = LinearRegression()\n",
    "#m_cpd_ctd_mw_reg = MultiOutputRegressor(p_cpd_ctd_mw_lm).fit(x_train, y_train)\n",
    "m_cpd_ctd_mw_reg = p_cpd_ctd_mw_lm.fit(x_train, y_train)"
   ]
  },
  {
   "cell_type": "code",
   "execution_count": null,
   "metadata": {
    "pycharm": {
     "is_executing": false
    }
   },
   "outputs": [],
   "source": [
    "'''\n",
    "min Load Exhaust Models\n",
    "'''\n",
    "## Multi output random forest regression model of part cpd, ctd and mw\n",
    "x_train, y_train = min_df[[baro,igv,cpd]], min_df[exh]\n",
    "m_exh_lm = LinearRegression()\n",
    "m_exh_lm = m_exh_lm.fit(x_train, y_train)"
   ]
  },
  {
   "cell_type": "code",
   "execution_count": null,
   "metadata": {
    "pycharm": {
     "is_executing": false
    }
   },
   "outputs": [],
   "source": [
    "'''\n",
    "Min Fuel Models\n",
    "'''\n",
    "## Multi output random forest regression model of part cpd, ctd and mw\n",
    "x_train, y_train = min_df[[igv,mw]], min_df[fuel]\n",
    "m_fuel_lm = LinearRegression()\n",
    "m_fuel_lm = m_fuel_lm.fit(x_train, y_train)"
   ]
  },
  {
   "cell_type": "code",
   "execution_count": null,
   "metadata": {
    "pycharm": {
     "is_executing": false
    }
   },
   "outputs": [],
   "source": [
    "# solver\n",
    "'''\n",
    "Part Load Models\n",
    "'''\n",
    "## Multi output random forest regression model of part cpd, ctd and mw\n",
    "x_train, y_train = partdf_all[[baro,cit,igv]], partdf_all[mw]\n",
    "p_mw_lm = LinearRegression()\n",
    "p_mw_lm = p_mw_lm.fit(x_train, y_train)"
   ]
  },
  {
   "cell_type": "code",
   "execution_count": null,
   "metadata": {
    "pycharm": {
     "is_executing": false
    }
   },
   "outputs": [],
   "source": [
    "## write base model to pickle file\n",
    "\n",
    "pkl = \"../../../pickles/ctg8.pkl\"\n",
    "\n",
    "models = {  \n",
    "            'base<cpd|ctd><baro|cit>'           :cpd_ctd_reg,\n",
    "            'base<mw><baro|cit>'                :ctg_ranf,\n",
    "            'base<exh_temp><baro|cpd>'          :exh_ranf,\n",
    "            'base<fuel><mw>'                    :fuel_ranf,\n",
    "            'part<cpd|ctd|mw><baro|cit|igv>'    :p_cpd_ctd_mw_reg,\n",
    "            'part<exh_temp><baro|igv|cpd>'      :p_exh_lm,\n",
    "            'part<fuel><igv|mw>'                :p_fuel_lm,\n",
    "            #The part model below is for solver\n",
    "            'part<mw><baro|cit|igv>'            :p_mw_lm,\n",
    "            'min2x1<igv><cit>'                  :min21_reg,\n",
    "            'min1x1<igv><cit>'                  :min11_reg,\n",
    "            'min<cpd|ctd|mw><baro|cit|igv>'     :m_cpd_ctd_mw_reg,\n",
    "            'min<exh_temp><baro|igv|cpd>'       :m_exh_lm,\n",
    "            'min<fuel><igv|mw>'                 :m_fuel_lm,         \n",
    "         }\n",
    "with open(pkl, \"wb\") as f:\n",
    "    joblib.dump(models, f)\n",
    "    print(f'{f.name}')"
   ]
  },
  {
   "cell_type": "code",
   "execution_count": null,
   "metadata": {
    "pycharm": {
     "is_executing": false
    }
   },
   "outputs": [],
   "source": []
  }
 ],
 "metadata": {
  "colab": {
   "name": "CTG_Ranf.ipynb",
   "provenance": [],
   "version": "0.3.2"
  },
  "kernelspec": {
   "display_name": "Python 3",
   "language": "python",
   "name": "python3"
  },
  "language_info": {
   "codemirror_mode": {
    "name": "ipython",
    "version": 3
   },
   "file_extension": ".py",
   "mimetype": "text/x-python",
   "name": "python",
   "nbconvert_exporter": "python",
   "pygments_lexer": "ipython3",
   "version": "3.7.1"
  },
  "pycharm": {
   "stem_cell": {
    "cell_type": "raw",
    "metadata": {
     "collapsed": false
    },
    "source": []
   }
  },
  "varInspector": {
   "cols": {
    "lenName": 16,
    "lenType": 16,
    "lenVar": 40
   },
   "kernels_config": {
    "python": {
     "delete_cmd_postfix": "",
     "delete_cmd_prefix": "del ",
     "library": "var_list.py",
     "varRefreshCmd": "print(var_dic_list())"
    },
    "r": {
     "delete_cmd_postfix": ") ",
     "delete_cmd_prefix": "rm(",
     "library": "var_list.r",
     "varRefreshCmd": "cat(var_dic_list()) "
    }
   },
   "oldHeight": 284,
   "position": {
    "height": "283px",
    "left": "1050px",
    "right": "20px",
    "top": "120px",
    "width": "350px"
   },
   "types_to_exclude": [
    "module",
    "function",
    "builtin_function_or_method",
    "instance",
    "_Feature"
   ],
   "varInspector_section_display": "block",
   "window_display": false
  }
 },
 "nbformat": 4,
 "nbformat_minor": 1
}
