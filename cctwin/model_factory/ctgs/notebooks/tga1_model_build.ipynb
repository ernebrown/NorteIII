{
 "cells": [
  {
   "cell_type": "code",
   "execution_count": null,
   "metadata": {
    "colab": {},
    "colab_type": "code",
    "id": "nAucBDX1xDeL",
    "pycharm": {
     "is_executing": false
    }
   },
   "outputs": [],
   "source": [
    "'''\n",
    "Data munging libraries\n",
    "\n",
    "'''\n",
    "import random\n",
    "\n",
    "import numpy as np\n",
    "import pandas as pd\n",
    "# import statsmodels.api as sm\n",
    "\n",
    "import joblib\n",
    "'''\n",
    "Visualization Libraries\n",
    "\n",
    "'''\n",
    "import seaborn as sns\n",
    "%matplotlib inline\n",
    "#%matplotlib notebook\n",
    "pd.set_option('display.max_columns', 100)\n",
    "pd.set_option('display.precision', 2) \n",
    "from bokeh.plotting import figure,  show, gridplot\n",
    "from bokeh.io import output_notebook\n",
    "from bokeh.layouts import row, column\n",
    "\n",
    "'''\n",
    "ML libraries\n",
    "\n",
    "'''\n",
    "\n",
    "from sklearn.multioutput import MultiOutputRegressor\n",
    "from sklearn.preprocessing import StandardScaler, PolynomialFeatures\n",
    "from sklearn.decomposition import PCA\n",
    "from sklearn.neural_network import MLPRegressor\n",
    "from sklearn.linear_model import LinearRegression, RANSACRegressor\n",
    "from sklearn.model_selection import GridSearchCV, train_test_split, cross_val_score;\n",
    "from sklearn.model_selection import  train_test_split ;\n",
    "from sklearn.pipeline import Pipeline;"
   ]
  },
  {
   "cell_type": "markdown",
   "metadata": {},
   "source": [
    "# Define file name of model_data"
   ]
  },
  {
   "cell_type": "code",
   "execution_count": null,
   "metadata": {
    "pycharm": {
     "is_executing": false
    }
   },
   "outputs": [],
   "source": [
    "file_name_model_data = '../model_data/Norte3_TGA1_DataPrep.gzip'"
   ]
  },
  {
   "cell_type": "code",
   "execution_count": null,
   "metadata": {
    "colab": {},
    "colab_type": "code",
    "id": "mJjUT61gxDea",
    "pycharm": {
     "is_executing": false
    }
   },
   "outputs": [],
   "source": [
    "model_df=pd.read_csv(file_name_model_data, compression='gzip' ,encoding=\"ISO-8859-2\")"
   ]
  },
  {
   "cell_type": "code",
   "execution_count": null,
   "metadata": {
    "pycharm": {
     "is_executing": false
    }
   },
   "outputs": [],
   "source": [
    "model_df.describe().apply(lambda s: s.apply(lambda x: format(x, 'g')))"
   ]
  },
  {
   "cell_type": "code",
   "execution_count": null,
   "metadata": {},
   "outputs": [],
   "source": [
    "model_df.info()"
   ]
  },
  {
   "cell_type": "code",
   "execution_count": null,
   "metadata": {
    "colab": {},
    "colab_type": "code",
    "id": "8Ng-SzoKxDez",
    "pycharm": {
     "is_executing": false
    }
   },
   "outputs": [],
   "source": [
    "# mw='GT3 Generator Watts Max Selected {Avg}'\n",
    "# igv='GT3 IGV angle in deg {Avg}'\n",
    "# fsr='GT3 Fuel Stroke Reference {Avg}'\n",
    "# fsrt='GT3 Temperature Control Fuel Stroke Reference {Avg}'\n",
    "# cit='GT3 Compressor Inlet Temperature {Avg}'\n",
    "# fuel='GT3 Fuel Energy Flow MMBTU'\n",
    "# cpd='GT3_CPD_Median'\n",
    "# ctd='GT3_CTD_Median'\n",
    "# baro='SITE AMBIENT CONDITIONS BARO PRESS XMTR {Avg}'\n",
    "# exh='GT3 Exhaust Temp Median Corrected By Average {Avg}'\n",
    "# #std='GT3 Generator Watts Max Selected {StdDev}'\n",
    "\n",
    "mw='TG-A1 MW OUT'\n",
    "igv='TG-A1 IGV REF'\n",
    "fsr='TG-A1 FUEL STROKE REF'\n",
    "fsrt='TG-A1 TEMP CTRL FUEL STROKE REF'\n",
    "cit='TG-A1 COMP INLET TEMP'\n",
    "fuel='TG-A1 FUEL ENERGY FLOW'\n",
    "cpd='TG-A1 COMP DISCH PRESS'\n",
    "ctd='TG-A1 COMP DISCH TEMP'\n",
    "baro='BAROMETRIC PRESS'\n",
    "exh='TG-A1 EXHAUST GAS TEMP'"
   ]
  },
  {
   "cell_type": "code",
   "execution_count": null,
   "metadata": {},
   "outputs": [],
   "source": [
    "#model_dfcopy['TimeStamp']=pd.to_datetime(model_df['TimeStamp'])"
   ]
  },
  {
   "cell_type": "code",
   "execution_count": null,
   "metadata": {},
   "outputs": [],
   "source": [
    "#model_df['year']=model_df['TimeStamp'].dt.year"
   ]
  },
  {
   "cell_type": "code",
   "execution_count": null,
   "metadata": {
    "colab": {},
    "colab_type": "code",
    "id": "tSPeaRdMxDe8",
    "pycharm": {
     "is_executing": false
    }
   },
   "outputs": [],
   "source": [
    "# base_df=model_df[(model_df[mw]>100) &\n",
    "                # (model_df[igv]>84) &\n",
    "                # (abs(model_df[fsr]-model_df[fsrt]<=0.1))]\n",
    "\n",
    "base_df=model_df[(model_df[mw]>140) &\n",
    "                (model_df[igv]>81)]\n",
    "                #(abs(model_df[fsr]-model_df[fsrt]<=0.1))]\n",
    "base_df"
   ]
  },
  {
   "cell_type": "code",
   "execution_count": null,
   "metadata": {
    "colab": {},
    "colab_type": "code",
    "id": "9l2bulOfxDfK",
    "pycharm": {
     "is_executing": false
    }
   },
   "outputs": [],
   "source": [
    "# Remove outliers mw ~ cit\n",
    "ransac_mw = RANSACRegressor(LinearRegression(),\n",
    "                         max_trials=100, \n",
    "                         min_samples=50, \n",
    "                         loss='absolute_error', \n",
    "                         residual_threshold=5, \n",
    "                         random_state=2301)\n",
    "\n",
    "ransac_mw=ransac_mw.fit(base_df[cit].values.reshape(-1,1), base_df[mw].values)\n",
    "\n",
    "mw_base_pred=ransac_mw.predict(base_df[cit].values.reshape(-1,1))\n",
    "\n",
    "inlier_mask = ransac_mw.inlier_mask_\n",
    "\n",
    "base_df=base_df.assign(normal_mw = lambda im: inlier_mask)\n",
    "\n",
    "sns.lmplot(x=cit, y=mw, data=base_df,hue=\"normal_mw\", height=8,fit_reg=True,scatter_kws={\"s\": 25},\n",
    "           line_kws={\"color\":\"black\",\"linewidth\":4},ci=None)"
   ]
  },
  {
   "cell_type": "code",
   "execution_count": null,
   "metadata": {},
   "outputs": [],
   "source": [
    "base_df"
   ]
  },
  {
   "cell_type": "code",
   "execution_count": null,
   "metadata": {},
   "outputs": [],
   "source": [
    "base_df.replace([np.inf, -np.inf], np.nan, inplace=True)\n",
    "base_df.dropna(inplace=True)\n",
    "base_df"
   ]
  },
  {
   "cell_type": "code",
   "execution_count": null,
   "metadata": {},
   "outputs": [],
   "source": [
    "base_df_clean = base_df[base_df[\"normal_mw\"]]\n",
    "base_df_clean"
   ]
  },
  {
   "cell_type": "code",
   "execution_count": null,
   "metadata": {
    "pycharm": {
     "is_executing": false
    }
   },
   "outputs": [],
   "source": [
    "## Remove outlier for ctd vs temp\n",
    "ransac_ctd = RANSACRegressor(LinearRegression(),\n",
    "                         max_trials=100, \n",
    "                         min_samples=50, \n",
    "                         loss='absolute_error', \n",
    "                         residual_threshold=5, \n",
    "                         random_state=2301)\n",
    "ransac_ctd=ransac_ctd.fit(base_df_clean[[cit,baro]], base_df_clean[ctd])\n",
    "inlier_mask = ransac_ctd.inlier_mask_\n",
    "base_df_clean=base_df_clean.assign(normal_ctd = lambda im: inlier_mask)\n",
    "sns.lmplot(x=cit, y=ctd, data=base_df_clean,hue=\"normal_ctd\", height=6,fit_reg=True,scatter_kws={\"s\": 25},\n",
    "           line_kws={\"color\":\"black\",\"linewidth\":4},ci=None);"
   ]
  },
  {
   "cell_type": "code",
   "execution_count": null,
   "metadata": {
    "pycharm": {
     "is_executing": false
    }
   },
   "outputs": [],
   "source": [
    "## Remove outlier for cpd vs temp\n",
    "ransac_cpd = RANSACRegressor(LinearRegression(),\n",
    "                         max_trials=100, \n",
    "                         min_samples=50, \n",
    "                         loss='absolute_error', \n",
    "                         residual_threshold=5, \n",
    "                         random_state=2301)\n",
    "ransac_cpd=ransac_cpd.fit(base_df_clean[[cit,baro]], base_df_clean[cpd])\n",
    "inlier_mask = ransac_cpd.inlier_mask_\n",
    "base_df_clean=base_df_clean.assign(normal_cpd = lambda im: inlier_mask)\n",
    "sns.lmplot(x=cit, y=cpd, data=base_df_clean,hue=\"normal_cpd\", height=6,fit_reg=True,scatter_kws={\"s\": 25},\n",
    "           line_kws={\"color\":\"black\",\"linewidth\":4},ci=None)"
   ]
  },
  {
   "cell_type": "code",
   "execution_count": null,
   "metadata": {},
   "outputs": [],
   "source": [
    "# Remove outlier for cpd vs temp\n",
    "ransac_fuel = RANSACRegressor(LinearRegression(),\n",
    "                         max_trials=100, \n",
    "                         min_samples=50, \n",
    "                         loss='absolute_error', \n",
    "                         residual_threshold=25, \n",
    "                         random_state=2301)\n",
    "ransac_fuel=ransac_fuel.fit(base_df_clean[mw].values.reshape(-1,1), base_df_clean[fuel].values)\n",
    "fuel_base_pred=ransac_fuel.predict(base_df_clean[mw].values.reshape(-1,1))\n",
    "inlier_mask = ransac_fuel.inlier_mask_\n",
    "base_df_clean=base_df_clean.assign(normal_fuel = lambda im: inlier_mask)\n",
    "sns.lmplot(x=mw, y=fuel, data=base_df_clean,hue=\"normal_fuel\", height=6,fit_reg=True,scatter_kws={\"s\": 25},\n",
    "           line_kws={\"color\":\"black\",\"linewidth\":4},ci=None)"
   ]
  },
  {
   "cell_type": "code",
   "execution_count": null,
   "metadata": {},
   "outputs": [],
   "source": [
    "base_df_clean_fuel=base_df_clean[base_df_clean['normal_fuel']]"
   ]
  },
  {
   "cell_type": "code",
   "execution_count": null,
   "metadata": {},
   "outputs": [],
   "source": [
    "base_df_clean=base_df_clean[(base_df_clean['normal_ctd']) &(base_df_clean['normal_cpd'])]"
   ]
  },
  {
   "cell_type": "code",
   "execution_count": null,
   "metadata": {
    "pycharm": {
     "is_executing": false
    }
   },
   "outputs": [],
   "source": [
    "# Add all augmented data to original df\n",
    "base_df_all = base_df_clean"
   ]
  },
  {
   "cell_type": "code",
   "execution_count": null,
   "metadata": {
    "pycharm": {
     "is_executing": false
    }
   },
   "outputs": [],
   "source": [
    "output_notebook()\n",
    "t1 = figure(plot_width=350, plot_height=350,title=\"MW vs Temp\", x_axis_label='Temp', \n",
    "            y_axis_label='MW')\n",
    "t1.scatter(base_df_all[cit], base_df_all[mw])\n",
    "\n",
    "t2 = figure(plot_width=350, plot_height=350,title=\"MW vs Temp\", x_axis_label='Temp', \n",
    "            y_axis_label='MW')\n",
    "t2.scatter(base_df_clean[cit], base_df_clean[mw])\n",
    "\n",
    "t3 = figure(plot_width=350, plot_height=350,title=\"cpd vs Temp\", x_axis_label='Temp', \n",
    "            y_axis_label='cpd')\n",
    "t3.scatter(base_df_all[cit], base_df_all[cpd])\n",
    "\n",
    "\n",
    "show(t1)\n",
    "show(t2)\n",
    "show(t3)"
   ]
  },
  {
   "cell_type": "code",
   "execution_count": null,
   "metadata": {
    "pycharm": {
     "is_executing": false
    }
   },
   "outputs": [],
   "source": [
    "sns.lmplot(x=cpd, y=exh, data=base_df_all,height=6,fit_reg=False,scatter_kws={\"s\": 25},\n",
    "           line_kws={\"color\":\"black\",\"linewidth\":4},ci=None);"
   ]
  },
  {
   "cell_type": "code",
   "execution_count": null,
   "metadata": {
    "pycharm": {
     "is_executing": false
    }
   },
   "outputs": [],
   "source": [
    "sns.lmplot(x=mw, y=fuel, data=base_df_clean_fuel,height=6,fit_reg=False,scatter_kws={\"s\": 25},\n",
    "           line_kws={\"color\":\"black\",\"linewidth\":4},ci=None);"
   ]
  },
  {
   "cell_type": "markdown",
   "metadata": {},
   "source": [
    "# Model\n"
   ]
  },
  {
   "cell_type": "code",
   "execution_count": null,
   "metadata": {},
   "outputs": [],
   "source": [
    "def model(layers=(40,40),es=True,n_iter=200,tol=0.0001,patience=10):\n",
    "    ppl=Pipeline([('scaler',StandardScaler()),\n",
    "                  ('estimator',MLPRegressor(hidden_layer_sizes=layers,\n",
    "                                            early_stopping=es,\n",
    "                                            tol=tol,max_iter=n_iter,random_state=2301,n_iter_no_change=patience))\n",
    "                 ])\n",
    "    return ppl"
   ]
  },
  {
   "cell_type": "code",
   "execution_count": null,
   "metadata": {},
   "outputs": [],
   "source": [
    "def model_pca(pca_frac=None,layers=(40,40),es=True,n_iter=200,tol=0.0001,patience=10,random=2301):\n",
    "    ppl=Pipeline([('scaler',StandardScaler()),('pca',PCA(n_components=pca_frac,random_state=random)),\n",
    "                  ('estimator',MLPRegressor(hidden_layer_sizes=layers,\n",
    "                                            early_stopping=es,\n",
    "                                            tol=tol,max_iter=n_iter,random_state=random,n_iter_no_change=patience))\n",
    "                 ])\n",
    "    return ppl"
   ]
  },
  {
   "cell_type": "code",
   "execution_count": null,
   "metadata": {},
   "outputs": [],
   "source": [
    "def model_lm_pca(pca_frac=None,random=2301):\n",
    "    ppl=Pipeline([('scaler',StandardScaler()),('pca',PCA(n_components=pca_frac,random_state=random)),\n",
    "                  ('estimator',LinearRegression())\n",
    "                 ])\n",
    "    return ppl"
   ]
  },
  {
   "cell_type": "code",
   "execution_count": null,
   "metadata": {},
   "outputs": [],
   "source": [
    "def model_pol_pca(pca_frac=None,random=2301):\n",
    "    ppl=Pipeline([('scaler',StandardScaler()),('pca',PCA(n_components=pca_frac,random_state=random)),\n",
    "                  ('quadratic',PolynomialFeatures()),\n",
    "                  ('estimator',LinearRegression())\n",
    "                 ])\n",
    "    return ppl"
   ]
  },
  {
   "cell_type": "code",
   "execution_count": null,
   "metadata": {},
   "outputs": [],
   "source": [
    "#base_df_all[mw]=base_df_all[mw].apply(lambda x: 205 if x>205 else x )"
   ]
  },
  {
   "cell_type": "code",
   "execution_count": null,
   "metadata": {},
   "outputs": [],
   "source": [
    "# Remove outliers mw ~ cit\n",
    "ransac_mw = RANSACRegressor(model_pol_pca(),\n",
    "                         max_trials=100, \n",
    "                         min_samples=50, \n",
    "                         loss='absolute_error', \n",
    "                         residual_threshold=2, \n",
    "                         random_state=2301)\n",
    "\n",
    "ransac_mw=ransac_mw.fit(base_df_all[[cit,baro,cpd,ctd,exh]].values, base_df_all[mw].values)\n",
    "\n",
    "mw_base_pred=ransac_mw.predict(base_df_all[[cit,baro,cpd,ctd,exh]])\n",
    "\n",
    "inlier_mask = ransac_mw.inlier_mask_\n",
    "\n",
    "base_df_all=base_df_all.assign(normal_mw = lambda im: inlier_mask)\n",
    "base_df_all['mw_base_pred']=mw_base_pred\n",
    "sns.lmplot(x='mw_base_pred', y=mw, data=base_df_all,hue=\"normal_mw\", height=8,fit_reg=True,scatter_kws={\"s\": 25},\n",
    "           line_kws={\"color\":\"black\",\"linewidth\":4},ci=None)"
   ]
  },
  {
   "cell_type": "code",
   "execution_count": null,
   "metadata": {
    "pycharm": {
     "is_executing": false
    }
   },
   "outputs": [],
   "source": [
    "train_set, test_set = base_df_all, base_df_all"
   ]
  },
  {
   "cell_type": "code",
   "execution_count": null,
   "metadata": {},
   "outputs": [],
   "source": [
    "X_comp,X_mw=train_set[[baro,cit]], train_set[[cit,cpd,ctd,exh]]\n",
    "X_exh=train_set[cpd].values.reshape(-1,1)\n",
    "y_cpd,y_ctd =train_set[cpd],train_set[ctd]\n",
    "y_mw,y_exh=train_set[mw],train_set[exh]"
   ]
  },
  {
   "cell_type": "code",
   "execution_count": null,
   "metadata": {},
   "outputs": [],
   "source": [
    "#cpd_=model(n_iter=1000,patience=40)\n",
    "cpd_=model_lm_pca()\n",
    "cpd_=cpd_.fit(X_comp, y_cpd)\n",
    "#cpd_=cpd_.fit(X_comp,y_cpd)"
   ]
  },
  {
   "cell_type": "code",
   "execution_count": null,
   "metadata": {},
   "outputs": [],
   "source": [
    "#ctd_=model(layers=(80,80,80),n_iter=1000,patience=40)\n",
    "ctd_=model_lm_pca()\n",
    "ctd_=ctd_.fit(X_comp,y_ctd)"
   ]
  },
  {
   "cell_type": "code",
   "execution_count": null,
   "metadata": {
    "pycharm": {
     "is_executing": false
    }
   },
   "outputs": [],
   "source": [
    "# ## Multi output random forest regression of cpd and ctd\n",
    "# x_train, y_train = train_set[[baro,cit]], train_set[[cpd,ctd]]\n",
    "# #cpd_ctd_ranf = RandomForestRegressor(max_depth=10,n_estimators=100,random_state = 6567)\n",
    "# cpd_ctd_ranf = LinearRegression()\n",
    "# #cpd_ctd_reg = MultiOutputRegressor(cpd_ctd_ranf).fit(x_train, y_train)\n",
    "# cpd_ctd_reg = cpd_ctd_ranf.fit(x_train, y_train)"
   ]
  },
  {
   "cell_type": "code",
   "execution_count": null,
   "metadata": {},
   "outputs": [],
   "source": [
    "test_set['cpd_pred']=cpd_.predict(X_comp)\n",
    "test_set['ctd_pred']=ctd_.predict(X_comp)"
   ]
  },
  {
   "cell_type": "code",
   "execution_count": null,
   "metadata": {},
   "outputs": [],
   "source": [
    "'''\n",
    "creating a new plot with a title and axis labels. \n",
    "'''\n",
    "p1 = figure(plot_width=350, plot_height=350,title=\"actual vs predicted CPD\", x_axis_label='actual', \n",
    "            y_axis_label='predicted')\n",
    "\n",
    "p2 = figure(plot_width=350, plot_height=350,title=\"actual vs predicted CtD\", x_axis_label='actual', \n",
    "            y_axis_label='predicted')\n",
    "\n",
    "p1.scatter(test_set[cpd], test_set['cpd_pred']),p2.scatter(test_set[ctd], test_set['ctd_pred']);\n",
    "show(row(p1,p2))"
   ]
  },
  {
   "cell_type": "code",
   "execution_count": null,
   "metadata": {},
   "outputs": [],
   "source": [
    "#exh_=model(layers=(100,100,100),n_iter=1000,patience=40)\n",
    "exh_=model_pol_pca()\n",
    "exh_=exh_.fit(X_exh,y_exh)"
   ]
  },
  {
   "cell_type": "code",
   "execution_count": null,
   "metadata": {},
   "outputs": [],
   "source": [
    "test_set['exh_pred']=exh_.predict(X_exh)"
   ]
  },
  {
   "cell_type": "code",
   "execution_count": null,
   "metadata": {},
   "outputs": [],
   "source": [
    "'''\n",
    "creating a new plot with a title and axis labels. \n",
    "'''\n",
    "p1 = figure(plot_width=350, plot_height=350,title=\"actual vs predicted exh\", x_axis_label='actual', \n",
    "            y_axis_label='predicted')\n",
    "\n",
    "p1.scatter(test_set[exh], test_set['exh_pred']);\n",
    "show(p1)"
   ]
  },
  {
   "cell_type": "code",
   "execution_count": null,
   "metadata": {},
   "outputs": [],
   "source": [
    "#mw_=model_pca(n_iter=1000,patience=40)\n",
    "mw_=model_lm_pca()\n",
    "mw_=mw_.fit(X_mw,y_mw)"
   ]
  },
  {
   "cell_type": "code",
   "execution_count": null,
   "metadata": {},
   "outputs": [],
   "source": [
    "cpd_.predict(np.array([14.67,38]).reshape(1,-1))"
   ]
  },
  {
   "cell_type": "code",
   "execution_count": null,
   "metadata": {},
   "outputs": [],
   "source": [
    "cpd_.predict(np.array([14.9,38]).reshape(1,-1))"
   ]
  },
  {
   "cell_type": "code",
   "execution_count": null,
   "metadata": {},
   "outputs": [],
   "source": [
    "ctd_.predict(np.array([14.67,38\n",
    "                      ]).reshape(1,-1))"
   ]
  },
  {
   "cell_type": "code",
   "execution_count": null,
   "metadata": {},
   "outputs": [],
   "source": [
    "ctd_.predict(np.array([14.9,38]).reshape(1,-1))"
   ]
  },
  {
   "cell_type": "code",
   "execution_count": null,
   "metadata": {},
   "outputs": [],
   "source": [
    "exh_.predict(np.array([226.9070961]).reshape(1,-1))"
   ]
  },
  {
   "cell_type": "code",
   "execution_count": null,
   "metadata": {},
   "outputs": [],
   "source": [
    "exh_.predict(np.array([230.84499787]).reshape(1,-1))"
   ]
  },
  {
   "cell_type": "code",
   "execution_count": null,
   "metadata": {},
   "outputs": [],
   "source": [
    "mw_.predict(np.array([38,226.9070961,705.21730575,1113.52181934]).reshape(1,-1))"
   ]
  },
  {
   "cell_type": "code",
   "execution_count": null,
   "metadata": {},
   "outputs": [],
   "source": [
    "mw_.predict(np.array([38,230.84499787,708.19077592,1102.21930475]).reshape(1,-1))"
   ]
  },
  {
   "cell_type": "code",
   "execution_count": null,
   "metadata": {},
   "outputs": [],
   "source": [
    "test_set['mw_pred']=mw_.predict(X_mw)"
   ]
  },
  {
   "cell_type": "code",
   "execution_count": null,
   "metadata": {},
   "outputs": [],
   "source": [
    "'''\n",
    "creating a new plot with a title and axis labels. \n",
    "'''\n",
    "p1 = figure(plot_width=350, plot_height=350,title=\"actual vs predicted mw\", x_axis_label='actual', \n",
    "            y_axis_label='predicted')\n",
    "\n",
    "p1.scatter(test_set[mw], test_set['mw_pred']);\n",
    "show(p1)"
   ]
  },
  {
   "cell_type": "code",
   "execution_count": null,
   "metadata": {},
   "outputs": [],
   "source": [
    "basefueldf=model_df[(model_df[mw]>100) &\n",
    "                (model_df[igv]>80) &\n",
    "                (model_df[fuel]>1400)]"
   ]
  },
  {
   "cell_type": "code",
   "execution_count": null,
   "metadata": {},
   "outputs": [],
   "source": [
    "ransac_fuel = RANSACRegressor(LinearRegression(),\n",
    "                         max_trials=100, \n",
    "                         min_samples=50, \n",
    "                         loss='absolute_error', \n",
    "                         residual_threshold=20, \n",
    "                         random_state=2301)\n",
    "ransac_fuel=ransac_fuel.fit(basefueldf[mw].values.reshape(-1,1), basefueldf[fuel].values)\n",
    "fuel_base_pred=ransac_fuel.predict(basefueldf[mw].values.reshape(-1,1))\n",
    "inlier_mask = ransac_fuel.inlier_mask_\n",
    "basefueldf=basefueldf.assign(normal_fuel = lambda im: inlier_mask)\n",
    "sns.lmplot(x=mw, y=fuel, data=basefueldf,hue=\"normal_fuel\", height=6,fit_reg=True,scatter_kws={\"s\": 25},\n",
    "           line_kws={\"color\":\"black\",\"linewidth\":4},ci=None)\n"
   ]
  },
  {
   "cell_type": "code",
   "execution_count": null,
   "metadata": {},
   "outputs": [],
   "source": [
    "basefueldf=basefueldf[basefueldf['normal_fuel']]"
   ]
  },
  {
   "cell_type": "code",
   "execution_count": null,
   "metadata": {},
   "outputs": [],
   "source": [
    "X_fuel=basefueldf[mw].values.reshape(-1,1)\n",
    "y_fuel=basefueldf[fuel]"
   ]
  },
  {
   "cell_type": "code",
   "execution_count": null,
   "metadata": {},
   "outputs": [],
   "source": [
    "fuel_=LinearRegression()\n",
    "fuel_=fuel_.fit(X_fuel,y_fuel)"
   ]
  },
  {
   "cell_type": "code",
   "execution_count": null,
   "metadata": {},
   "outputs": [],
   "source": [
    "fuel_pred=fuel_.predict(X_fuel)"
   ]
  },
  {
   "cell_type": "code",
   "execution_count": null,
   "metadata": {},
   "outputs": [],
   "source": [
    "'''\n",
    "creating a new plot with a title and axis labels. \n",
    "'''\n",
    "p1 = figure(plot_width=350, plot_height=350,title=\"actual vs predicted fuel\", x_axis_label='actual', \n",
    "            y_axis_label='predicted')\n",
    "\n",
    "p1.scatter(y_fuel, fuel_pred)\n",
    "show(p1);"
   ]
  },
  {
   "cell_type": "markdown",
   "metadata": {},
   "source": [
    "# Part Load Data Augmentation"
   ]
  },
  {
   "cell_type": "code",
   "execution_count": null,
   "metadata": {
    "pycharm": {
     "is_executing": false
    }
   },
   "outputs": [],
   "source": [
    "## Part Load Modeling\n",
    "baseall=model_df[(model_df[mw]>100) &\n",
    "                (model_df[igv]>84) &\n",
    "                (abs(model_df[fsr]-model_df[fsrt]<=0.1))]\n",
    "baseall_index = baseall.index.tolist()\n",
    "part_df = model_df[~model_df.index.isin(baseall_index)]"
   ]
  },
  {
   "cell_type": "code",
   "execution_count": null,
   "metadata": {
    "pycharm": {
     "is_executing": false
    }
   },
   "outputs": [],
   "source": [
    "part_df = part_df[(part_df[mw]>60) & \n",
    "                  (part_df[cpd]>50) & \n",
    "                  (part_df[ctd]>50) & \n",
    "                  (part_df[igv]>30) & \n",
    "                  (part_df[exh]>50)]\n",
    "part_df"
   ]
  },
  {
   "cell_type": "code",
   "execution_count": null,
   "metadata": {},
   "outputs": [],
   "source": [
    "part_df.replace([np.inf, -np.inf], np.nan, inplace=True)\n",
    "part_df.dropna(inplace=True)\n",
    "part_df"
   ]
  },
  {
   "cell_type": "code",
   "execution_count": null,
   "metadata": {
    "pycharm": {
     "is_executing": false
    }
   },
   "outputs": [],
   "source": [
    "\n",
    "# ## Augment data\n",
    "# a = list(range(1,31))\n",
    "# maxigv = max(part_df[igv])\n",
    "# minigv = min(part_df[igv])\n",
    "# igv_ad = list(range(80, int(maxigv)))*len(a)\n",
    "# cit_ad = sorted(a*len(list(range(80, int(maxigv)))))\n",
    "\n",
    "# #cit_ad = a+np.random.randn(4,1) #add 20 points per degree\n",
    "# #cit_ad = [x for sublist in cit_ad for x in sublist]\n",
    "# baro_ad = []\n",
    "# #rh_ad =[]\n",
    "# for i in range(len(cit_ad)):\n",
    "#     baro_ad.append(random.uniform(min(part_df[baro]), max(part_df[baro])))\n",
    "# #    rh_ad.append(random.uniform(min(base_df_clean[rh]), max(base_df_clean[rh])))\n",
    "\n"
   ]
  },
  {
   "cell_type": "code",
   "execution_count": null,
   "metadata": {
    "pycharm": {
     "is_executing": false
    }
   },
   "outputs": [],
   "source": [
    "\n",
    "# x_ad = pd.DataFrame([baro_ad,cit_ad,igv_ad,])\n",
    "# x_ad = x_ad.T\n",
    "# x_ad.columns = [baro,cit,igv]"
   ]
  },
  {
   "cell_type": "code",
   "execution_count": null,
   "metadata": {},
   "outputs": [],
   "source": [
    "# x_ad"
   ]
  },
  {
   "cell_type": "code",
   "execution_count": null,
   "metadata": {
    "pycharm": {
     "is_executing": false
    }
   },
   "outputs": [],
   "source": [
    "#reg mw~cit,igv,baro\n",
    "\n",
    "x,y = part_df[[baro,cit,igv]].values, part_df[mw].values.reshape(-1,1)\n",
    "plm_mw = LinearRegression().fit(x, y)\n",
    "\n",
    "#reg ctd~cit,igv,baro\n",
    "x,y = part_df[[baro,cit,igv]].values, part_df[ctd].values.reshape(-1,1)\n",
    "plm_ctd = LinearRegression().fit(x, y)\n",
    "\n",
    "#reg cpd~cit,igv,baro\n",
    "x,y = part_df[[baro,cit,igv]].values, part_df[cpd].values.reshape(-1,1)\n",
    "plm_cpd = LinearRegression().fit(x, y)"
   ]
  },
  {
   "cell_type": "code",
   "execution_count": null,
   "metadata": {
    "pycharm": {
     "is_executing": false
    }
   },
   "outputs": [],
   "source": [
    "pmw_pred=plm_mw.predict(x)\n",
    "output_notebook()\n",
    "t1 = figure(plot_width=350, plot_height=350,title=\"actual vs model\", x_axis_label='actual', \n",
    "            y_axis_label='model')\n",
    "\n",
    "t1.scatter(part_df[mw].values, pmw_pred.reshape(-1))\n",
    "\n",
    "\n",
    "show(t1)"
   ]
  },
  {
   "cell_type": "code",
   "execution_count": null,
   "metadata": {
    "pycharm": {
     "is_executing": false
    }
   },
   "outputs": [],
   "source": [
    "\n",
    "# Augment cpd & ctd\n",
    "# p_cpd_ad = plm_cpd.predict(x_ad).reshape(-1,1)+np.random.normal(loc=0.0, scale=1.5, size=(x_ad.shape[0],1))\n",
    "# p_ctd_ad = plm_ctd.predict(x_ad).reshape(-1,1)+np.random.normal(loc=0.0, scale=1.5, size=(x_ad.shape[0],1))\n",
    "# p_mw_ad = plm_mw.predict(x_ad).reshape(-1,1)+np.random.normal(loc=0.0, scale=1.5, size=(x_ad.shape[0],1))"
   ]
  },
  {
   "cell_type": "code",
   "execution_count": null,
   "metadata": {},
   "outputs": [],
   "source": [
    "# pd.DataFrame(p_mw_ad)"
   ]
  },
  {
   "cell_type": "code",
   "execution_count": null,
   "metadata": {
    "pycharm": {
     "is_executing": false
    }
   },
   "outputs": [],
   "source": [
    "# #reg exh~igv,cpd\n",
    "# x,y = part_df[[baro,cpd]].values, part_df[exh].values.reshape(-1,1)\n",
    "# plm_exh = LinearRegression().fit(x, y)\n",
    "# # Augment exh\n",
    "# p_exh_ad = plm_exh.predict(np.hstack((\n",
    "#     np.asarray(baro_ad).reshape(-1,1),\n",
    "#     np.asarray(p_cpd_ad).reshape(-1,1)))) + 2*np.random.normal(loc=0.0, scale=1.5, size=(p_cpd_ad.shape[0],1))"
   ]
  },
  {
   "cell_type": "code",
   "execution_count": null,
   "metadata": {
    "pycharm": {
     "is_executing": false
    }
   },
   "outputs": [],
   "source": [
    "\n",
    "# partdf_ad = pd.concat([pd.Series(igv_ad,name=igv),\n",
    "#                        pd.Series(cit_ad,name=cit),\n",
    "#                        pd.Series(p_mw_ad.reshape(-1,),name=mw),\n",
    "#                        pd.Series(p_cpd_ad.reshape(-1,),name=cpd),\n",
    "#                        pd.Series(p_ctd_ad.reshape(-1,),name=ctd),\n",
    "#                        pd.Series(p_exh_ad.reshape(-1,),name=exh),\n",
    "#                        pd.Series(baro_ad,name=baro)],axis=1).astype(float)"
   ]
  },
  {
   "cell_type": "code",
   "execution_count": null,
   "metadata": {
    "pycharm": {
     "is_executing": false
    }
   },
   "outputs": [],
   "source": [
    "#partdf_all = pd.merge(part_df,partdf_ad,on = [igv,cit,mw,cpd,ctd,exh,baro],how = 'outer')\n",
    "partdf_all=part_df"
   ]
  },
  {
   "cell_type": "code",
   "execution_count": null,
   "metadata": {},
   "outputs": [],
   "source": [
    "#np.where(np.isnan(partdf_all[mw].values))"
   ]
  },
  {
   "cell_type": "code",
   "execution_count": null,
   "metadata": {
    "pycharm": {
     "is_executing": false
    }
   },
   "outputs": [],
   "source": [
    "output_notebook()\n",
    "t1 = figure(plot_width=350, plot_height=350,title=\"MW vs Temp\", x_axis_label='Temp', \n",
    "            y_axis_label='MW')\n",
    "t1.scatter(partdf_all[cit], partdf_all[mw])\n",
    "\n",
    "t2 = figure(plot_width=350, plot_height=350,title=\"CPD vs Temp\", x_axis_label='Temp', \n",
    "            y_axis_label='CPD')\n",
    "t3 = figure(plot_width=350, plot_height=350,title=\"Exh vs CPD\", x_axis_label='CPD', \n",
    "            y_axis_label='Exh')\n",
    "\n",
    "t2.scatter(partdf_all[cit], partdf_all[cpd])\n",
    "t3.scatter(partdf_all[cpd],partdf_all[exh])\n",
    "\n",
    "\n",
    "show(t1)\n",
    "show(t2)\n",
    "show(t3)"
   ]
  },
  {
   "cell_type": "markdown",
   "metadata": {},
   "source": [
    "# Min Load Data Augmentation"
   ]
  },
  {
   "cell_type": "code",
   "execution_count": null,
   "metadata": {
    "pycharm": {
     "is_executing": false
    }
   },
   "outputs": [],
   "source": [
    "min21 = pd.read_csv(\"../model_data/Norte3_TGA1_MinLoad2x1.csv\",encoding=\"ISO-8859-2\")\n",
    "min11 = pd.read_csv(\"../model_data/Norte3_TGA1_MinLoad1x1.csv\",encoding=\"ISO-8859-2\")"
   ]
  },
  {
   "cell_type": "code",
   "execution_count": null,
   "metadata": {
    "pycharm": {
     "is_executing": false
    }
   },
   "outputs": [],
   "source": [
    "# min 2x1 reg igv~cit\n",
    "x,y = min21[cit].values.reshape(-1,1), min21[igv].values.reshape(-1,1)\n",
    "min21_reg = LinearRegression().fit(x, y)"
   ]
  },
  {
   "cell_type": "code",
   "execution_count": null,
   "metadata": {
    "pycharm": {
     "is_executing": false
    }
   },
   "outputs": [],
   "source": [
    "# min 1x1 reg igv~cit\n",
    "x,y = min11[cit].values.reshape(-1,1), min11[igv].values.reshape(-1,1)\n",
    "min11_reg = LinearRegression().fit(x, y)"
   ]
  },
  {
   "cell_type": "code",
   "execution_count": null,
   "metadata": {},
   "outputs": [],
   "source": [
    "min11_reg.predict(np.array([40]).reshape(1,-1))"
   ]
  },
  {
   "cell_type": "code",
   "execution_count": null,
   "metadata": {
    "pycharm": {
     "is_executing": false
    }
   },
   "outputs": [],
   "source": [
    "# #Augment igv\n",
    "# a = list(range(0,80))\n",
    "# cit_ad = a+np.random.randn(2,1) #add 20 points per degree\n",
    "# cit_ad = [x for sublist in cit_ad for x in sublist]\n",
    "# igv_ad1 = np.array([max(42,igv_pred[0]+1) \n",
    "#                     for igv_pred in min11_reg.predict(np.asanyarray(cit_ad).reshape(-1,1))]).reshape(-1,1)\n",
    "# igv_ad2 = np.array([max(40,igv_pred[0]+2) \n",
    "#                     for igv_pred in min21_reg.predict(np.asanyarray(cit_ad).reshape(-1,1))]).reshape(-1,1)\n",
    "# igv_ad = np.vstack((igv_ad1,igv_ad2))\n",
    "# cit_ad = cit_ad*2\n",
    "# baro_ad = []\n",
    "# #rh_ad =[]\n",
    "# for i in range(len(igv_ad)):\n",
    "#     baro_ad.append(random.uniform(min(part_df[baro]), max(part_df[baro])))"
   ]
  },
  {
   "cell_type": "code",
   "execution_count": null,
   "metadata": {},
   "outputs": [],
   "source": [
    "#reg mw~cit,igv,baro\n",
    "min_df = model_df[~model_df.index.isin(baseall_index)]\n",
    "min_df = min_df[(min_df[mw]<130) &\n",
    "                (min_df[mw]>60) & \n",
    "                  (min_df[cpd]>-2000) & \n",
    "                  (min_df[ctd]>300) & \n",
    "                  (min_df[igv]>-2000) & \n",
    "                  (min_df[exh]>-2000)]\n",
    "min_df"
   ]
  },
  {
   "cell_type": "code",
   "execution_count": null,
   "metadata": {},
   "outputs": [],
   "source": [
    "min_df[min_df.isna().any(axis=1)]"
   ]
  },
  {
   "cell_type": "code",
   "execution_count": null,
   "metadata": {},
   "outputs": [],
   "source": [
    "min_df.replace([np.inf, -np.inf], np.nan, inplace=True)\n",
    "min_df.dropna(inplace=True)\n",
    "min_df"
   ]
  },
  {
   "cell_type": "code",
   "execution_count": null,
   "metadata": {
    "pycharm": {
     "is_executing": false
    }
   },
   "outputs": [],
   "source": [
    "#min_df = part_df[part_df[mw]<120]\n",
    "x,y = min_df[[cit,igv,baro]].values.reshape(-1,3), min_df[mw].values.reshape(-1,1)\n",
    "min21_mw = LinearRegression().fit(x, y)\n",
    "\n",
    "# #reg ctd~cit,igv,baro\n",
    "x,y = min_df[[cit,igv,baro]].values.reshape(-1,3), min_df[ctd].values.reshape(-1,1)\n",
    "min21_ctd = LinearRegression().fit(x, y)\n",
    "\n",
    "# #reg cpd~cit,igv,baro\n",
    "x,y = min_df[[cit,igv,baro]].values.reshape(-1,3), min_df[cpd].values.reshape(-1,1)\n",
    "min21_cpd = LinearRegression().fit(x, y)"
   ]
  },
  {
   "cell_type": "code",
   "execution_count": null,
   "metadata": {
    "pycharm": {
     "is_executing": false
    }
   },
   "outputs": [],
   "source": [
    "# cit_ad = np.asanyarray(cit_ad).reshape(-1,1)\n",
    "# baro_ad = np.asanyarray(baro_ad).reshape(-1,1)\n",
    "# igv_ad = np.asanyarray(igv_ad).reshape(-1,1)"
   ]
  },
  {
   "cell_type": "code",
   "execution_count": null,
   "metadata": {
    "pycharm": {
     "is_executing": false
    }
   },
   "outputs": [],
   "source": [
    "# # Augment cpd & ctd\n",
    "# cpd_ad = min21_cpd.predict(\n",
    "#     np.hstack((\n",
    "#         cit_ad,\n",
    "#         igv_ad,\n",
    "#         baro_ad)\n",
    "#     )).reshape(-1,1)+np.random.normal(loc=0.0, scale=1.5, size=(cit_ad.shape[0],1))\n",
    "# ctd_ad = min21_ctd.predict(\n",
    "#     np.hstack((\n",
    "#         cit_ad,\n",
    "#         igv_ad,\n",
    "#         baro_ad))).reshape(-1,1)+np.random.normal(loc=0.0, scale=1.5, size=(cit_ad.shape[0],1))\n",
    "# mw_ad = min21_mw.predict(\n",
    "#     np.hstack((\n",
    "#         cit_ad,\n",
    "#         igv_ad,\n",
    "#         baro_ad))).reshape(-1,1)+np.random.normal(loc=0.0, scale=1.5, size=(cit_ad.shape[0],1))"
   ]
  },
  {
   "cell_type": "code",
   "execution_count": null,
   "metadata": {
    "pycharm": {
     "is_executing": false
    }
   },
   "outputs": [],
   "source": [
    "# #reg exh~baro,cit,igv,cpd,ctd\n",
    "# x,y = min_df[[baro,cpd]].values, min_df[exh].values.reshape(-1,1)\n",
    "# min21_exh = LinearRegression().fit(x, y)"
   ]
  },
  {
   "cell_type": "code",
   "execution_count": null,
   "metadata": {
    "pycharm": {
     "is_executing": false
    }
   },
   "outputs": [],
   "source": [
    "# # Augment exh\n",
    "# exh_ad = min21_exh.predict(\n",
    "#     np.hstack((\n",
    "#         baro_ad,\n",
    "#         cpd_ad))).reshape(-1,1)+2*np.random.normal(loc=0.0, scale=1.5, size=(cit_ad.shape[0],1))\n",
    "# exh_ad = np.where(exh_ad>1200,1200,exh_ad)"
   ]
  },
  {
   "cell_type": "code",
   "execution_count": null,
   "metadata": {
    "pycharm": {
     "is_executing": false
    }
   },
   "outputs": [],
   "source": [
    "# partdf_add = pd.concat([pd.Series(igv_ad.reshape(-1,),name=igv),\n",
    "#                        pd.Series(cit_ad.reshape(-1,),name=cit),\n",
    "#                        pd.Series(mw_ad.reshape(-1,),name=mw),\n",
    "#                        pd.Series(cpd_ad.reshape(-1,),name=cpd),\n",
    "#                        pd.Series(ctd_ad.reshape(-1,),name=ctd),\n",
    "#                        pd.Series(exh_ad.reshape(-1,),name=exh),                       \n",
    "#                        pd.Series(baro_ad.reshape(-1,),name=baro)],axis=1)"
   ]
  },
  {
   "cell_type": "code",
   "execution_count": null,
   "metadata": {
    "pycharm": {
     "is_executing": false
    }
   },
   "outputs": [],
   "source": [
    "# partdf_all = pd.merge(partdf_all,partdf_add,on = [igv,cit,mw,cpd,ctd,exh,baro],how = 'outer')"
   ]
  },
  {
   "cell_type": "code",
   "execution_count": null,
   "metadata": {
    "pycharm": {
     "is_executing": false
    }
   },
   "outputs": [],
   "source": [
    "output_notebook()\n",
    "t1 = figure(plot_width=350, plot_height=350,title=\"MW vs Temp\", x_axis_label='Temp', \n",
    "            y_axis_label='MW')\n",
    "t1.scatter(partdf_all[cit], partdf_all[mw])\n",
    "\n",
    "t2 = figure(plot_width=350, plot_height=350,title=\"MW vs Temp\", x_axis_label='Temp', \n",
    "            y_axis_label='MW')\n",
    "t2.scatter(min_df[cit], min_df[mw])\n",
    "t3 = figure(plot_width=350, plot_height=350,title=\"exh vs cpd\", x_axis_label='cpd', \n",
    "            y_axis_label='exh')\n",
    "\n",
    "t3.scatter(partdf_all[cpd], partdf_all[exh])\n",
    "\n",
    "t4 = figure(plot_width=350, plot_height=350,title=\"fuel vs mw\", x_axis_label='mw', \n",
    "            y_axis_label='fuel')\n",
    "\n",
    "t4.scatter(partdf_all[mw], partdf_all[fuel])\n",
    "\n",
    "show(t1)\n",
    "show(t2)\n",
    "show(t3)\n",
    "show(t4)"
   ]
  },
  {
   "cell_type": "markdown",
   "metadata": {},
   "source": [
    "# Part and Min Load models"
   ]
  },
  {
   "cell_type": "code",
   "execution_count": null,
   "metadata": {},
   "outputs": [],
   "source": [
    "X_comp,X_mw=partdf_all[[baro,cit,igv]], partdf_all[[cit,igv]]\n",
    "X_exh=partdf_all[[igv,cpd]]\n",
    "y_cpd,y_ctd =partdf_all[cpd],partdf_all[ctd]\n",
    "y_mw,y_exh=partdf_all[mw],partdf_all[exh]"
   ]
  },
  {
   "cell_type": "code",
   "execution_count": null,
   "metadata": {
    "pycharm": {
     "is_executing": false
    }
   },
   "outputs": [],
   "source": [
    "#p_cpd_= model(layers=(100,100,100),n_iter=500,patience=40)\n",
    "p_cpd_= model_pol_pca()\n",
    "p_cpd_= p_cpd_.fit(X_comp, y_cpd)"
   ]
  },
  {
   "cell_type": "code",
   "execution_count": null,
   "metadata": {},
   "outputs": [],
   "source": [
    "#p_ctd_= model(layers=(100,100,100),n_iter=500,patience=40)\n",
    "p_ctd_= model_lm_pca()\n",
    "p_ctd_= p_ctd_.fit(X_comp, y_ctd)"
   ]
  },
  {
   "cell_type": "code",
   "execution_count": null,
   "metadata": {},
   "outputs": [],
   "source": [
    "cpd_pred_p=p_cpd_.predict(X_comp)\n",
    "ctd_pred_p=p_ctd_.predict(X_comp)"
   ]
  },
  {
   "cell_type": "code",
   "execution_count": null,
   "metadata": {},
   "outputs": [],
   "source": [
    "#p_mw_= model(layers=(100,100,100),n_iter=500,patience=40)\n",
    "p_mw_= model_pol_pca()\n",
    "p_mw_= p_mw_.fit(X_mw, y_mw)"
   ]
  },
  {
   "cell_type": "code",
   "execution_count": null,
   "metadata": {},
   "outputs": [],
   "source": [
    "#p_exh_= model(layers=(200,200,200),n_iter=1000,patience=80)\n",
    "p_exh_= model_pol_pca()\n",
    "p_exh_= p_exh_.fit(X_exh, y_exh)"
   ]
  },
  {
   "cell_type": "code",
   "execution_count": null,
   "metadata": {},
   "outputs": [],
   "source": [
    "part_df[part_df[mw]>=130]"
   ]
  },
  {
   "cell_type": "code",
   "execution_count": null,
   "metadata": {},
   "outputs": [],
   "source": [
    "ransac_fuel = RANSACRegressor(LinearRegression(),\n",
    "                         max_trials=100, \n",
    "                         min_samples=50, \n",
    "                         loss='absolute_error', \n",
    "                         residual_threshold=25, \n",
    "                         random_state=2301)\n",
    "ransac_fuel=ransac_fuel.fit(part_df[[igv,mw]], part_df[fuel])\n",
    "#fuel_part_pred=ransac_fuel.predict(base_df_clean[mw].values.reshape(-1,1))\n",
    "inlier_mask = ransac_fuel.inlier_mask_\n",
    "part_df=part_df.assign(normal_fuel = lambda im: inlier_mask)\n",
    "sns.lmplot(x=mw, y=fuel, data=part_df,hue=\"normal_fuel\", height=6,fit_reg=True,scatter_kws={\"s\": 25},\n",
    "           line_kws={\"color\":\"black\",\"linewidth\":4},ci=None)"
   ]
  },
  {
   "cell_type": "code",
   "execution_count": null,
   "metadata": {},
   "outputs": [],
   "source": [
    "X_fuel=part_df[part_df['normal_fuel']][[igv,mw]]\n",
    "y_fuel=part_df[part_df['normal_fuel']][fuel]"
   ]
  },
  {
   "cell_type": "code",
   "execution_count": null,
   "metadata": {},
   "outputs": [],
   "source": [
    "p_fuel_=LinearRegression()\n",
    "p_fuel_=p_fuel_.fit(X_fuel,y_fuel)"
   ]
  },
  {
   "cell_type": "code",
   "execution_count": null,
   "metadata": {},
   "outputs": [],
   "source": [
    "cpd_pred_p=p_cpd_.predict(X_comp)\n",
    "ctd_pred_p=p_ctd_.predict(X_comp)"
   ]
  },
  {
   "cell_type": "code",
   "execution_count": null,
   "metadata": {},
   "outputs": [],
   "source": [
    "'''\n",
    "creating a new plot with a title and axis labels. \n",
    "'''\n",
    "p1 = figure(plot_width=350, plot_height=350,title=\"actual vs predicted CPD\", x_axis_label='actual', \n",
    "            y_axis_label='predicted')\n",
    "\n",
    "p2 = figure(plot_width=350, plot_height=350,title=\"actual vs predicted CtD\", x_axis_label='actual', \n",
    "            y_axis_label='predicted')\n",
    "\n",
    "p1.scatter(y_cpd, cpd_pred_p),p2.scatter(y_ctd, ctd_pred_p);\n",
    "show(row(p1,p2))"
   ]
  },
  {
   "cell_type": "code",
   "execution_count": null,
   "metadata": {},
   "outputs": [],
   "source": [
    "citar=np.linspace(0,101,200).reshape(-1,1)\n",
    "baroar=14.65*np.ones((200,1))\n",
    "igvar=70*np.ones((200,1))\n",
    "testin=np.hstack((baroar,citar,igvar))"
   ]
  },
  {
   "cell_type": "code",
   "execution_count": null,
   "metadata": {},
   "outputs": [],
   "source": [
    "igvar=np.linspace(45,86,60).reshape(-1,1)\n",
    "baroar=14.65*np.ones((60,1))\n",
    "citar=70*np.ones((60,1))\n",
    "testin=np.hstack((baroar,citar,igvar))"
   ]
  },
  {
   "cell_type": "code",
   "execution_count": null,
   "metadata": {},
   "outputs": [],
   "source": [
    "cpd_test=p_cpd_.predict(testin)\n",
    "'''\n",
    "creating a new plot with a title and axis labels. \n",
    "'''\n",
    "p1 = figure(plot_width=350, plot_height=350,title=\"CPD vs IGV\", x_axis_label='IGV', \n",
    "            y_axis_label='predicted CPD')\n",
    "\n",
    "p1.scatter(igvar.reshape(-1), cpd_test);\n",
    "show(p1)"
   ]
  },
  {
   "cell_type": "code",
   "execution_count": null,
   "metadata": {},
   "outputs": [],
   "source": [
    "mw_pred_p=p_mw_.predict(X_mw)"
   ]
  },
  {
   "cell_type": "code",
   "execution_count": null,
   "metadata": {},
   "outputs": [],
   "source": [
    "'''\n",
    "creating a new plot with a title and axis labels. \n",
    "'''\n",
    "p1 = figure(plot_width=350, plot_height=350,title=\"actual vs predicted mw\", x_axis_label='actual', \n",
    "            y_axis_label='predicted')\n",
    "\n",
    "p1.scatter(y_mw, mw_pred_p);\n",
    "show(p1)"
   ]
  },
  {
   "cell_type": "code",
   "execution_count": null,
   "metadata": {},
   "outputs": [],
   "source": [
    "exh_pred_p=p_exh_.predict(X_exh)"
   ]
  },
  {
   "cell_type": "code",
   "execution_count": null,
   "metadata": {},
   "outputs": [],
   "source": [
    "'''\n",
    "creating a new plot with a title and axis labels. \n",
    "'''\n",
    "p1 = figure(plot_width=350, plot_height=350,title=\"actual vs predicted exhaust\", x_axis_label='actual', \n",
    "            y_axis_label='predicted')\n",
    "\n",
    "p1.scatter(y_exh, exh_pred_p);\n",
    "show(p1)"
   ]
  },
  {
   "cell_type": "code",
   "execution_count": null,
   "metadata": {},
   "outputs": [],
   "source": [
    "fuel_pred_p=p_fuel_.predict(X_fuel)"
   ]
  },
  {
   "cell_type": "code",
   "execution_count": null,
   "metadata": {},
   "outputs": [],
   "source": [
    "'''\n",
    "creating a new plot with a title and axis labels. \n",
    "'''\n",
    "p1 = figure(plot_width=350, plot_height=350,title=\"actual vs predicted fuel\", x_axis_label='actual', \n",
    "            y_axis_label='predicted')\n",
    "\n",
    "p1.scatter(y_fuel, fuel_pred_p);\n",
    "show(p1)"
   ]
  },
  {
   "cell_type": "code",
   "execution_count": null,
   "metadata": {
    "pycharm": {
     "is_executing": false
    }
   },
   "outputs": [],
   "source": [
    "# solver\n",
    "'''\n",
    "Part Load Models\n",
    "'''\n",
    "## Multi output random forest regression model of part cpd, ctd and mw\n",
    "# x_train, y_train = partdf_all[[baro,cit,igv]], partdf_all[mw]\n",
    "# p_mw_lm = LinearRegression()\n",
    "# p_mw_lm = p_mw_lm.fit(x_train, y_train)"
   ]
  },
  {
   "cell_type": "code",
   "execution_count": null,
   "metadata": {},
   "outputs": [],
   "source": [
    "'''\n",
    "X_comp,X_mw=partdf_all[[baro,cit,igv]], partdf_all[[baro,cit,igv,cpd,ctd,exh]]\n",
    "X_exh, X_fuel=partdf_all[[baro,igv,cpd]], partdf_all[[igv,cpd,ctd,mw,exh]]\n",
    "y_cpd,y_ctd =partdf_all[cpd],partdf_all[ctd]\n",
    "y_mw,y_exh=partdf_all[mw],partdf_all[exh]\n",
    "y_fuel=partdf_all[fuel]\n",
    "'''"
   ]
  },
  {
   "cell_type": "code",
   "execution_count": null,
   "metadata": {
    "pycharm": {
     "is_executing": false
    }
   },
   "outputs": [],
   "source": [
    "'''\n",
    "Base \n",
    "X_comp,X_mw=train_set[[baro,cit]], train_set[[baro,cit,cpd,ctd,exh]]\n",
    "X_exh, X_fuel=train_set[[baro,cpd]], train_set[[cpd,ctd,mw,exh]]\n",
    "y_cpd,y_ctd =train_set[cpd],train_set[ctd]\n",
    "y_mw,y_exh=train_set[mw],train_set[exh]\n",
    "y_fuel=train_set[fuel]\n",
    "'''"
   ]
  },
  {
   "cell_type": "code",
   "execution_count": null,
   "metadata": {
    "pycharm": {
     "is_executing": false
    }
   },
   "outputs": [],
   "source": [
    "## write base model to pickle file\n",
    "\n",
    "pkl = \"../../../pickles/tga1.pkl\"\n",
    "\n",
    "models = {  \n",
    "            'base<cpd><baro|cit>'                        :cpd_,\n",
    "            'base<ctd><baro|cit>'                        :ctd_,\n",
    "            'base<exh_temp><cpd>'                   :exh_,        \n",
    "            'base<mw><cit|cpd|ctd|exh_temp>'        :mw_,\n",
    "            'base<fuel><mw>'                             :fuel_,\n",
    "            'part<cpd><baro|cit|igv>'                    :p_cpd_,\n",
    "             #The part model below is for solver as well\n",
    "            'part<ctd><baro|cit|igv>'                    :p_ctd_,        \n",
    "            'part<exh_temp><igv|cpd>'               :p_exh_,\n",
    "            'part<mw><cit|igv>'                     :p_mw_,        \n",
    "            'part<fuel><igv|mw>'                         :p_fuel_,\n",
    "            #The part model below is for solver\n",
    "            #'part<mw><baro|cit|igv>'            :p_mw_lm,\n",
    "            'min2x1<igv><cit>'                           :min21_reg,\n",
    "            'min1x1<igv><cit>'                           :min11_reg        \n",
    "         }\n",
    "with open(pkl, \"wb\") as f:\n",
    "    joblib.dump(models, f)\n",
    "    print(f'{f.name}')"
   ]
  },
  {
   "cell_type": "code",
   "execution_count": null,
   "metadata": {},
   "outputs": [],
   "source": []
  }
 ],
 "metadata": {
  "colab": {
   "name": "CTG_Ranf.ipynb",
   "provenance": [],
   "version": "0.3.2"
  },
  "kernelspec": {
   "display_name": "Python 3 (ipykernel)",
   "language": "python",
   "name": "python3"
  },
  "language_info": {
   "codemirror_mode": {
    "name": "ipython",
    "version": 3
   },
   "file_extension": ".py",
   "mimetype": "text/x-python",
   "name": "python",
   "nbconvert_exporter": "python",
   "pygments_lexer": "ipython3",
   "version": "3.9.12"
  },
  "pycharm": {
   "stem_cell": {
    "cell_type": "raw",
    "metadata": {
     "collapsed": false
    },
    "source": []
   }
  },
  "varInspector": {
   "cols": {
    "lenName": 16,
    "lenType": 16,
    "lenVar": 40
   },
   "kernels_config": {
    "python": {
     "delete_cmd_postfix": "",
     "delete_cmd_prefix": "del ",
     "library": "var_list.py",
     "varRefreshCmd": "print(var_dic_list())"
    },
    "r": {
     "delete_cmd_postfix": ") ",
     "delete_cmd_prefix": "rm(",
     "library": "var_list.r",
     "varRefreshCmd": "cat(var_dic_list()) "
    }
   },
   "oldHeight": 284,
   "position": {
    "height": "283px",
    "left": "1050px",
    "right": "20px",
    "top": "120px",
    "width": "350px"
   },
   "types_to_exclude": [
    "module",
    "function",
    "builtin_function_or_method",
    "instance",
    "_Feature"
   ],
   "varInspector_section_display": "block",
   "window_display": false
  },
  "vscode": {
   "interpreter": {
    "hash": "ad2bdc8ecc057115af97d19610ffacc2b4e99fae6737bb82f5d7fb13d2f2c186"
   }
  }
 },
 "nbformat": 4,
 "nbformat_minor": 1
}
