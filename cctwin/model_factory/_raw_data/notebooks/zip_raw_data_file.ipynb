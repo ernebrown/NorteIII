{
 "cells": [
  {
   "cell_type": "code",
   "execution_count": null,
   "metadata": {
    "colab": {},
    "colab_type": "code",
    "id": "nAucBDX1xDeL",
    "pycharm": {
     "is_executing": false
    }
   },
   "outputs": [],
   "source": [
    "import pandas as pd\n",
    "import numpy as np\n",
    "from sklearn.linear_model import LinearRegression, RANSACRegressor\n",
    "import seaborn as sns\n",
    "%matplotlib inline\n",
    "#%matplotlib notebook\n",
    "pd.set_option('display.max_columns', 100)\n",
    "pd.set_option('display.precision', 2) \n",
    "from bokeh.plotting import figure,  show, gridplot\n",
    "from bokeh.io import output_notebook\n",
    "from bokeh.layouts import row, column;"
   ]
  },
  {
   "cell_type": "code",
   "execution_count": null,
   "metadata": {
    "pycharm": {
     "is_executing": false
    }
   },
   "outputs": [],
   "source": [
    "file_name_raw_data = \"../Norte3_TGA1_TGA2.csv\""
   ]
  },
  {
   "cell_type": "code",
   "execution_count": null,
   "metadata": {
    "colab": {},
    "colab_type": "code",
    "id": "mJjUT61gxDea",
    "pycharm": {
     "is_executing": false
    }
   },
   "outputs": [],
   "source": [
    "df=pd.read_csv(file_name_raw_data, encoding=\"ISO-8859-2\", low_memory=False)"
   ]
  },
  {
   "cell_type": "code",
   "execution_count": null,
   "metadata": {},
   "outputs": [],
   "source": [
    "cols=df.columns.tolist()"
   ]
  },
  {
   "cell_type": "code",
   "execution_count": null,
   "metadata": {},
   "outputs": [],
   "source": [
    "cols"
   ]
  },
  {
   "cell_type": "code",
   "execution_count": null,
   "metadata": {},
   "outputs": [],
   "source": [
    "# Not Used for Norte3\n",
    "# df[['Plant Daily Volumetric Fuel Flow Plant GC {Avg}','Fuel GC DENSITY Plant GC {Avg}',\n",
    "    # 'Fuel GC Heating Value HV BTU/ft3 Plant GC {Avg}']].describe()"
   ]
  },
  {
   "cell_type": "code",
   "execution_count": null,
   "metadata": {},
   "outputs": [],
   "source": [
    "# Not Used for Norte3\n",
    "# df['Fuel GC DENSITY Plant GC {Avg}']=df['Fuel GC DENSITY Plant GC {Avg}'].apply(lambda x: 0.6 if (x<=0.5 or x>0.6) else x)"
   ]
  },
  {
   "cell_type": "code",
   "execution_count": null,
   "metadata": {},
   "outputs": [],
   "source": [
    "# Not Used for Norte3\n",
    "# df['Fuel GC Heating Value HV BTU/ft3 Plant GC {Avg}']=df['Fuel GC Heating Value HV BTU/ft3 Plant GC {Avg}'].apply(\n",
    "    # lambda x: 1020 if x<500 else x)"
   ]
  },
  {
   "cell_type": "code",
   "execution_count": null,
   "metadata": {},
   "outputs": [],
   "source": [
    "# Not Used for Norte3\n",
    "# df[['Plant Daily Volumetric Fuel Flow Plant GC {Avg}','Fuel GC DENSITY Plant GC {Avg}',\n",
    "    # 'Fuel GC Heating Value HV BTU/ft3 Plant GC {Avg}']].describe()"
   ]
  },
  {
   "cell_type": "code",
   "execution_count": null,
   "metadata": {},
   "outputs": [],
   "source": [
    "# Not Used for Norte3\n",
    "# df['HRSG3_DB_MMBTU']=df['HR 3001 DBU MAIN GAS FLOW TRANSMITTER {Avg}']*df['Fuel GC Heating Value HV BTU/ft3 Plant GC {Avg}']/1000000\n",
    "# df['HRSG4_DB_MMBTU']=df['HR 4001 DBU MAIN GAS FLOW TRANSMITTER {Avg}']*df['Fuel GC Heating Value HV BTU/ft3 Plant GC {Avg}']/1000000"
   ]
  },
  {
   "cell_type": "code",
   "execution_count": null,
   "metadata": {},
   "outputs": [],
   "source": [
    "# Not Used for Norte3\n",
    "# df['Total Plant Fuel MMBTU_hr']=(df['Plant Daily Energy Fuel Flow Supplier 1 {Avg}']+df['Plant Daily Energy Fuel Flow Supplier 2 {Avg}'])/(2*24)"
   ]
  },
  {
   "cell_type": "markdown",
   "metadata": {},
   "source": [
    "fuelValue=(fuelValue * 3.6) / (relDensity * airDensity) * heatingValue / 1000\n",
    "\n",
    "Typical Relative Density (Sp. Gravity) for natural gas = 0.6\n",
    "\n",
    "Air Density = 0.07614 lb/ft3"
   ]
  },
  {
   "cell_type": "code",
   "execution_count": null,
   "metadata": {},
   "outputs": [],
   "source": [
    "# Not Used for Norte3\n",
    "# airdensity=0.07614"
   ]
  },
  {
   "cell_type": "code",
   "execution_count": null,
   "metadata": {},
   "outputs": [],
   "source": [
    "# Not Used for Norte3\n",
    "# df['GT3 Fuel Energy Flow MMBTU']=((df['GT3 Gas Fuel Flow {Avg}']*3.6)/(\n",
    "    # df['Fuel GC DENSITY Plant GC {Avg}']*airdensity))*(df['Fuel GC Heating Value HV BTU/ft3 Plant GC {Avg}']/1000)"
   ]
  },
  {
   "cell_type": "code",
   "execution_count": null,
   "metadata": {},
   "outputs": [],
   "source": [
    "# Not Used for Norte3\n",
    "# df['GT3 Fuel Energy Flow MMBTU'].describe()"
   ]
  },
  {
   "cell_type": "code",
   "execution_count": null,
   "metadata": {},
   "outputs": [],
   "source": [
    "# Not Used for Norte3\n",
    "# df['GT4 Fuel Energy Flow MMBTU']=((df['GT4 Gas Fuel Flow {Avg}']*3.6)/(\n",
    "    # df['Fuel GC DENSITY Plant GC {Avg}']*airdensity))*(df['Fuel GC Heating Value HV BTU/ft3 Plant GC {Avg}']/1000)"
   ]
  },
  {
   "cell_type": "code",
   "execution_count": null,
   "metadata": {},
   "outputs": [],
   "source": [
    "# Not Used for Norte3\n",
    "# df['GT4 Fuel Energy Flow MMBTU'].describe()"
   ]
  },
  {
   "cell_type": "code",
   "execution_count": null,
   "metadata": {},
   "outputs": [],
   "source": [
    "# Not Used for Norte3\n",
    "# df['GT4_CPD_Median']=df[['GT4 Compressor Discharge Press Transd. 96CD-1 {Avg}',\n",
    "                        # 'GT4 Compressor Discharge Press Transd. 96CD-1B {Avg}',\n",
    "                        # 'GT4 Compressor Discharge Press Transd. 96CD-1C {Avg}']].median(axis=1)\n",
    "# df['GT4_CPD_Median'].describe()"
   ]
  },
  {
   "cell_type": "code",
   "execution_count": null,
   "metadata": {},
   "outputs": [],
   "source": [
    "# Not Used for Norte3\n",
    "# df['GT3_CPD_Median']=df[['GT3 Compressor Discharge Press Transd. 96CD-1 {Avg}',\n",
    "                        # 'GT3 Compressor Discharge Press Transd. 96CD-1B {Avg}',\n",
    "                        # 'GT3 Compressor Discharge Press Transd. 96CD-1C {Avg}']].median(axis=1)\n",
    "# df['GT3_CPD_Median'].describe()"
   ]
  },
  {
   "cell_type": "code",
   "execution_count": null,
   "metadata": {},
   "outputs": [],
   "source": [
    "# Not Used for Norte3\n",
    "# df['GT3_CTD_Median']=df[['GT3 Compressor Discharge Thermocouple #1 {Avg}',\n",
    "                        # 'GT3 Compressor Discharge Thermocouple #2 {Avg}',\n",
    "                        # 'GT3 Compressor Discharge Thermocouple #3 {Avg}']].median(axis=1)\n",
    "# df['GT3_CTD_Median'].describe()"
   ]
  },
  {
   "cell_type": "code",
   "execution_count": null,
   "metadata": {},
   "outputs": [],
   "source": [
    "# Not Used for Norte3\n",
    "# df['GT4_CTD_Median']=df[['GT4 Compressor Discharge Thermocouple #1 {Avg}',\n",
    "                        # 'GT4 Compressor Discharge Thermocouple #2 {Avg}',\n",
    "                        # 'GT4 Compressor Discharge Thermocouple #3 {Avg}']].median(axis=1)\n",
    "# df['GT4_CTD_Median'].describe()"
   ]
  },
  {
   "cell_type": "markdown",
   "metadata": {},
   "source": [
    "df_nodb=df[(df['HRSG3_DB_MMBTU']<5)& (df['HRSG4_DB_MMBTU']<5)].reset_index(drop=True)"
   ]
  },
  {
   "cell_type": "markdown",
   "metadata": {},
   "source": [
    "dfbasegt=df_nodb[(df_nodb['GT3 IGV angle in deg {Avg}']>82)&\n",
    "                 (df_nodb['GT4 IGV angle in deg {Avg}']>82)].reset_index(drop=True)\n",
    "dfpartgt=df_nodb[(df_nodb['GT3 IGV angle in deg {Avg}']<=82)&\n",
    "                 (df_nodb['GT4 IGV angle in deg {Avg}']<=82)&(df_nodb['STG gross mw {Avg}']>75)].reset_index(drop=True)"
   ]
  },
  {
   "cell_type": "markdown",
   "metadata": {},
   "source": [
    "dfbasegt['gtmw']=(dfbasegt['GT3 Generator Watts Max Selected {Avg}']+dfbasegt['GT4 Generator Watts Max Selected {Avg}'])\n",
    "dfpartgt['gtmw']=(dfpartgt['GT3 Generator Watts Max Selected {Avg}']+dfpartgt['GT4 Generator Watts Max Selected {Avg}'])"
   ]
  },
  {
   "cell_type": "markdown",
   "metadata": {},
   "source": [
    "dfbasegt['gt3fuel']=(dfbasegt['Total Plant Fuel MMBTU_hr']*dfbasegt['GT3 Generator Watts Max Selected {Avg}'])/dfbasegt['gtmw']\n",
    "dfbasegt['gt4fuel']=(dfbasegt['Total Plant Fuel MMBTU_hr']*dfbasegt['GT4 Generator Watts Max Selected {Avg}'])/dfbasegt['gtmw']\n",
    "dfpartgt['gt3fuel']=(dfpartgt['Total Plant Fuel MMBTU_hr']*dfpartgt['GT3 Generator Watts Max Selected {Avg}'])/dfpartgt['gtmw']\n",
    "dfpartgt['gt4fuel']=(dfpartgt['Total Plant Fuel MMBTU_hr']*dfpartgt['GT4 Generator Watts Max Selected {Avg}'])/dfpartgt['gtmw']"
   ]
  },
  {
   "cell_type": "markdown",
   "metadata": {},
   "source": [
    "x_b_gt3,x_b_gt4=dfbasegt['GT3 Generator Watts Max Selected {Avg}'], dfbasegt['GT4 Generator Watts Max Selected {Avg}']\n",
    "y_b_gt3,y_b_gt4=dfbasegt['gt3fuel'], dfbasegt['gt4fuel']\n",
    "x_p_gt3,x_p_gt4=dfpartgt['GT3 Generator Watts Max Selected {Avg}'], dfpartgt['GT4 Generator Watts Max Selected {Avg}']\n",
    "y_p_gt3,y_p_gt4=dfpartgt['gt3fuel'], dfpartgt['gt4fuel']"
   ]
  },
  {
   "cell_type": "markdown",
   "metadata": {},
   "source": [
    "len(y_b_gt3)"
   ]
  },
  {
   "cell_type": "markdown",
   "metadata": {},
   "source": [
    "gt3base_ = RANSACRegressor(LinearRegression(),\n",
    "                         max_trials=100, \n",
    "                         min_samples=50, \n",
    "                         loss='absolute_loss', \n",
    "                         residual_threshold=25, \n",
    "                         random_state=2301)\n",
    "\n",
    "gt3base_=gt3base_.fit(x_b_gt3.values.reshape(-1,1), y_b_gt3)\n",
    "\n",
    "gt3base_pred=gt3base_.predict(x_b_gt3.values.reshape(-1,1))\n",
    "\n",
    "inlier_mask = gt3base_.inlier_mask_\n",
    "\n",
    "dfbasegt=dfbasegt.assign(normal_fuel = lambda im: inlier_mask)\n",
    "\n",
    "sns.lmplot(x='GT3 Generator Watts Max Selected {Avg}', y='gt3fuel', data=dfbasegt,hue=\"normal_fuel\",\n",
    "           height=8,fit_reg=True,scatter_kws={\"s\": 25},line_kws={\"color\":\"black\",\"linewidth\":4},ci=None)\n",
    "#base_df_clean = base_df[base_df[\"normal_mw\"]]"
   ]
  },
  {
   "cell_type": "markdown",
   "metadata": {},
   "source": [
    "gt4base_ = RANSACRegressor(LinearRegression(),\n",
    "                         max_trials=100, \n",
    "                         min_samples=50, \n",
    "                         loss='absolute_loss', \n",
    "                         residual_threshold=25, \n",
    "                         random_state=2301)\n",
    "\n",
    "gt4base_=gt4base_.fit(x_b_gt4.values.reshape(-1,1), y_b_gt4)\n",
    "\n",
    "gt4base_pred=gt4base_.predict(x_b_gt4.values.reshape(-1,1))\n",
    "\n",
    "inlier_mask = gt4base_.inlier_mask_\n",
    "\n",
    "dfbasegt=dfbasegt.assign(normal_fuel = lambda im: inlier_mask)\n",
    "\n",
    "sns.lmplot(x='GT4 Generator Watts Max Selected {Avg}', y='gt4fuel', data=dfbasegt,hue=\"normal_fuel\",\n",
    "           height=8,fit_reg=True,scatter_kws={\"s\": 25},line_kws={\"color\":\"black\",\"linewidth\":4},ci=None)\n",
    "#base_df_clean = base_df[base_df[\"normal_mw\"]]"
   ]
  },
  {
   "cell_type": "markdown",
   "metadata": {},
   "source": [
    "gt3part_ = RANSACRegressor(LinearRegression(),\n",
    "                         max_trials=100, \n",
    "                         min_samples=50, \n",
    "                         loss='absolute_loss', \n",
    "                         residual_threshold=25, \n",
    "                         random_state=2301)\n",
    "\n",
    "gt3part_=gt3part_.fit(x_p_gt3.values.reshape(-1,1), y_p_gt3)\n",
    "\n",
    "gt3part_pred=gt3part_.predict(x_p_gt3.values.reshape(-1,1))\n",
    "\n",
    "inlier_mask = gt3part_.inlier_mask_\n",
    "\n",
    "dfpartgt=dfpartgt.assign(normal_fuel = lambda im: inlier_mask)\n",
    "\n",
    "sns.lmplot(x='GT3 Generator Watts Max Selected {Avg}', y='gt3fuel', data=dfpartgt,hue=\"normal_fuel\",\n",
    "           height=8,fit_reg=True,scatter_kws={\"s\": 25},line_kws={\"color\":\"black\",\"linewidth\":4},ci=None)\n",
    "#base_df_clean = base_df[base_df[\"normal_mw\"]]"
   ]
  },
  {
   "cell_type": "markdown",
   "metadata": {},
   "source": [
    "gt4part_ = RANSACRegressor(LinearRegression(),\n",
    "                         max_trials=100, \n",
    "                         min_samples=50, \n",
    "                         loss='absolute_loss', \n",
    "                         residual_threshold=25, \n",
    "                         random_state=2301)\n",
    "\n",
    "gt4part_=gt4part_.fit(x_p_gt4.values.reshape(-1,1), y_p_gt4)\n",
    "\n",
    "gt4part_pred=gt4part_.predict(x_p_gt4.values.reshape(-1,1))\n",
    "\n",
    "inlier_mask = gt4part_.inlier_mask_\n",
    "\n",
    "dfpartgt=dfpartgt.assign(normal_fuel = lambda im: inlier_mask)\n",
    "\n",
    "sns.lmplot(x='GT4 Generator Watts Max Selected {Avg}', y='gt4fuel', data=dfpartgt,hue=\"normal_fuel\",\n",
    "           height=8,fit_reg=True,scatter_kws={\"s\": 25},line_kws={\"color\":\"black\",\"linewidth\":4},ci=None)\n",
    "#base_df_clean = base_df[base_df[\"normal_mw\"]]"
   ]
  },
  {
   "cell_type": "markdown",
   "metadata": {},
   "source": [
    "def getfuel(row,model_list):\n",
    "    if row[0]==0:\n",
    "        return 0\n",
    "    elif row[1]>82:\n",
    "        return model_list[0].predict(row[0].reshape(1,-1))[0]+10*np.random.normal(loc=0.0,\n",
    "                                                                            scale=1.5,\n",
    "                                                                            size=(1))[0]\n",
    "    else: \n",
    "        return model_list[1].predict(row[0].reshape(1,-1))[0]+10*np.random.normal(loc=0.0,\n",
    "                                                                            scale=1.5,\n",
    "                                                                            size=(1))[0]"
   ]
  },
  {
   "cell_type": "markdown",
   "metadata": {},
   "source": [
    "df['GT3 Fuel Energy Flow MMBTU']=df[['GT3 Generator Watts Max Selected {Avg}',\n",
    "                                     'GT3 IGV angle in deg {Avg}']].apply(lambda x: \n",
    "                                                                          getfuel(x,[gt3base_,gt3part_]),axis=1)"
   ]
  },
  {
   "cell_type": "markdown",
   "metadata": {},
   "source": [
    "df['GT4 Fuel Energy Flow MMBTU']=df[['GT4 Generator Watts Max Selected {Avg}',\n",
    "                                     'GT4 IGV angle in deg {Avg}']].apply(lambda x: \n",
    "                                                                          getfuel(x,[gt4base_,gt4part_]),axis=1)"
   ]
  },
  {
   "cell_type": "markdown",
   "metadata": {},
   "source": [
    "df['GT4 Fuel Energy Flow MMBTU']"
   ]
  },
  {
   "cell_type": "markdown",
   "metadata": {},
   "source": [
    "df[['HRSG3_DB_MMBTU','HRSG4_DB_MMBTU','Total Plant Fuel MMBTU_hr',\n",
    "   'GT3 Fuel Energy Flow MMBTU','GT4 Fuel Energy Flow MMBTU','ONYX FG GC DENSITY {Avg}',\n",
    "   'ONYX FG GC BTU HV BTU/ft3 {Avg}']].describe()"
   ]
  },
  {
   "cell_type": "code",
   "execution_count": null,
   "metadata": {},
   "outputs": [],
   "source": [
    "# Not Used for Norte3\n",
    "# df['Relative Humidity {Avg}']=df['Relative Humidity {Avg}']/100"
   ]
  },
  {
   "cell_type": "code",
   "execution_count": null,
   "metadata": {},
   "outputs": [],
   "source": [
    "# Not Used for Norte3\n",
    "# df['SITE AMBIENT CONDITIONS REL HUMIDITY {Avg}']=df['SITE AMBIENT CONDITIONS REL HUMIDITY {Avg}']/100"
   ]
  },
  {
   "cell_type": "code",
   "execution_count": null,
   "metadata": {
    "pycharm": {
     "is_executing": false,
     "name": "#%%\n"
    }
   },
   "outputs": [],
   "source": [
    "gzip_file_name = '../Norte3_TGA1_TGA2.gzip'"
   ]
  },
  {
   "cell_type": "code",
   "execution_count": null,
   "metadata": {
    "pycharm": {
     "is_executing": false,
     "name": "#%%\n"
    }
   },
   "outputs": [],
   "source": [
    "df.to_csv(gzip_file_name, \n",
    "          encoding='ISO-8859-1',\n",
    "          sep=',',\n",
    "          index=False,\n",
    "          compression=\"gzip\")\n",
    "\n",
    "\n"
   ]
  }
 ],
 "metadata": {
  "colab": {
   "name": "CTG_Ranf.ipynb",
   "provenance": [],
   "version": "0.3.2"
  },
  "kernelspec": {
   "display_name": "Python 3 (ipykernel)",
   "language": "python",
   "name": "python3"
  },
  "language_info": {
   "codemirror_mode": {
    "name": "ipython",
    "version": 3
   },
   "file_extension": ".py",
   "mimetype": "text/x-python",
   "name": "python",
   "nbconvert_exporter": "python",
   "pygments_lexer": "ipython3",
   "version": "3.7.9"
  },
  "pycharm": {
   "stem_cell": {
    "cell_type": "raw",
    "metadata": {
     "collapsed": false
    },
    "source": []
   }
  },
  "varInspector": {
   "cols": {
    "lenName": 16,
    "lenType": 16,
    "lenVar": 40
   },
   "kernels_config": {
    "python": {
     "delete_cmd_postfix": "",
     "delete_cmd_prefix": "del ",
     "library": "var_list.py",
     "varRefreshCmd": "print(var_dic_list())"
    },
    "r": {
     "delete_cmd_postfix": ") ",
     "delete_cmd_prefix": "rm(",
     "library": "var_list.r",
     "varRefreshCmd": "cat(var_dic_list()) "
    }
   },
   "oldHeight": 284,
   "position": {
    "height": "306px",
    "left": "1050px",
    "right": "20px",
    "top": "120px",
    "width": "350px"
   },
   "types_to_exclude": [
    "module",
    "function",
    "builtin_function_or_method",
    "instance",
    "_Feature"
   ],
   "varInspector_section_display": "block",
   "window_display": false
  }
 },
 "nbformat": 4,
 "nbformat_minor": 1
}
