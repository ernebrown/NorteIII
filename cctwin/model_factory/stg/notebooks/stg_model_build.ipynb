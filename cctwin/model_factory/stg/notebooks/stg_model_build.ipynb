{
 "cells": [
  {
   "cell_type": "code",
   "execution_count": null,
   "metadata": {
    "colab": {},
    "colab_type": "code",
    "id": "nAucBDX1xDeL",
    "pycharm": {
     "is_executing": false
    }
   },
   "outputs": [],
   "source": [
    "'''\n",
    "Data munging libraries\n",
    "\n",
    "'''\n",
    "import random\n",
    "\n",
    "import numpy as np\n",
    "import pandas as pd\n",
    "import statsmodels.api as sm\n",
    "\n",
    "import joblib\n",
    "'''\n",
    "Visualization Libraries\n",
    "\n",
    "'''\n",
    "import seaborn as sns\n",
    "%matplotlib inline\n",
    "#%matplotlib notebook\n",
    "pd.set_option('display.max_columns', 100)\n",
    "pd.set_option('display.precision', 2) \n",
    "from bokeh.plotting import figure,  show, gridplot\n",
    "from bokeh.io import output_notebook\n",
    "from bokeh.layouts import row, column\n",
    "\n",
    "'''\n",
    "ML libraries\n",
    "\n",
    "'''\n",
    "\n",
    "from sklearn.multioutput import MultiOutputRegressor\n",
    "from sklearn.preprocessing import StandardScaler, PolynomialFeatures\n",
    "from sklearn.decomposition import PCA\n",
    "from sklearn.neural_network import MLPRegressor\n",
    "from sklearn.linear_model import LinearRegression, RANSACRegressor\n",
    "from sklearn.model_selection import GridSearchCV, train_test_split, cross_val_score;\n",
    "from sklearn.model_selection import  train_test_split ;\n",
    "from sklearn.pipeline import Pipeline;"
   ]
  },
  {
   "cell_type": "markdown",
   "metadata": {},
   "source": [
    "# Define file name of model_data¶"
   ]
  },
  {
   "cell_type": "code",
   "execution_count": null,
   "metadata": {
    "pycharm": {
     "is_executing": false
    }
   },
   "outputs": [],
   "source": [
    "file_name_model_data = \"../model_data/stg_model_data_new.gzip\""
   ]
  },
  {
   "cell_type": "code",
   "execution_count": null,
   "metadata": {
    "pycharm": {
     "is_executing": false
    }
   },
   "outputs": [],
   "source": [
    "model_df=pd.read_csv(file_name_model_data, compression='gzip' ,encoding=\"ISO-8859-2\")"
   ]
  },
  {
   "cell_type": "code",
   "execution_count": null,
   "metadata": {
    "colab": {},
    "colab_type": "code",
    "id": "mJjUT61gxDea",
    "pycharm": {
     "is_executing": false
    }
   },
   "outputs": [],
   "source": [
    "model_df.describe()"
   ]
  },
  {
   "cell_type": "code",
   "execution_count": null,
   "metadata": {},
   "outputs": [],
   "source": [
    "model_df.info()"
   ]
  },
  {
   "cell_type": "markdown",
   "metadata": {},
   "source": [
    "# Steam Turbine Model"
   ]
  },
  {
   "cell_type": "code",
   "execution_count": null,
   "metadata": {
    "pycharm": {
     "is_executing": false
    }
   },
   "outputs": [],
   "source": [
    "mw1='GT3 Generator Watts Max Selected {Avg}'\n",
    "mw2='GT4 Generator Watts Max Selected {Avg}'\n",
    "# std1 = 'GT3 Generator Watts Max Selected {StdDev}'\n",
    "# std2 = 'GT4 Generator Watts Max Selected {StdDev}'\n",
    "hpflow1 = 'HRSG 3 HP STEAM FLOW {KPPH}'\n",
    "crhflow1 = \"HRSG 3 COLD REHEAT STEAM FLOW DUALSEL {KPPH}\"\n",
    "ipflow1 = \"HRSG 3 DUALSEL IP STEAM FLOW {KPPH}\"\n",
    "lpflow1 = 'HRSG 3 LP STEAM FLOW {KPPH}'\n",
    "dbfuel1 = 'HRSG3_DB_MMBTU'\n",
    "\n",
    "hpflow2 = 'HRSG 4 HP STEAM FLOW {KPPH}'\n",
    "crhflow2 = \"HRSG 4 COLD REHEAT STEAM FLOW DUALSEL {KPPH}\"\n",
    "ipflow2 = \"HRSG 4 DUALSEL IP STEAM FLOW {KPPH}\"\n",
    "lpflow2 = 'HRSG 4 LP STEAM FLOW {KPPH}'\n",
    "dbfuel2 = 'HRSG4_DB_MMBTU'\n",
    "#ipflow2 = 'HRSG 9 COLD REHEAT STEAM FLOW DUALSEL {Avg}'\n",
    "\n",
    "\n",
    "stgmw = \"STG gross mw {Avg}\"\n",
    "#stgstd = \"STG gross mw {StdDev}\"\n",
    "backpress = \"Exhaust Vacuum {Avg}\"\n",
    "#bpstd = \"Exhaust Vacuum {StdDev}\"\n",
    "\n",
    "gt3amb= \"GT3 Inlet Duct Temperature {Avg}\"\n",
    "gt4amb= \"GT4 Inlet Duct Temperature {Avg}\"\n",
    "watertemp = \"CND CIRC WTR INLET TEMPERATURE {Avg}\"\n",
    "baro='SITE AMBIENT CONDITIONS BARO PRESS XMTR {Avg}'\n",
    "rh='SITE AMBIENT CONDITIONS REL HUMIDITY {Avg}'\n",
    "amb='Dry Bulb Temp {Avg}'\n"
   ]
  },
  {
   "cell_type": "code",
   "execution_count": null,
   "metadata": {
    "pycharm": {
     "is_executing": false
    }
   },
   "outputs": [],
   "source": [
    "mydf = model_df[(model_df[watertemp]>0)&\n",
    "                (model_df[stgmw]>45)\n",
    "               ].reset_index(drop=True)\n",
    "#waterdf = mydf[[drybulb, rh, watertemp, backpress1,backpress2,backpress3,hpsteam1,hpsteam2,hrhflow1,hrhflow2,baro]]"
   ]
  },
  {
   "cell_type": "code",
   "execution_count": null,
   "metadata": {},
   "outputs": [],
   "source": [
    "model_df.columns"
   ]
  },
  {
   "cell_type": "code",
   "execution_count": null,
   "metadata": {},
   "outputs": [],
   "source": [
    "mydf['amb']=mydf[amb]#(mydf[gt3amb]+mydf[gt4amb])/2"
   ]
  },
  {
   "cell_type": "code",
   "execution_count": null,
   "metadata": {
    "pycharm": {
     "is_executing": false
    }
   },
   "outputs": [],
   "source": [
    "gt1on='GT3_on'\n",
    "gt2on='GT4_on'\n",
    "mydf[gt1on]=mydf[mw1].apply(lambda x: 1 if x>5 else 0)\n",
    "mydf[gt2on]=mydf[mw2].apply(lambda x: 1 if x>5 else 0)"
   ]
  },
  {
   "cell_type": "code",
   "execution_count": null,
   "metadata": {
    "pycharm": {
     "is_executing": false
    }
   },
   "outputs": [],
   "source": [
    "mydf['HRH 3 Flow']=mydf[crhflow1]+mydf[ipflow1]\n",
    "mydf['HRH 4 Flow']=mydf[crhflow2]+mydf[ipflow2]"
   ]
  },
  {
   "cell_type": "code",
   "execution_count": null,
   "metadata": {
    "pycharm": {
     "is_executing": false
    }
   },
   "outputs": [],
   "source": [
    "hrhflow1='HRH 3 Flow'\n",
    "hrhflow2='HRH 4 Flow'"
   ]
  },
  {
   "cell_type": "code",
   "execution_count": null,
   "metadata": {
    "pycharm": {
     "is_executing": false
    }
   },
   "outputs": [],
   "source": [
    "waterdf = mydf"
   ]
  },
  {
   "cell_type": "code",
   "execution_count": null,
   "metadata": {
    "pycharm": {
     "is_executing": false
    }
   },
   "outputs": [],
   "source": [
    "waterdf['HP_flow']=waterdf[hpflow1]*waterdf[gt1on]+waterdf[hpflow2]*waterdf[gt2on]\n",
    "waterdf['LP_flow']=waterdf[lpflow1]*waterdf[gt1on]+waterdf[lpflow2]*waterdf[gt2on]\n",
    "waterdf['HRH_flow']=(waterdf[crhflow1]+waterdf[ipflow1])*waterdf[gt1on]+(waterdf[crhflow2]+waterdf[ipflow2])*waterdf[gt2on]"
   ]
  },
  {
   "cell_type": "code",
   "execution_count": null,
   "metadata": {},
   "outputs": [],
   "source": [
    "def model_pca(pca_frac=None,layers=(40,40),es=True,n_iter=200,tol=0.0001,patience=10,random=2301):\n",
    "    ppl=Pipeline([('scaler',StandardScaler()),('pca',PCA(n_components=pca_frac,random_state=random)),\n",
    "                  ('estimator',MLPRegressor(hidden_layer_sizes=layers,\n",
    "                                            early_stopping=es,\n",
    "                                            tol=tol,max_iter=n_iter,random_state=random,n_iter_no_change=patience))\n",
    "                 ])\n",
    "    return ppl"
   ]
  },
  {
   "cell_type": "code",
   "execution_count": null,
   "metadata": {},
   "outputs": [],
   "source": [
    "def model(layers=(40,40),es=True,n_iter=200,tol=0.0001,patience=20):\n",
    "    ppl=Pipeline([('scaler',StandardScaler()),\n",
    "                  ('estimator',MLPRegressor(hidden_layer_sizes=layers,\n",
    "                                            early_stopping=es,tol=tol,max_iter=n_iter,\n",
    "                                            random_state=2301,n_iter_no_change=patience))\n",
    "                 ])\n",
    "    return ppl"
   ]
  },
  {
   "cell_type": "code",
   "execution_count": null,
   "metadata": {},
   "outputs": [],
   "source": [
    "def model_lm_pca(pca_frac=None,random=2301):\n",
    "    ppl=Pipeline([('scaler',StandardScaler()),('pca',PCA(n_components=pca_frac,random_state=random)),\n",
    "                  ('estimator',LinearRegression())\n",
    "                 ])\n",
    "    return ppl"
   ]
  },
  {
   "cell_type": "code",
   "execution_count": null,
   "metadata": {},
   "outputs": [],
   "source": [
    "def model_poly_pca(pca_frac=None,random=2301):\n",
    "    ppl=Pipeline([('scaler',StandardScaler()),('pca',PCA(n_components=pca_frac,random_state=random)),\n",
    "                  ('quadratic',PolynomialFeatures()),\n",
    "                  ('estimator',LinearRegression())\n",
    "                 ])\n",
    "    return ppl"
   ]
  },
  {
   "cell_type": "code",
   "execution_count": null,
   "metadata": {
    "pycharm": {
     "is_executing": false
    }
   },
   "outputs": [],
   "source": [
    "## backpressure model\n",
    "x =waterdf[['HP_flow','amb',rh,baro]]\n",
    "y = waterdf[backpress]\n",
    "#bp_rf = RandomForestRegressor(max_depth=20,n_estimators=300, random_state=6567)\n",
    "#bp_ = model_pca(layers=(200,200,200),n_iter=500)\n",
    "bp_ = model_poly_pca()\n",
    "bp_=bp_.fit(x,y)\n"
   ]
  },
  {
   "cell_type": "code",
   "execution_count": null,
   "metadata": {
    "pycharm": {
     "is_executing": false
    }
   },
   "outputs": [],
   "source": [
    "# residual plot\n",
    "pred = bp_.predict(x)\n",
    "err = y - pred\n",
    "\n",
    "output_notebook()\n",
    "t1 = figure(plot_width=350, plot_height=350,title=\"Residual Plot\", x_axis_label='Index', \n",
    "            y_axis_label='Error')\n",
    "t1.scatter(list(range(len(err))), err)\n",
    "show(t1)\n",
    "print(np.sqrt(np.var(err)))\n",
    "print(np.mean(np.abs((y - pred) / y)))"
   ]
  },
  {
   "cell_type": "code",
   "execution_count": null,
   "metadata": {
    "pycharm": {
     "is_executing": false
    }
   },
   "outputs": [],
   "source": [
    "output_notebook()\n",
    "t1 = figure(plot_width=350, plot_height=350,title=\"pred vs actual\", x_axis_label='actual', \n",
    "            y_axis_label='pred')\n",
    "t1.scatter(y,pred)\n",
    "show(t1)"
   ]
  },
  {
   "cell_type": "code",
   "execution_count": null,
   "metadata": {},
   "outputs": [],
   "source": [
    "waterdf['bperr']=abs(err)"
   ]
  },
  {
   "cell_type": "code",
   "execution_count": null,
   "metadata": {},
   "outputs": [],
   "source": [
    "## backpressure model\n",
    "x =waterdf[waterdf['bperr']<0.5][['HP_flow','amb',rh,baro]]\n",
    "y = waterdf[waterdf['bperr']<0.5][backpress]\n",
    "#bp_rf = RandomForestRegressor(max_depth=20,n_estimators=300, random_state=6567)\n",
    "#bp_ = model_pca(layers=(200,200,200),n_iter=500)\n",
    "bp_ = model_poly_pca()\n",
    "bp_=bp_.fit(x,y)"
   ]
  },
  {
   "cell_type": "code",
   "execution_count": null,
   "metadata": {},
   "outputs": [],
   "source": [
    "pred = bp_.predict(x)\n",
    "output_notebook()\n",
    "t1 = figure(plot_width=350, plot_height=350,title=\"pred vs actual\", x_axis_label='actual', \n",
    "            y_axis_label='pred')\n",
    "t1.scatter(y,pred)\n",
    "show(t1)"
   ]
  },
  {
   "cell_type": "code",
   "execution_count": null,
   "metadata": {
    "pycharm": {
     "is_executing": false
    }
   },
   "outputs": [],
   "source": [
    "total_hp_flow=waterdf['HP_flow']\n",
    "total_hrh_flow=waterdf['HRH_flow']\n",
    "total_lp_flow=waterdf['LP_flow']\n",
    "back_press = waterdf[backpress]\n",
    "waterdf['hp_hrh_lp_flow']=total_hp_flow+total_hrh_flow+total_lp_flow"
   ]
  },
  {
   "cell_type": "code",
   "execution_count": null,
   "metadata": {
    "pycharm": {
     "is_executing": false
    }
   },
   "outputs": [],
   "source": [
    "#newflow=total_hp_flow+total_hrh_flow\n",
    "#newpress=wa_hp_press+wa_hrh_press"
   ]
  },
  {
   "cell_type": "code",
   "execution_count": null,
   "metadata": {
    "pycharm": {
     "is_executing": false
    }
   },
   "outputs": [],
   "source": [
    "#x = pd.concat([pd.Series(total_hp_flow,name = 'total_hp_flow'),\n",
    "#               pd.Series(wa_hp_press, name = 'wa_hp_press'),\n",
    "#               pd.Series(wa_hp_temp, name = 'wa_hp_temp'),              \n",
    "#               pd.Series(total_hrh_flow,name = 'total_hrh_flow'),\n",
    "#               pd.Series(wa_hrh_press, name = 'wa_hrh_press'),\n",
    "#               pd.Series(wa_hrh_temp, name = 'wa_hrh_temp'),\n",
    "               \n",
    "#               pd.Series(back_press, name = 'backpressure')],axis=1)\n",
    "#y = waterdf[stgmw]"
   ]
  },
  {
   "cell_type": "code",
   "execution_count": null,
   "metadata": {
    "pycharm": {
     "is_executing": false
    }
   },
   "outputs": [],
   "source": [
    "# x = pd.concat([pd.Series(total_hp_flow,name = 'total_hp_flow'),\n",
    "#               pd.Series(wa_hp_press, name = 'wa_hp_press'),                          \n",
    "#               pd.Series(total_hrh_flow,name = 'total_hrh_flow'),\n",
    "#               pd.Series(wa_hrh_press, name = 'wa_hrh_press'),                              \n",
    "#               pd.Series(back_press, name = 'backpressure')],axis=1)\n",
    "# y = waterdf[stgmw]"
   ]
  },
  {
   "cell_type": "code",
   "execution_count": null,
   "metadata": {},
   "outputs": [],
   "source": [
    "stg_1x1df=waterdf[((waterdf[gt1on]+waterdf[gt2on])<2)&(waterdf[stgmw]>55)].reset_index(drop=True)\n",
    "stg_2x1df=waterdf[(waterdf[gt1on]+waterdf[gt2on])==2].reset_index(drop=True)"
   ]
  },
  {
   "cell_type": "code",
   "execution_count": null,
   "metadata": {},
   "outputs": [],
   "source": [
    "def addmw(row,add1x1=4,flow=450,scalef=1):\n",
    "    if row[1]>= 600:\n",
    "        mw=row[0]-add1x1*scalef\n",
    "    elif row[1]<400:\n",
    "        mw=row[0]\n",
    "    else:\n",
    "        mw=row[0]+add1x1*flow/row[1]\n",
    "    return mw"
   ]
  },
  {
   "cell_type": "markdown",
   "metadata": {},
   "source": [
    "# Only run the below line if 1x1 is problematic"
   ]
  },
  {
   "cell_type": "code",
   "execution_count": null,
   "metadata": {},
   "outputs": [],
   "source": [
    "#stg_1x1df['stgmw_mod']=stg_1x1df[[stgmw,'HP_flow']].apply(lambda x: addmw(x,scalef=1.5),axis=1)"
   ]
  },
  {
   "cell_type": "code",
   "execution_count": null,
   "metadata": {},
   "outputs": [],
   "source": [
    "#stg_1x1df[[stgmw,'stgmw_mod']]"
   ]
  },
  {
   "cell_type": "code",
   "execution_count": null,
   "metadata": {
    "pycharm": {
     "is_executing": false
    }
   },
   "outputs": [],
   "source": [
    "x=stg_1x1df[['HP_flow','amb',rh,baro]]\n",
    "y = stg_1x1df[stgmw]"
   ]
  },
  {
   "cell_type": "code",
   "execution_count": null,
   "metadata": {},
   "outputs": [],
   "source": [
    "#stg1x1_=model(layers=(200,200,200),n_iter=500)\n",
    "stg1x1_=model_poly_pca()\n",
    "stg1x1_=stg1x1_.fit(x,y)"
   ]
  },
  {
   "cell_type": "code",
   "execution_count": null,
   "metadata": {
    "pycharm": {
     "is_executing": false
    }
   },
   "outputs": [],
   "source": [
    "# residual plot\n",
    "pred1 = stg1x1_.predict(x)\n",
    "err1 = y - pred1\n",
    "\n",
    "\n",
    "output_notebook()\n",
    "t1 = figure(plot_width=350, plot_height=350,title=\"Residual Plot\", x_axis_label='Index', \n",
    "            y_axis_label='Error')\n",
    "t1.scatter(list(range(len(err1))), err1)\n",
    "show(t1)\n",
    "\n",
    "\n",
    "print(np.sqrt(np.var(err1)))\n",
    "print(np.mean(np.abs((y - pred1) / y)))\n",
    "\n"
   ]
  },
  {
   "cell_type": "code",
   "execution_count": null,
   "metadata": {},
   "outputs": [],
   "source": [
    "output_notebook()\n",
    "t1 = figure(plot_width=350, plot_height=350,title=\"pred vs actual\", x_axis_label='actual', \n",
    "            y_axis_label='pred')\n",
    "t1.scatter(y,pred1)\n",
    "show(t1)"
   ]
  },
  {
   "cell_type": "code",
   "execution_count": null,
   "metadata": {},
   "outputs": [],
   "source": [
    "# Remove outliers mw ~ cit\n",
    "ransac_1x1mw = RANSACRegressor(model_poly_pca(),\n",
    "                         max_trials=100, \n",
    "                         min_samples=50, \n",
    "                         loss='absolute_loss', \n",
    "                         residual_threshold=2, \n",
    "                         random_state=2301)\n",
    "\n",
    "ransac_1x1mw=ransac_1x1mw.fit(stg_1x1df[['HP_flow','amb',rh,baro]], stg_1x1df[stgmw])\n",
    "\n",
    "mw_pred=ransac_1x1mw.predict(stg_1x1df[['HP_flow','amb',rh,baro]])\n",
    "\n",
    "inlier_mask = ransac_1x1mw.inlier_mask_\n",
    "\n",
    "stg_1x1df=stg_1x1df.assign(normal_mw = lambda im: inlier_mask)\n",
    "stg_1x1df['mw_pred']=mw_pred\n",
    "\n",
    "sns.lmplot(x='mw_pred', y=stgmw, data=stg_1x1df,hue=\"normal_mw\", height=8,fit_reg=True,scatter_kws={\"s\": 25},\n",
    "           line_kws={\"color\":\"black\",\"linewidth\":4},ci=None)"
   ]
  },
  {
   "cell_type": "code",
   "execution_count": null,
   "metadata": {},
   "outputs": [],
   "source": [
    "stg_1x1dffiltr=stg_1x1df#.loc[5500:,].reset_index(drop=True)"
   ]
  },
  {
   "cell_type": "code",
   "execution_count": null,
   "metadata": {},
   "outputs": [],
   "source": [
    "# Remove outliers mw ~ cit\n",
    "ransac_1x1mw = RANSACRegressor(model_poly_pca(),\n",
    "                         max_trials=100, \n",
    "                         min_samples=50, \n",
    "                         loss='absolute_loss', \n",
    "                         residual_threshold=3, \n",
    "                         random_state=2301)\n",
    "\n",
    "ransac_1x1mw=ransac_1x1mw.fit(stg_1x1dffiltr[['HP_flow','amb',rh,baro]], stg_1x1dffiltr[stgmw])\n",
    "\n",
    "mw_pred=ransac_1x1mw.predict(stg_1x1dffiltr[['HP_flow','amb',rh,baro]])\n",
    "\n",
    "inlier_mask = ransac_1x1mw.inlier_mask_\n",
    "\n",
    "stg_1x1dffiltr=stg_1x1dffiltr.assign(normal_mw = lambda im: inlier_mask)\n",
    "\n",
    "sns.lmplot(x='HP_flow', y=stgmw, data=stg_1x1dffiltr,hue=\"normal_mw\", height=8,fit_reg=True,scatter_kws={\"s\": 25},\n",
    "           line_kws={\"color\":\"black\",\"linewidth\":4},ci=None)"
   ]
  },
  {
   "cell_type": "code",
   "execution_count": null,
   "metadata": {},
   "outputs": [],
   "source": [
    "stg_1x1dfclean = stg_1x1dffiltr[stg_1x1dffiltr[\"normal_mw\"]].reset_index(drop=True)"
   ]
  },
  {
   "cell_type": "code",
   "execution_count": null,
   "metadata": {
    "pycharm": {
     "is_executing": false
    }
   },
   "outputs": [],
   "source": [
    "x=stg_1x1dfclean[['HP_flow','amb',rh,baro]]\n",
    "y = stg_1x1dfclean[stgmw]"
   ]
  },
  {
   "cell_type": "code",
   "execution_count": null,
   "metadata": {},
   "outputs": [],
   "source": [
    "#stg1x1_=model(layers=(200,200,200),n_iter=500)\n",
    "stg1x1_=model_poly_pca()\n",
    "stg1x1_=stg1x1_.fit(x,y)"
   ]
  },
  {
   "cell_type": "code",
   "execution_count": null,
   "metadata": {
    "pycharm": {
     "is_executing": false
    }
   },
   "outputs": [],
   "source": [
    "# residual plot\n",
    "pred1 = stg1x1_.predict(x)\n",
    "err1 = y - pred1\n",
    "\n",
    "\n",
    "output_notebook()\n",
    "t1 = figure(plot_width=350, plot_height=350,title=\"Residual Plot\", x_axis_label='Index', \n",
    "            y_axis_label='Error')\n",
    "t1.scatter(list(range(len(err1))), err1)\n",
    "show(t1)\n",
    "\n",
    "\n",
    "print(np.sqrt(np.var(err1)))\n",
    "print(np.mean(np.abs((y - pred1) / y)))\n",
    "\n"
   ]
  },
  {
   "cell_type": "code",
   "execution_count": null,
   "metadata": {},
   "outputs": [],
   "source": [
    "output_notebook()\n",
    "t1 = figure(plot_width=350, plot_height=350,title=\"pred vs actual\", x_axis_label='actual', \n",
    "            y_axis_label='pred')\n",
    "t1.scatter(y,pred1)\n",
    "show(t1)"
   ]
  },
  {
   "cell_type": "code",
   "execution_count": null,
   "metadata": {},
   "outputs": [],
   "source": [
    "# Remove outliers mw ~ cit\n",
    "ransac_mw = RANSACRegressor(model_poly_pca(),\n",
    "                         max_trials=100, \n",
    "                         min_samples=50, \n",
    "                         loss='absolute_loss', \n",
    "                         residual_threshold=5, \n",
    "                         random_state=2301)\n",
    "\n",
    "ransac_mw=ransac_mw.fit(stg_2x1df[['HP_flow','amb',rh,baro]], stg_2x1df[stgmw])\n",
    "\n",
    "mw_pred=ransac_mw.predict(stg_2x1df[['HP_flow','amb',rh,baro]])\n",
    "\n",
    "inlier_mask = ransac_mw.inlier_mask_\n",
    "\n",
    "stg_2x1df=stg_2x1df.assign(normal_mw = lambda im: inlier_mask)\n",
    "\n",
    "stg_2x1df['mw_pred']=mw_pred\n",
    "\n",
    "sns.lmplot(x='mw_pred', y=stgmw, data=stg_2x1df,hue=\"normal_mw\", height=8,fit_reg=True,scatter_kws={\"s\": 25},\n",
    "           line_kws={\"color\":\"black\",\"linewidth\":4},ci=None)\n"
   ]
  },
  {
   "cell_type": "code",
   "execution_count": null,
   "metadata": {},
   "outputs": [],
   "source": [
    "stg_2x1dfclean = stg_2x1df[stg_2x1df[\"normal_mw\"]].reset_index(drop=True)"
   ]
  },
  {
   "cell_type": "code",
   "execution_count": null,
   "metadata": {},
   "outputs": [],
   "source": [
    "x=stg_2x1dfclean[['HP_flow','amb',rh,baro]]\n",
    "y = stg_2x1dfclean[stgmw]"
   ]
  },
  {
   "cell_type": "code",
   "execution_count": null,
   "metadata": {},
   "outputs": [],
   "source": [
    "stg2x1_=model_poly_pca()\n",
    "#stg2x1_=model_pca(layers=(200,200,200),n_iter=1000,patience=80)\n",
    "stg2x1_=stg2x1_.fit(x,y)"
   ]
  },
  {
   "cell_type": "code",
   "execution_count": null,
   "metadata": {},
   "outputs": [],
   "source": [
    "# residual plot\n",
    "pred1 = stg2x1_.predict(x)\n",
    "err1 = y - pred1\n",
    "\n",
    "\n",
    "output_notebook()\n",
    "t1 = figure(plot_width=350, plot_height=350,title=\"Residual Plot\", x_axis_label='Index', \n",
    "            y_axis_label='Error')\n",
    "t1.scatter(list(range(len(err1))), err1)\n",
    "show(t1)\n",
    "\n",
    "\n",
    "print(np.sqrt(np.var(err1)))\n",
    "print(np.mean(np.abs((y - pred1) / y)))\n"
   ]
  },
  {
   "cell_type": "code",
   "execution_count": null,
   "metadata": {},
   "outputs": [],
   "source": [
    "output_notebook()\n",
    "t1 = figure(plot_width=350, plot_height=350,title=\"pred vs actual\", x_axis_label='actual', \n",
    "            y_axis_label='pred')\n",
    "t1.scatter(y,pred1)\n",
    "show(t1)"
   ]
  },
  {
   "cell_type": "markdown",
   "metadata": {},
   "source": [
    "# The three cells below are for tuning stg at min load"
   ]
  },
  {
   "cell_type": "code",
   "execution_count": null,
   "metadata": {},
   "outputs": [],
   "source": [
    "# stg_2x1dffiltr1=stg_2x1dfclean.loc[7000:10000,:].reset_index(drop=True)\n",
    "# stg_2x1dffiltr2=stg_2x1dfclean.loc[11500:,:].reset_index(drop=True)\n",
    "# stg2x1low=stg_2x1dfclean[stg_2x1dfclean[stgmw]<150].reset_index(drop=True)\n",
    "# stg_2x1dfnew=pd.concat([stg_2x1dffiltr1,stg_2x1dffiltr1,stg2x1low])"
   ]
  },
  {
   "cell_type": "code",
   "execution_count": null,
   "metadata": {},
   "outputs": [],
   "source": [
    "# def addmw(row,add2x1=7,flow=800,scalef=1):\n",
    "#     if row[1]>= flow:\n",
    "#         mw=row[0]\n",
    "#     #elif row[1]<flow:\n",
    "#     else:\n",
    "#         mw=row[0]-add2x1*scalef\n",
    "#     #else:\n",
    "#     #    mw=row[0]+add1x1*flow/row[1]\n",
    "#     return mw"
   ]
  },
  {
   "cell_type": "code",
   "execution_count": null,
   "metadata": {},
   "outputs": [],
   "source": [
    "# stg_2x1dfnew['stgmw_mod']=stg_2x1dfnew[[stgmw,'HP_flow']].apply(lambda x: addmw(x),axis=1)"
   ]
  },
  {
   "cell_type": "code",
   "execution_count": null,
   "metadata": {},
   "outputs": [],
   "source": [
    "# x=stg_2x1dfnew[['HP_flow','amb',rh,baro]]\n",
    "# y = stg_2x1dfnew['stgmw_mod']"
   ]
  },
  {
   "cell_type": "code",
   "execution_count": null,
   "metadata": {},
   "outputs": [],
   "source": [
    "#stg2x1_=model_lm_pca()\n",
    "# stg2x1_=model_lm_pca()\n",
    "# stg2x1_=stg2x1_.fit(x,y)"
   ]
  },
  {
   "cell_type": "code",
   "execution_count": null,
   "metadata": {},
   "outputs": [],
   "source": [
    "# residual plot\n",
    "pred1 = stg2x1_.predict(x)\n",
    "err1 = y - pred1\n",
    "\n",
    "\n",
    "output_notebook()\n",
    "t1 = figure(plot_width=350, plot_height=350,title=\"Residual Plot\", x_axis_label='Index', \n",
    "            y_axis_label='Error')\n",
    "t1.scatter(list(range(len(err1))), err1)\n",
    "show(t1)\n",
    "\n",
    "\n",
    "print(np.sqrt(np.var(err1)))\n",
    "print(np.mean(np.abs((y - pred1) / y)))\n"
   ]
  },
  {
   "cell_type": "code",
   "execution_count": null,
   "metadata": {
    "pycharm": {
     "is_executing": false
    }
   },
   "outputs": [],
   "source": [
    "output_notebook()\n",
    "t1 = figure(plot_width=350, plot_height=350,title=\"pred vs actual\", x_axis_label='actual', \n",
    "            y_axis_label='pred')\n",
    "t1.scatter(y,pred1)\n",
    "show(t1)"
   ]
  },
  {
   "cell_type": "code",
   "execution_count": null,
   "metadata": {
    "pycharm": {
     "is_executing": false
    }
   },
   "outputs": [],
   "source": [
    "pkl = \"../../../pickles/stg.pkl\"\n",
    "\n",
    "models = {\n",
    "            'back_pressure<back_press><hp_flow|db|rh|baro>': bp_,            \n",
    "            'stg1x1<mw><hp_flow|db|rh|baro>': stg1x1_,\n",
    "            'stg2x1<mw><hp_flow|db|rh|baro>': stg2x1_\n",
    "            \n",
    "}\n",
    "\n",
    "with open(pkl, \"wb\") as f:\n",
    "    joblib.dump(models, f)\n",
    "    print(f'{f.name}')"
   ]
  },
  {
   "cell_type": "code",
   "execution_count": null,
   "metadata": {
    "pycharm": {
     "is_executing": false
    }
   },
   "outputs": [],
   "source": []
  }
 ],
 "metadata": {
  "colab": {
   "name": "CTG_Ranf.ipynb",
   "provenance": [],
   "version": "0.3.2"
  },
  "kernelspec": {
   "display_name": "Python 3",
   "language": "python",
   "name": "python3"
  },
  "language_info": {
   "codemirror_mode": {
    "name": "ipython",
    "version": 3
   },
   "file_extension": ".py",
   "mimetype": "text/x-python",
   "name": "python",
   "nbconvert_exporter": "python",
   "pygments_lexer": "ipython3",
   "version": "3.7.8"
  },
  "pycharm": {
   "stem_cell": {
    "cell_type": "raw",
    "metadata": {
     "collapsed": false
    },
    "source": []
   }
  },
  "varInspector": {
   "cols": {
    "lenName": 16,
    "lenType": 16,
    "lenVar": 40
   },
   "kernels_config": {
    "python": {
     "delete_cmd_postfix": "",
     "delete_cmd_prefix": "del ",
     "library": "var_list.py",
     "varRefreshCmd": "print(var_dic_list())"
    },
    "r": {
     "delete_cmd_postfix": ") ",
     "delete_cmd_prefix": "rm(",
     "library": "var_list.r",
     "varRefreshCmd": "cat(var_dic_list()) "
    }
   },
   "oldHeight": 284,
   "position": {
    "height": "40px",
    "left": "1050px",
    "right": "20px",
    "top": "120px",
    "width": "350px"
   },
   "types_to_exclude": [
    "module",
    "function",
    "builtin_function_or_method",
    "instance",
    "_Feature"
   ],
   "varInspector_section_display": "none",
   "window_display": true
  }
 },
 "nbformat": 4,
 "nbformat_minor": 1
}
